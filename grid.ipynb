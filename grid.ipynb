{
 "cells": [
  {
   "cell_type": "code",
   "execution_count": null,
   "metadata": {
    "_cell_guid": "b1076dfc-b9ad-4769-8c92-a6c4dae69d19",
    "_uuid": "8f2839f25d086af736a60e9eeb907d3b93b6e0e5",
    "execution": {
     "iopub.execute_input": "2025-05-20T16:28:22.110556Z",
     "iopub.status.busy": "2025-05-20T16:28:22.109716Z",
     "iopub.status.idle": "2025-05-20T16:28:29.395096Z",
     "shell.execute_reply": "2025-05-20T16:28:29.394246Z",
     "shell.execute_reply.started": "2025-05-20T16:28:22.110529Z"
    },
    "trusted": true
   },
   "outputs": [
    {
     "name": "stderr",
     "output_type": "stream",
     "text": [
      "\u001b[34m\u001b[1mwandb\u001b[0m: \u001b[33mWARNING\u001b[0m Calling wandb.login() after wandb.init() has no effect.\n"
     ]
    },
    {
     "data": {
      "text/html": [],
      "text/plain": [
       "<IPython.core.display.HTML object>"
      ]
     },
     "metadata": {},
     "output_type": "display_data"
    },
    {
     "data": {
      "text/html": [
       " View run <strong style=\"color:#cdcd00\">honest-frost-3</strong> at: <a href='https://wandb.ai/ishita49-indian-institute-of-technology-madras/grid/runs/dvm22dz5' target=\"_blank\">https://wandb.ai/ishita49-indian-institute-of-technology-madras/grid/runs/dvm22dz5</a><br> View project at: <a href='https://wandb.ai/ishita49-indian-institute-of-technology-madras/grid' target=\"_blank\">https://wandb.ai/ishita49-indian-institute-of-technology-madras/grid</a><br>Synced 5 W&B file(s), 0 media file(s), 0 artifact file(s) and 0 other file(s)"
      ],
      "text/plain": [
       "<IPython.core.display.HTML object>"
      ]
     },
     "metadata": {},
     "output_type": "display_data"
    },
    {
     "data": {
      "text/html": [
       "Find logs at: <code>./wandb/run-20250520_162603-dvm22dz5/logs</code>"
      ],
      "text/plain": [
       "<IPython.core.display.HTML object>"
      ]
     },
     "metadata": {},
     "output_type": "display_data"
    },
    {
     "data": {
      "text/html": [
       "Tracking run with wandb version 0.19.9"
      ],
      "text/plain": [
       "<IPython.core.display.HTML object>"
      ]
     },
     "metadata": {},
     "output_type": "display_data"
    },
    {
     "data": {
      "text/html": [
       "Run data is saved locally in <code>/kaggle/working/wandb/run-20250520_162822-kwzubbn5</code>"
      ],
      "text/plain": [
       "<IPython.core.display.HTML object>"
      ]
     },
     "metadata": {},
     "output_type": "display_data"
    },
    {
     "data": {
      "text/html": [
       "Syncing run <strong><a href='https://wandb.ai/ishita49-indian-institute-of-technology-madras/grid/runs/kwzubbn5' target=\"_blank\">daily-waterfall-4</a></strong> to <a href='https://wandb.ai/ishita49-indian-institute-of-technology-madras/grid' target=\"_blank\">Weights & Biases</a> (<a href='https://wandb.me/developer-guide' target=\"_blank\">docs</a>)<br>"
      ],
      "text/plain": [
       "<IPython.core.display.HTML object>"
      ]
     },
     "metadata": {},
     "output_type": "display_data"
    },
    {
     "data": {
      "text/html": [
       " View project at <a href='https://wandb.ai/ishita49-indian-institute-of-technology-madras/grid' target=\"_blank\">https://wandb.ai/ishita49-indian-institute-of-technology-madras/grid</a>"
      ],
      "text/plain": [
       "<IPython.core.display.HTML object>"
      ]
     },
     "metadata": {},
     "output_type": "display_data"
    },
    {
     "data": {
      "text/html": [
       " View run at <a href='https://wandb.ai/ishita49-indian-institute-of-technology-madras/grid/runs/kwzubbn5' target=\"_blank\">https://wandb.ai/ishita49-indian-institute-of-technology-madras/grid/runs/kwzubbn5</a>"
      ],
      "text/plain": [
       "<IPython.core.display.HTML object>"
      ]
     },
     "metadata": {},
     "output_type": "display_data"
    }
   ],
   "source": [
    "import pandas as pd\n",
    "import wandb\n",
    "# Initialize W&B run\n",
    "wandb.init(project=\"grid\")\n",
    "\n",
    "# Load the CSV file\n",
    "df = pd.read_csv(\"/kaggle/input/predictions-vanilla-csv/predictions_vanilla.csv\")\n",
    "\n",
    "# Optionally, select a few rows (e.g., first 10)\n",
    "sample_df = df.sample(n=10, random_state=42)\n",
    "\n",
    "# Create a W&B Table from the DataFrame\n",
    "table = wandb.Table(dataframe=sample_df)\n",
    "\n",
    "# Log the table under a key\n",
    "wandb.log({\"Grid - Predictions_vanilla\": table})\n"
   ]
  },
  {
   "cell_type": "code",
   "execution_count": 7,
   "metadata": {
    "execution": {
     "iopub.execute_input": "2025-05-20T16:30:20.324659Z",
     "iopub.status.busy": "2025-05-20T16:30:20.324308Z",
     "iopub.status.idle": "2025-05-20T16:30:27.416964Z",
     "shell.execute_reply": "2025-05-20T16:30:27.416072Z",
     "shell.execute_reply.started": "2025-05-20T16:30:20.324636Z"
    },
    "trusted": true
   },
   "outputs": [
    {
     "data": {
      "text/html": [],
      "text/plain": [
       "<IPython.core.display.HTML object>"
      ]
     },
     "metadata": {},
     "output_type": "display_data"
    },
    {
     "data": {
      "text/html": [
       " View run <strong style=\"color:#cdcd00\">daily-waterfall-4</strong> at: <a href='https://wandb.ai/ishita49-indian-institute-of-technology-madras/grid/runs/kwzubbn5' target=\"_blank\">https://wandb.ai/ishita49-indian-institute-of-technology-madras/grid/runs/kwzubbn5</a><br> View project at: <a href='https://wandb.ai/ishita49-indian-institute-of-technology-madras/grid' target=\"_blank\">https://wandb.ai/ishita49-indian-institute-of-technology-madras/grid</a><br>Synced 5 W&B file(s), 1 media file(s), 2 artifact file(s) and 0 other file(s)"
      ],
      "text/plain": [
       "<IPython.core.display.HTML object>"
      ]
     },
     "metadata": {},
     "output_type": "display_data"
    },
    {
     "data": {
      "text/html": [
       "Find logs at: <code>./wandb/run-20250520_162822-kwzubbn5/logs</code>"
      ],
      "text/plain": [
       "<IPython.core.display.HTML object>"
      ]
     },
     "metadata": {},
     "output_type": "display_data"
    },
    {
     "data": {
      "text/html": [
       "Tracking run with wandb version 0.19.9"
      ],
      "text/plain": [
       "<IPython.core.display.HTML object>"
      ]
     },
     "metadata": {},
     "output_type": "display_data"
    },
    {
     "data": {
      "text/html": [
       "Run data is saved locally in <code>/kaggle/working/wandb/run-20250520_163020-zzj5etpr</code>"
      ],
      "text/plain": [
       "<IPython.core.display.HTML object>"
      ]
     },
     "metadata": {},
     "output_type": "display_data"
    },
    {
     "data": {
      "text/html": [
       "Syncing run <strong><a href='https://wandb.ai/ishita49-indian-institute-of-technology-madras/grid/runs/zzj5etpr' target=\"_blank\">winter-dawn-5</a></strong> to <a href='https://wandb.ai/ishita49-indian-institute-of-technology-madras/grid' target=\"_blank\">Weights & Biases</a> (<a href='https://wandb.me/developer-guide' target=\"_blank\">docs</a>)<br>"
      ],
      "text/plain": [
       "<IPython.core.display.HTML object>"
      ]
     },
     "metadata": {},
     "output_type": "display_data"
    },
    {
     "data": {
      "text/html": [
       " View project at <a href='https://wandb.ai/ishita49-indian-institute-of-technology-madras/grid' target=\"_blank\">https://wandb.ai/ishita49-indian-institute-of-technology-madras/grid</a>"
      ],
      "text/plain": [
       "<IPython.core.display.HTML object>"
      ]
     },
     "metadata": {},
     "output_type": "display_data"
    },
    {
     "data": {
      "text/html": [
       " View run at <a href='https://wandb.ai/ishita49-indian-institute-of-technology-madras/grid/runs/zzj5etpr' target=\"_blank\">https://wandb.ai/ishita49-indian-institute-of-technology-madras/grid/runs/zzj5etpr</a>"
      ],
      "text/plain": [
       "<IPython.core.display.HTML object>"
      ]
     },
     "metadata": {},
     "output_type": "display_data"
    }
   ],
   "source": [
    "# Load the CSV file\n",
    "wandb.init(project=\"grid\")\n",
    "df = pd.read_csv(\"/kaggle/input/predictions-attention-csv/predictions_attention.csv\")\n",
    "\n",
    "# Optionally, select a few rows (e.g., first 10)\n",
    "sample_df = df.sample(n=10, random_state=42)\n",
    "\n",
    "# Create a W&B Table from the DataFrame\n",
    "table = wandb.Table(dataframe=sample_df)\n",
    "wandb.log({\"Grid - Predictions_attention\": table})"
   ]
  }
 ],
 "metadata": {
  "kaggle": {
   "accelerator": "none",
   "dataSources": [
    {
     "datasetId": 7470956,
     "sourceId": 11886551,
     "sourceType": "datasetVersion"
    },
    {
     "datasetId": 7470961,
     "sourceId": 11886558,
     "sourceType": "datasetVersion"
    }
   ],
   "dockerImageVersionId": 31040,
   "isGpuEnabled": false,
   "isInternetEnabled": true,
   "language": "python",
   "sourceType": "notebook"
  },
  "kernelspec": {
   "display_name": "Python 3",
   "language": "python",
   "name": "python3"
  },
  "language_info": {
   "codemirror_mode": {
    "name": "ipython",
    "version": 3
   },
   "file_extension": ".py",
   "mimetype": "text/x-python",
   "name": "python",
   "nbconvert_exporter": "python",
   "pygments_lexer": "ipython3",
   "version": "3.11.11"
  }
 },
 "nbformat": 4,
 "nbformat_minor": 4
}
