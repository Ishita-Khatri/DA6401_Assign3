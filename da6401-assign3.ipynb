{
 "cells": [
  {
   "cell_type": "code",
   "execution_count": 2,
   "metadata": {
    "_cell_guid": "b1076dfc-b9ad-4769-8c92-a6c4dae69d19",
    "_uuid": "8f2839f25d086af736a60e9eeb907d3b93b6e0e5",
    "execution": {
     "iopub.execute_input": "2025-05-19T05:53:43.795047Z",
     "iopub.status.busy": "2025-05-19T05:53:43.794811Z",
     "iopub.status.idle": "2025-05-19T05:53:43.799586Z",
     "shell.execute_reply": "2025-05-19T05:53:43.798843Z",
     "shell.execute_reply.started": "2025-05-19T05:53:43.795030Z"
    },
    "trusted": true
   },
   "outputs": [],
   "source": [
    "def load_dakshina_lexicon_pairs(filepath):\n",
    "    pairs=[]\n",
    "    with open(filepath, 'r', encoding='utf-8') as f:\n",
    "        for line in f:\n",
    "            line = line.strip()\n",
    "            if not line:\n",
    "                continue  # skip empty lines\n",
    "            parts = line.split('\\t')\n",
    "            if len(parts) != 3:\n",
    "                continue  # skip malformed lines\n",
    "            devanagari_word, latin_word,_ = parts\n",
    "            pairs.append((latin_word, devanagari_word))  # reverse order\n",
    "    return pairs"
   ]
  },
  {
   "cell_type": "code",
   "execution_count": 3,
   "metadata": {
    "execution": {
     "iopub.execute_input": "2025-05-19T05:53:47.356917Z",
     "iopub.status.busy": "2025-05-19T05:53:47.356271Z",
     "iopub.status.idle": "2025-05-19T05:53:47.450416Z",
     "shell.execute_reply": "2025-05-19T05:53:47.449847Z",
     "shell.execute_reply.started": "2025-05-19T05:53:47.356895Z"
    },
    "trusted": true
   },
   "outputs": [
    {
     "name": "stdout",
     "output_type": "stream",
     "text": [
      "('an', 'अं')\n",
      "('ankganit', 'अंकगणित')\n",
      "('uncle', 'अंकल')\n",
      "('ankur', 'अंकुर')\n",
      "('ankuran', 'अंकुरण')\n"
     ]
    }
   ],
   "source": [
    "filepath = \"/kaggle/input/dakshina-dataset-v1-0/dakshina_dataset_v1.0/hi/lexicons/hi.translit.sampled.train.tsv\"\n",
    "pairs = load_dakshina_lexicon_pairs(filepath)\n",
    "\n",
    "for i in range(5):\n",
    "    print(pairs[i])"
   ]
  },
  {
   "cell_type": "code",
   "execution_count": 4,
   "metadata": {
    "execution": {
     "iopub.execute_input": "2025-05-19T05:53:50.364590Z",
     "iopub.status.busy": "2025-05-19T05:53:50.364289Z",
     "iopub.status.idle": "2025-05-19T05:53:50.370475Z",
     "shell.execute_reply": "2025-05-19T05:53:50.369734Z",
     "shell.execute_reply.started": "2025-05-19T05:53:50.364570Z"
    },
    "trusted": true
   },
   "outputs": [],
   "source": [
    "def build_vocab(pairs, add_special_tokens=True):\n",
    "    input_chars = set() # to ensure no repeated characters\n",
    "    output_chars = set()\n",
    "\n",
    "    # Collect unique characters from Latin (input) and Devanagari (output)\n",
    "    for latin_word, devnagari_word in pairs:\n",
    "        input_chars.update(list(latin_word))\n",
    "        output_chars.update(list(devnagari_word))\n",
    "\n",
    "    # Sort to keep it consistent\n",
    "    input_chars = sorted(list(input_chars))\n",
    "    output_chars = sorted(list(output_chars))\n",
    "\n",
    "    # Add special tokens\n",
    "    special_tokens = ['<pad>', '<sos>', '<eos>', '<unk>'] if add_special_tokens else []\n",
    "\n",
    "    input_vocab = special_tokens + input_chars\n",
    "    output_vocab = special_tokens + output_chars\n",
    "\n",
    "    # Create dictionaries\n",
    "    input_char2idx = {ch: idx for idx, ch in enumerate(input_vocab)}\n",
    "    input_idx2char = {idx: ch for ch, idx in input_char2idx.items()}\n",
    "\n",
    "    output_char2idx = {ch: idx for idx, ch in enumerate(output_vocab)}\n",
    "    output_idx2char = {idx: ch for ch, idx in output_char2idx.items()}\n",
    "\n",
    "    return input_char2idx, input_idx2char, output_char2idx, output_idx2char"
   ]
  },
  {
   "cell_type": "code",
   "execution_count": 5,
   "metadata": {
    "execution": {
     "iopub.execute_input": "2025-05-19T05:53:54.004462Z",
     "iopub.status.busy": "2025-05-19T05:53:54.003701Z",
     "iopub.status.idle": "2025-05-19T05:53:54.049258Z",
     "shell.execute_reply": "2025-05-19T05:53:54.048742Z",
     "shell.execute_reply.started": "2025-05-19T05:53:54.004435Z"
    },
    "trusted": true
   },
   "outputs": [
    {
     "name": "stdout",
     "output_type": "stream",
     "text": [
      "Latin char2idx: [('<pad>', 0), ('<sos>', 1), ('<eos>', 2), ('<unk>', 3), ('a', 4)]\n",
      "Devanagari idx2char: [(0, '<pad>'), (1, '<sos>'), (2, '<eos>'), (3, '<unk>'), (4, 'ँ')]\n",
      "67\n"
     ]
    }
   ],
   "source": [
    "input_char2idx, input_idx2char, output_char2idx, output_idx2char = build_vocab(pairs)\n",
    "\n",
    "print(\"Latin char2idx:\", list(input_char2idx.items())[:5])\n",
    "print(\"Devanagari idx2char:\", list(output_idx2char.items())[:5])\n",
    "\n",
    "print(len(list(output_char2idx.keys())))"
   ]
  },
  {
   "cell_type": "code",
   "execution_count": 6,
   "metadata": {
    "execution": {
     "iopub.execute_input": "2025-05-19T05:53:57.650024Z",
     "iopub.status.busy": "2025-05-19T05:53:57.649421Z",
     "iopub.status.idle": "2025-05-19T05:54:03.509187Z",
     "shell.execute_reply": "2025-05-19T05:54:03.508464Z",
     "shell.execute_reply.started": "2025-05-19T05:53:57.649998Z"
    },
    "trusted": true
   },
   "outputs": [],
   "source": [
    "import torch\n",
    "import torch.nn as nn\n",
    "class Encoder(nn.Module):\n",
    "    def __init__(self, input_vocab_size, embed_size, hidden_size, num_encoder_layers=1, cell_type='lstm', dropout=0.0):\n",
    "        super(Encoder, self).__init__()\n",
    "        self.hidden_size = hidden_size\n",
    "        self.num_encoder_layers = num_encoder_layers\n",
    "        self.cell_type = cell_type.lower()\n",
    "        \n",
    "        # Embedding layer\n",
    "        self.embedding = nn.Embedding(input_vocab_size, embed_size)\n",
    "        \n",
    "        # RNN layer\n",
    "        if self.cell_type == 'lstm':\n",
    "            self.rnn = nn.LSTM(\n",
    "                embed_size, hidden_size, num_encoder_layers,\n",
    "                batch_first=True, dropout=dropout if num_encoder_layers > 1 else 0\n",
    "            )\n",
    "        elif self.cell_type == 'gru':\n",
    "            self.rnn = nn.GRU(\n",
    "                embed_size, hidden_size, num_encoder_layers,\n",
    "                batch_first=True, dropout=dropout if num_encoder_layers > 1 else 0\n",
    "            )\n",
    "        else:  # default to RNN\n",
    "            self.rnn = nn.RNN(\n",
    "                embed_size, hidden_size, num_encoder_layers,\n",
    "                batch_first=True, dropout=dropout if num_encoder_layers > 1 else 0\n",
    "            )\n",
    "    \n",
    "    def forward(self, input_seq, lengths):\n",
    "        \"\"\"\n",
    "        Forward pass for encoder\n",
    "        \n",
    "        Args:\n",
    "            input_seq: Input sequence tensor [batch_size, max_seq_len]\n",
    "            lengths: Actual lengths of input sequences (tensor)\n",
    "            \n",
    "        Returns:\n",
    "            None: Instead of encoder outputs (to avoid DataParallel issues)\n",
    "            hidden: Hidden state for decoder initialization\n",
    "        \"\"\"\n",
    "        batch_size = input_seq.size(0)\n",
    "        \n",
    "        # Important: ensure lengths is on CPU before using it\n",
    "        if lengths.is_cuda:\n",
    "            lengths = lengths.cpu()\n",
    "        \n",
    "        # Convert input to embeddings\n",
    "        embedded = self.embedding(input_seq)  # [batch_size, seq_len, embed_size]\n",
    "        \n",
    "        # Pack padded sequence\n",
    "        packed = nn.utils.rnn.pack_padded_sequence(\n",
    "            embedded, lengths, batch_first=True, enforce_sorted=False\n",
    "        )\n",
    "        \n",
    "        # Process with RNN\n",
    "        if self.cell_type == 'lstm':\n",
    "            # Don't return outputs to avoid DataParallel gathering issues\n",
    "            outputs, (hidden, cell) = self.rnn(packed)\n",
    "            return outputs, (hidden, cell)\n",
    "        else:\n",
    "            outputs, hidden = self.rnn(packed)\n",
    "            return outputs, hidden\n"
   ]
  },
  {
   "cell_type": "code",
   "execution_count": 7,
   "metadata": {
    "execution": {
     "iopub.execute_input": "2025-05-19T05:54:08.957518Z",
     "iopub.status.busy": "2025-05-19T05:54:08.956735Z",
     "iopub.status.idle": "2025-05-19T05:54:08.969153Z",
     "shell.execute_reply": "2025-05-19T05:54:08.968518Z",
     "shell.execute_reply.started": "2025-05-19T05:54:08.957491Z"
    },
    "trusted": true
   },
   "outputs": [],
   "source": [
    "class Decoder(nn.Module):\n",
    "    def __init__(self, output_vocab_size, embed_size, hidden_size, num_decoder_layers=1, cell_type='lstm', dropout=0.0):\n",
    "        super(Decoder, self).__init__()\n",
    "        self.hidden_size = hidden_size\n",
    "        self.num_decoder_layers = num_decoder_layers\n",
    "        self.output_vocab_size = output_vocab_size\n",
    "        self.cell_type = cell_type.lower()\n",
    "        \n",
    "        # Embedding layer\n",
    "        self.embedding = nn.Embedding(output_vocab_size, embed_size)\n",
    "        \n",
    "        # RNN layer\n",
    "        if self.cell_type == 'lstm':\n",
    "            self.rnn = nn.LSTM(\n",
    "                embed_size, hidden_size, num_decoder_layers,\n",
    "                batch_first=True, dropout=dropout if num_decoder_layers > 1 else 0\n",
    "            )\n",
    "        elif self.cell_type == 'gru':\n",
    "            self.rnn = nn.GRU(\n",
    "                embed_size, hidden_size, num_decoder_layers,\n",
    "                batch_first=True, dropout=dropout if num_decoder_layers > 1 else 0\n",
    "            )\n",
    "        else:  # default to RNN\n",
    "            self.rnn = nn.RNN(\n",
    "                embed_size, hidden_size, num_decoder_layers,\n",
    "                batch_first=True, dropout=dropout if num_decoder_layers > 1 else 0\n",
    "            )\n",
    "        \n",
    "        # Output layer\n",
    "        self.out = nn.Linear(hidden_size, output_vocab_size)\n",
    "    \n",
    "    def _convert_encoder_hidden(self, encoder_hidden):\n",
    "        \"\"\"\n",
    "        Convert encoder hidden state to fit decoder dimensions\n",
    "        \n",
    "        Args:\n",
    "            encoder_hidden: Encoder's hidden state\n",
    "                           For RNN/GRU: tensor of shape (num_encoder_layers, batch_size, hidden_size)\n",
    "                           For LSTM: tuple of two tensors with that shape\n",
    "        \n",
    "        Returns:\n",
    "            Hidden state with shape compatible with decoder\n",
    "        \"\"\"\n",
    "        if self.cell_type == 'lstm':\n",
    "            # For LSTM, encoder_hidden is a tuple (hidden, cell)\n",
    "            hidden, cell = encoder_hidden\n",
    "            \n",
    "            # Get shapes\n",
    "            num_encoder_layers, batch_size, hidden_size = hidden.shape\n",
    "            \n",
    "            # Return as is if dimensions already match\n",
    "            if num_encoder_layers == self.num_decoder_layers:\n",
    "                return encoder_hidden\n",
    "            \n",
    "            # Initialize decoder hidden state\n",
    "            decoder_hidden = torch.zeros(self.num_decoder_layers, batch_size, hidden_size, device=hidden.device)\n",
    "            decoder_cell = torch.zeros(self.num_decoder_layers, batch_size, hidden_size, device=cell.device)\n",
    "            \n",
    "            # Fill decoder hidden state\n",
    "            if num_encoder_layers >= self.num_decoder_layers:\n",
    "                # Take the last layers from encoder\n",
    "                decoder_hidden = hidden[-self.num_decoder_layers:]\n",
    "                decoder_cell = cell[-self.num_decoder_layers:]\n",
    "            else:\n",
    "                # Copy all available layers from encoder\n",
    "                decoder_hidden[:num_encoder_layers] = hidden\n",
    "                decoder_cell[:num_encoder_layers] = cell\n",
    "                \n",
    "                # Fill remaining layers with the last encoder layer\n",
    "                for i in range(num_encoder_layers, self.num_decoder_layers):\n",
    "                    decoder_hidden[i] = hidden[-1]\n",
    "                    decoder_cell[i] = cell[-1]\n",
    "            \n",
    "            return (decoder_hidden, decoder_cell)\n",
    "        \n",
    "        else:  # RNN or GRU\n",
    "            # Get shapes\n",
    "            num_encoder_layers, batch_size, hidden_size = encoder_hidden.shape\n",
    "            \n",
    "            # Return as is if dimensions already match\n",
    "            if num_encoder_layers == self.num_decoder_layers:\n",
    "                return encoder_hidden\n",
    "            \n",
    "            # Initialize decoder hidden state\n",
    "            decoder_hidden = torch.zeros(self.num_decoder_layers, batch_size, hidden_size, device=encoder_hidden.device)\n",
    "            \n",
    "            # Fill decoder hidden state\n",
    "            if num_encoder_layers >= self.num_decoder_layers:\n",
    "                # Take the last layers from encoder\n",
    "                decoder_hidden = encoder_hidden[-self.num_decoder_layers:]\n",
    "            else:\n",
    "                # Copy all available layers from encoder\n",
    "                decoder_hidden[:num_encoder_layers] = encoder_hidden\n",
    "                \n",
    "                # Fill remaining layers with the last encoder layer\n",
    "                for i in range(num_encoder_layers, self.num_decoder_layers):\n",
    "                    decoder_hidden[i] = encoder_hidden[-1]\n",
    "            \n",
    "            return decoder_hidden\n",
    "    \n",
    "    def forward(self, input_seq, hidden):\n",
    "        \"\"\"\n",
    "        Forward pass for decoder\n",
    "        \n",
    "        Args:\n",
    "            input_seq: Input sequence tensor [batch_size, 1]\n",
    "            hidden: Hidden state from encoder or previous decoder step\n",
    "                   Will be automatically converted to match decoder dimensions\n",
    "        \n",
    "        Returns:\n",
    "            output: Output logits\n",
    "            hidden: Updated hidden state\n",
    "        \"\"\"\n",
    "        # Convert encoder hidden state if this is the first decoder step\n",
    "        hidden = self._convert_encoder_hidden(hidden)\n",
    "        \n",
    "        # Convert input to embeddings\n",
    "        embedded = self.embedding(input_seq)  # [batch_size, 1, embed_size]\n",
    "        \n",
    "        # Process with RNN\n",
    "        if self.cell_type == 'lstm':\n",
    "            output, (hidden, cell) = self.rnn(embedded, hidden)\n",
    "            output = self.out(output)  # [batch_size, 1, output_vocab_size]\n",
    "            return output, (hidden, cell)\n",
    "        else:\n",
    "            output, hidden = self.rnn(embedded, hidden)\n",
    "            output = self.out(output)  # [batch_size, 1, output_vocab_size]\n",
    "            return output, hidden"
   ]
  },
  {
   "cell_type": "code",
   "execution_count": 8,
   "metadata": {
    "execution": {
     "iopub.execute_input": "2025-05-19T05:54:16.551550Z",
     "iopub.status.busy": "2025-05-19T05:54:16.551252Z",
     "iopub.status.idle": "2025-05-19T05:54:16.558143Z",
     "shell.execute_reply": "2025-05-19T05:54:16.557377Z",
     "shell.execute_reply.started": "2025-05-19T05:54:16.551528Z"
    },
    "trusted": true
   },
   "outputs": [],
   "source": [
    "import torch\n",
    "import torch.nn as nn\n",
    "import torch.optim as optim\n",
    "from torch.utils.data import Dataset, DataLoader\n",
    "\n",
    "class TransliterationDataset(Dataset):\n",
    "    def __init__(self, pairs, input_char2idx, output_char2idx):\n",
    "        \n",
    "        '''\n",
    "        pairs: list of (latin_word, devnagari_word) tuples.\n",
    "        input_char2idx: dictionary mapping each Latin character to an index.\n",
    "        output_char2idx: dictionary mapping each Devanagari character to an index.\n",
    "        '''\n",
    "            \n",
    "        self.pairs = pairs\n",
    "        self.input_char2idx = input_char2idx\n",
    "        self.output_char2idx = output_char2idx\n",
    "\n",
    "    # This converts a word into a list of token indices, e.g., India -> [8,13,3,8,0]\n",
    "    def encode_word(self, word, char2idx, add_sos_eos=False):\n",
    "        tokens = [char2idx.get(c, char2idx['<unk>']) for c in word]\n",
    "        if add_sos_eos:\n",
    "            tokens = [char2idx['<sos>']] + tokens + [char2idx['<eos>']]\n",
    "        return tokens\n",
    "\n",
    "    #  Give the total number of latin, devnagri pairs in the dataset\n",
    "    def __len__(self): \n",
    "        return len(self.pairs)\n",
    "\n",
    "    # This takes the index of the word in latin and gets the latin, devnagri pair. \n",
    "        # Then, it converts each word to list of indices and gives the pair of list of indices\n",
    "    def __getitem__(self, idx):\n",
    "        latin, devnagari = self.pairs[idx]\n",
    "        input_ids = self.encode_word(latin, self.input_char2idx)\n",
    "        target_ids = self.encode_word(devnagari, self.output_char2idx, add_sos_eos=True)\n",
    "        return input_ids, target_ids"
   ]
  },
  {
   "cell_type": "code",
   "execution_count": 10,
   "metadata": {
    "execution": {
     "iopub.execute_input": "2025-05-19T05:54:23.594441Z",
     "iopub.status.busy": "2025-05-19T05:54:23.593687Z",
     "iopub.status.idle": "2025-05-19T05:54:23.600008Z",
     "shell.execute_reply": "2025-05-19T05:54:23.599366Z",
     "shell.execute_reply.started": "2025-05-19T05:54:23.594415Z"
    },
    "trusted": true
   },
   "outputs": [],
   "source": [
    "#  Adds pad tokens, given the sequnece, maximum length and pad-token\n",
    "def pad_seq(seq, max_len, pad_token):\n",
    "    return seq + [pad_token] * (max_len - len(seq))\n",
    "\n",
    "def collate_fn(batch):\n",
    "    '''\n",
    "    batch: List of tuples [(input1, target1), (input2, target2), ...]\n",
    "\n",
    "    '''\n",
    "    input_seqs, target_seqs = zip(*batch)\n",
    "\n",
    "    input_max_len = max(len(seq) for seq in input_seqs)\n",
    "    target_max_len = max(len(seq) for seq in target_seqs)\n",
    "\n",
    "    # Adds padding for seqeuces so that sequence length = maximum sequence length in the batch. \n",
    "    # Now all sequenes in the batch are of same length \n",
    "    input_padded = [pad_seq(seq, input_max_len, pad_token=input_char2idx['<pad>']) for seq in input_seqs]\n",
    "    target_padded = [pad_seq(seq, target_max_len, pad_token=output_char2idx['<pad>']) for seq in target_seqs]\n",
    "\n",
    "    input_tensor = torch.tensor(input_padded, dtype=torch.long)\n",
    "    target_tensor = torch.tensor(target_padded, dtype=torch.long)\n",
    "\n",
    "    input_lengths = torch.tensor([len(seq) for seq in input_seqs])\n",
    "    target_lengths = torch.tensor([len(seq) for seq in target_seqs])\n",
    "\n",
    "    return input_tensor, input_lengths, target_tensor, target_lengths"
   ]
  },
  {
   "cell_type": "code",
   "execution_count": 9,
   "metadata": {
    "execution": {
     "iopub.execute_input": "2025-05-18T20:04:45.830504Z",
     "iopub.status.busy": "2025-05-18T20:04:45.830319Z",
     "iopub.status.idle": "2025-05-18T20:04:45.859348Z",
     "shell.execute_reply": "2025-05-18T20:04:45.858844Z",
     "shell.execute_reply.started": "2025-05-18T20:04:45.830490Z"
    },
    "trusted": true
   },
   "outputs": [],
   "source": [
    "sweep_config = {\n",
    "    'method': 'bayes',  # Could also be 'random' or 'grid'\n",
    "    'metric': {\n",
    "        'name': 'token_accuracy',\n",
    "        'goal': 'maximize'\n",
    "    },\n",
    "    'parameters': {\n",
    "        'embed_size': {'values': [16, 32, 64]},\n",
    "        'num_encoder_layers': {'values': [1, 2, 3]},\n",
    "        'num_decoder_layers': {'values': [1, 2, 3]},\n",
    "        'hidden_size': {'values': [16, 32, 64]},\n",
    "        'cell_type': {'values': ['RNN', 'GRU', 'LSTM']},\n",
    "        'dropout': {'values': [0.3, 0.4, 0.5]},\n",
    "        'batch_size': {'values': [128, 256, 512]},\n",
    "        'learning_rate': {'values': [5e-3, 1e-3, 5e-4]},\n",
    "        'beam_size': {'values': [3, 4, 5]}\n",
    "    },\n",
    "    'early_terminate': {\n",
    "        'type': 'hyperband',\n",
    "        'min_iter': 7\n",
    "    }\n",
    "}"
   ]
  },
  {
   "cell_type": "code",
   "execution_count": null,
   "metadata": {
    "execution": {
     "iopub.execute_input": "2025-05-18T20:04:45.860172Z",
     "iopub.status.busy": "2025-05-18T20:04:45.859936Z",
     "iopub.status.idle": "2025-05-18T20:04:55.812431Z",
     "shell.execute_reply": "2025-05-18T20:04:55.811844Z",
     "shell.execute_reply.started": "2025-05-18T20:04:45.860147Z"
    },
    "trusted": true
   },
   "outputs": [
    {
     "name": "stderr",
     "output_type": "stream",
     "text": [
      "\u001b[34m\u001b[1mwandb\u001b[0m: Using wandb-core as the SDK backend.  Please refer to https://wandb.me/wandb-core for more information.\n",
      "\u001b[34m\u001b[1mwandb\u001b[0m: \u001b[33mWARNING\u001b[0m If you're specifying your api key in code, ensure this code is not shared publicly.\n",
      "\u001b[34m\u001b[1mwandb\u001b[0m: \u001b[33mWARNING\u001b[0m Consider setting the WANDB_API_KEY environment variable, or running `wandb login` from the command line.\n",
      "\u001b[34m\u001b[1mwandb\u001b[0m: No netrc file found, creating one.\n",
      "\u001b[34m\u001b[1mwandb\u001b[0m: Appending key for api.wandb.ai to your netrc file: /root/.netrc\n",
      "\u001b[34m\u001b[1mwandb\u001b[0m: Currently logged in as: \u001b[33mishita49\u001b[0m (\u001b[33mishita49-indian-institute-of-technology-madras\u001b[0m) to \u001b[32mhttps://api.wandb.ai\u001b[0m. Use \u001b[1m`wandb login --relogin`\u001b[0m to force relogin\n"
     ]
    },
    {
     "data": {
      "text/plain": [
       "True"
      ]
     },
     "execution_count": 10,
     "metadata": {},
     "output_type": "execute_result"
    }
   ],
   "source": [
    "import wandb"
   ]
  },
  {
   "cell_type": "code",
   "execution_count": 11,
   "metadata": {
    "execution": {
     "iopub.execute_input": "2025-05-18T20:04:55.813561Z",
     "iopub.status.busy": "2025-05-18T20:04:55.813192Z",
     "iopub.status.idle": "2025-05-18T20:04:55.831056Z",
     "shell.execute_reply": "2025-05-18T20:04:55.830477Z",
     "shell.execute_reply.started": "2025-05-18T20:04:55.813543Z"
    },
    "trusted": true
   },
   "outputs": [],
   "source": [
    "filepath_val = \"/kaggle/input/dakshina-dataset-v1-0/dakshina_dataset_v1.0/hi/lexicons/hi.translit.sampled.dev.tsv\"\n",
    "pairs_val = load_dakshina_lexicon_pairs(filepath_val)\n",
    "\n",
    "dataset = TransliterationDataset(pairs, input_char2idx, output_char2idx)\n",
    "dataset_val = TransliterationDataset(pairs_val, input_char2idx, output_char2idx)"
   ]
  },
  {
   "cell_type": "code",
   "execution_count": 12,
   "metadata": {
    "execution": {
     "iopub.execute_input": "2025-05-18T20:04:55.832095Z",
     "iopub.status.busy": "2025-05-18T20:04:55.831821Z",
     "iopub.status.idle": "2025-05-18T20:04:55.853598Z",
     "shell.execute_reply": "2025-05-18T20:04:55.852956Z",
     "shell.execute_reply.started": "2025-05-18T20:04:55.832057Z"
    },
    "trusted": true
   },
   "outputs": [],
   "source": [
    "from tqdm import tqdm\n",
    "import torch\n",
    "import torch.nn as nn\n",
    "import wandb\n",
    "from torch.utils.data import DataLoader\n",
    "import torch.nn.functional as F\n",
    "\n",
    "def train():\n",
    "    wandb.init()\n",
    "    config = wandb.config\n",
    "    device = torch.device(\"cuda\" if torch.cuda.is_available() else \"cpu\")\n",
    "\n",
    "    # Initialize encoder and decoder\n",
    "    encoder = Encoder(\n",
    "        input_vocab_size=len(input_char2idx),\n",
    "        embed_size=config.embed_size,\n",
    "        hidden_size=config.hidden_size,\n",
    "        num_encoder_layers=config.num_encoder_layers,\n",
    "        cell_type=config.cell_type,\n",
    "        dropout=config.dropout\n",
    "    ).to(device)\n",
    "\n",
    "    decoder = Decoder(\n",
    "        output_vocab_size=len(output_char2idx),\n",
    "        embed_size=config.embed_size,\n",
    "        hidden_size=config.hidden_size,\n",
    "        num_decoder_layers=config.num_decoder_layers,\n",
    "        cell_type=config.cell_type,\n",
    "        dropout=config.dropout\n",
    "    ).to(device)\n",
    "\n",
    "    encoder_optimizer = torch.optim.Adam(encoder.parameters(), lr=config.learning_rate, weight_decay=1e-5)\n",
    "    decoder_optimizer = torch.optim.Adam(decoder.parameters(), lr=config.learning_rate, weight_decay=1e-5)\n",
    "    criterion = nn.CrossEntropyLoss(ignore_index=output_char2idx['<pad>'])\n",
    "\n",
    "    dataloader = DataLoader(dataset, batch_size=config.batch_size, shuffle=True, collate_fn=collate_fn)\n",
    "\n",
    "    # Load validation set\n",
    "    filepath_val = \"/kaggle/input/dakshina-dataset-v1-0/dakshina_dataset_v1.0/hi/lexicons/hi.translit.sampled.dev.tsv\"\n",
    "    pairs_val = load_dakshina_lexicon_pairs(filepath_val)\n",
    "    dataset_val = TransliterationDataset(pairs_val, input_char2idx, output_char2idx)\n",
    "\n",
    "    dataloader_val = DataLoader(dataset_val, batch_size=1, shuffle=False, collate_fn=collate_fn)\n",
    "\n",
    "    num_epochs = 20\n",
    "    for epoch in range(num_epochs):\n",
    "        # ======== TRAINING ========\n",
    "        encoder.train()\n",
    "        decoder.train()\n",
    "        total_loss = 0\n",
    "\n",
    "        with tqdm(dataloader, desc=f\"Epoch {epoch+1}/{num_epochs}\") as pbar:\n",
    "            for input_tensor, input_lengths, target_tensor, target_lengths in pbar:\n",
    "                input_tensor = input_tensor.to(device)\n",
    "                target_tensor = target_tensor.to(device)\n",
    "\n",
    "                encoder_optimizer.zero_grad()\n",
    "                decoder_optimizer.zero_grad()\n",
    "\n",
    "                encoder_outputs, encoder_hidden = encoder(input_tensor, input_lengths)\n",
    "                decoder_input = target_tensor[:, 0].unsqueeze(1)  # <sos>\n",
    "                decoder_hidden = encoder_hidden\n",
    "\n",
    "                loss = 0\n",
    "                max_target_len = target_tensor.size(1)\n",
    "\n",
    "                for t in range(1, max_target_len):\n",
    "                    decoder_output, decoder_hidden = decoder(decoder_input, decoder_hidden)\n",
    "                    output = decoder_output.squeeze(1)\n",
    "                    # print(f'output = {output}')\n",
    "                    # print(f'target tensor = {target_tensor[:,t]}')\n",
    "                    loss += criterion(output, target_tensor[:, t])\n",
    "                    decoder_input = target_tensor[:, t].unsqueeze(1)  # Teacher forcing\n",
    "\n",
    "                loss.backward()\n",
    "                torch.nn.utils.clip_grad_norm_(encoder.parameters(), max_norm=1.0)\n",
    "                torch.nn.utils.clip_grad_norm_(decoder.parameters(), max_norm=1.0)\n",
    "\n",
    "                encoder_optimizer.step()\n",
    "                decoder_optimizer.step()\n",
    "\n",
    "                total_loss += loss.item() / (max_target_len - 1)\n",
    "\n",
    "        avg_loss = total_loss / len(dataloader)\n",
    "        print(f\"Epoch {epoch+1}/{num_epochs} Train Loss: {avg_loss:.4f}\")\n",
    "\n",
    "        # ======== VALIDATION ========\n",
    "        encoder.eval()\n",
    "        decoder.eval()\n",
    "        correct_sequences = 0\n",
    "        total_sequences = 0\n",
    "        correct_tokens = 0\n",
    "        total_tokens = 0\n",
    "        beam_width = config.beam_size  # You can change this\n",
    "        \n",
    "        with torch.no_grad():\n",
    "            for input_tensor, input_lengths, target_tensor, target_lengths in dataloader_val:\n",
    "                input_tensor = input_tensor.to(device)\n",
    "                target_tensor = target_tensor.to(device)\n",
    "        \n",
    "                encoder_outputs, encoder_hidden = encoder(input_tensor, input_lengths)\n",
    "                max_target_len = target_tensor.size(1)\n",
    "                total_sequences += 1\n",
    "        \n",
    "                # Beam is a list of tuples: (sequence_so_far, cumulative_log_prob, decoder_hidden)\n",
    "                beam = [([output_char2idx['<sos>']], 0.0, encoder_hidden)]\n",
    "        \n",
    "                completed_sequences = []\n",
    "        \n",
    "                for _ in range(1, max_target_len):\n",
    "                    new_beam = []\n",
    "                    for seq, score, hidden in beam:\n",
    "                        decoder_input = torch.tensor([[seq[-1]]], device=device)\n",
    "                        decoder_output, hidden_next = decoder(decoder_input, hidden)\n",
    "                        log_probs = F.log_softmax(decoder_output.squeeze(1), dim=1)\n",
    "        \n",
    "                        topk_log_probs, topk_indices = log_probs.topk(beam_width)\n",
    "        \n",
    "                        for k in range(beam_width):\n",
    "                            next_token = topk_indices[0][k].item()\n",
    "                            next_score = score + topk_log_probs[0][k].item()\n",
    "                            new_seq = seq + [next_token]\n",
    "                            new_beam.append((new_seq, next_score, hidden_next))\n",
    "        \n",
    "                    # Keep top `beam_width` beams with highest scores\n",
    "                    beam = sorted(new_beam, key=lambda x: x[1], reverse=True)[:beam_width]\n",
    "        \n",
    "                    # Move completed sequences out\n",
    "                    beam, completed = [], []\n",
    "                    for seq, score, hidden in new_beam:\n",
    "                        if seq[-1] == output_char2idx['<eos>']:\n",
    "                            completed_sequences.append((seq, score))\n",
    "                        else:\n",
    "                            beam.append((seq, score, hidden))\n",
    "                    beam = sorted(beam, key=lambda x: x[1], reverse=True)[:beam_width]\n",
    "        \n",
    "                # Choose best completed or best incomplete beam\n",
    "                if completed_sequences:\n",
    "                    best_seq = max(completed_sequences, key=lambda x: x[1])[0]\n",
    "                else:\n",
    "                    best_seq = max(beam, key=lambda x: x[1])[0]\n",
    "        \n",
    "                # Remove <sos> if present\n",
    "                if best_seq[0] == output_char2idx['<sos>']:\n",
    "                    best_seq = best_seq[1:]\n",
    "        \n",
    "                # Compare prediction with target\n",
    "                target_seq = target_tensor[0, 1:].tolist()\n",
    "                pad_idx = output_char2idx['<pad>']\n",
    "        \n",
    "                # Token accuracy\n",
    "                for pred_token, tgt_token in zip(best_seq, target_seq):\n",
    "                    if tgt_token == pad_idx:\n",
    "                        break\n",
    "                    if pred_token == tgt_token:\n",
    "                        correct_tokens += 1\n",
    "                    total_tokens += 1\n",
    "        \n",
    "                # Sequence accuracy\n",
    "                target_trimmed = [t for t in target_seq if t != pad_idx]\n",
    "                best_seq_trimmed = best_seq[:len(target_trimmed)]\n",
    "                if best_seq_trimmed == target_trimmed:\n",
    "                    correct_sequences += 1\n",
    "        \n",
    "                # Optional print\n",
    "                # predicted_word = indices_to_words([best_seq], output_idx2char)[0]\n",
    "                # actual_word = indices_to_words([target_trimmed], output_idx2char)[0]\n",
    "                # # print(f\"Predicted: {predicted_word.ljust(20)} | Actual: {actual_word}\")\n",
    "        \n",
    "        sequence_accuracy = correct_sequences / total_sequences if total_sequences > 0 else 0\n",
    "        token_accuracy = correct_tokens / total_tokens if total_tokens > 0 else 0\n",
    "        \n",
    "        print(f\"Token Accuracy: {token_accuracy:.4f}\")\n",
    "        print(f\"Sequence Accuracy: {sequence_accuracy:.4f}\")\n",
    "        \n",
    "        wandb.log({\n",
    "            \"epoch\": epoch + 1,\n",
    "            \"train_loss\": avg_loss,\n",
    "            \"token_accuracy\": token_accuracy,\n",
    "            \"sequence_accuracy\": sequence_accuracy\n",
    "        })"
   ]
  },
  {
   "cell_type": "code",
   "execution_count": 13,
   "metadata": {
    "execution": {
     "iopub.execute_input": "2025-05-18T20:04:55.855932Z",
     "iopub.status.busy": "2025-05-18T20:04:55.855744Z",
     "iopub.status.idle": "2025-05-19T03:43:22.943506Z",
     "shell.execute_reply": "2025-05-19T03:43:22.942645Z",
     "shell.execute_reply.started": "2025-05-18T20:04:55.855917Z"
    },
    "trusted": true
   },
   "outputs": [
    {
     "name": "stdout",
     "output_type": "stream",
     "text": [
      "Create sweep with ID: 2qor0304\n",
      "Sweep URL: https://wandb.ai/ishita49-indian-institute-of-technology-madras/DA6401%20Assign3/sweeps/2qor0304\n"
     ]
    },
    {
     "name": "stderr",
     "output_type": "stream",
     "text": [
      "\u001b[34m\u001b[1mwandb\u001b[0m: Agent Starting Run: oid6xp4v with config:\n",
      "\u001b[34m\u001b[1mwandb\u001b[0m: \tbatch_size: 512\n",
      "\u001b[34m\u001b[1mwandb\u001b[0m: \tbeam_size: 5\n",
      "\u001b[34m\u001b[1mwandb\u001b[0m: \tcell_type: GRU\n",
      "\u001b[34m\u001b[1mwandb\u001b[0m: \tdropout: 0.5\n",
      "\u001b[34m\u001b[1mwandb\u001b[0m: \tembed_size: 32\n",
      "\u001b[34m\u001b[1mwandb\u001b[0m: \thidden_size: 64\n",
      "\u001b[34m\u001b[1mwandb\u001b[0m: \tlearning_rate: 0.001\n",
      "\u001b[34m\u001b[1mwandb\u001b[0m: \tnum_decoder_layers: 3\n",
      "\u001b[34m\u001b[1mwandb\u001b[0m: \tnum_encoder_layers: 1\n"
     ]
    },
    {
     "data": {
      "text/html": [
       "Tracking run with wandb version 0.19.9"
      ],
      "text/plain": [
       "<IPython.core.display.HTML object>"
      ]
     },
     "metadata": {},
     "output_type": "display_data"
    },
    {
     "data": {
      "text/html": [
       "Run data is saved locally in <code>/kaggle/working/wandb/run-20250518_200502-oid6xp4v</code>"
      ],
      "text/plain": [
       "<IPython.core.display.HTML object>"
      ]
     },
     "metadata": {},
     "output_type": "display_data"
    },
    {
     "data": {
      "text/html": [
       "Syncing run <strong><a href='https://wandb.ai/ishita49-indian-institute-of-technology-madras/DA6401%20Assign3/runs/oid6xp4v' target=\"_blank\">ruby-sweep-1</a></strong> to <a href='https://wandb.ai/ishita49-indian-institute-of-technology-madras/DA6401%20Assign3' target=\"_blank\">Weights & Biases</a> (<a href='https://wandb.me/developer-guide' target=\"_blank\">docs</a>)<br>Sweep page: <a href='https://wandb.ai/ishita49-indian-institute-of-technology-madras/DA6401%20Assign3/sweeps/2qor0304' target=\"_blank\">https://wandb.ai/ishita49-indian-institute-of-technology-madras/DA6401%20Assign3/sweeps/2qor0304</a>"
      ],
      "text/plain": [
       "<IPython.core.display.HTML object>"
      ]
     },
     "metadata": {},
     "output_type": "display_data"
    },
    {
     "data": {
      "text/html": [
       " View project at <a href='https://wandb.ai/ishita49-indian-institute-of-technology-madras/DA6401%20Assign3' target=\"_blank\">https://wandb.ai/ishita49-indian-institute-of-technology-madras/DA6401%20Assign3</a>"
      ],
      "text/plain": [
       "<IPython.core.display.HTML object>"
      ]
     },
     "metadata": {},
     "output_type": "display_data"
    },
    {
     "data": {
      "text/html": [
       " View sweep at <a href='https://wandb.ai/ishita49-indian-institute-of-technology-madras/DA6401%20Assign3/sweeps/2qor0304' target=\"_blank\">https://wandb.ai/ishita49-indian-institute-of-technology-madras/DA6401%20Assign3/sweeps/2qor0304</a>"
      ],
      "text/plain": [
       "<IPython.core.display.HTML object>"
      ]
     },
     "metadata": {},
     "output_type": "display_data"
    },
    {
     "data": {
      "text/html": [
       " View run at <a href='https://wandb.ai/ishita49-indian-institute-of-technology-madras/DA6401%20Assign3/runs/oid6xp4v' target=\"_blank\">https://wandb.ai/ishita49-indian-institute-of-technology-madras/DA6401%20Assign3/runs/oid6xp4v</a>"
      ],
      "text/plain": [
       "<IPython.core.display.HTML object>"
      ]
     },
     "metadata": {},
     "output_type": "display_data"
    },
    {
     "name": "stderr",
     "output_type": "stream",
     "text": [
      "Epoch 1/20: 100%|██████████| 87/87 [00:05<00:00, 16.17it/s]\n"
     ]
    },
    {
     "name": "stdout",
     "output_type": "stream",
     "text": [
      "Epoch 1/20 Train Loss: 2.9719\n",
      "Token Accuracy: 0.0576\n",
      "Sequence Accuracy: 0.0000\n"
     ]
    },
    {
     "name": "stderr",
     "output_type": "stream",
     "text": [
      "Epoch 2/20: 100%|██████████| 87/87 [00:03<00:00, 26.50it/s]\n"
     ]
    },
    {
     "name": "stdout",
     "output_type": "stream",
     "text": [
      "Epoch 2/20 Train Loss: 2.4952\n",
      "Token Accuracy: 0.0938\n",
      "Sequence Accuracy: 0.0000\n"
     ]
    },
    {
     "name": "stderr",
     "output_type": "stream",
     "text": [
      "Epoch 3/20: 100%|██████████| 87/87 [00:03<00:00, 26.61it/s]\n"
     ]
    },
    {
     "name": "stdout",
     "output_type": "stream",
     "text": [
      "Epoch 3/20 Train Loss: 2.3141\n",
      "Token Accuracy: 0.1399\n",
      "Sequence Accuracy: 0.0005\n"
     ]
    },
    {
     "name": "stderr",
     "output_type": "stream",
     "text": [
      "Epoch 4/20: 100%|██████████| 87/87 [00:03<00:00, 26.47it/s]\n"
     ]
    },
    {
     "name": "stdout",
     "output_type": "stream",
     "text": [
      "Epoch 4/20 Train Loss: 2.1973\n",
      "Token Accuracy: 0.1475\n",
      "Sequence Accuracy: 0.0009\n"
     ]
    },
    {
     "name": "stderr",
     "output_type": "stream",
     "text": [
      "Epoch 5/20: 100%|██████████| 87/87 [00:03<00:00, 24.79it/s]\n"
     ]
    },
    {
     "name": "stdout",
     "output_type": "stream",
     "text": [
      "Epoch 5/20 Train Loss: 2.0997\n",
      "Token Accuracy: 0.1496\n",
      "Sequence Accuracy: 0.0007\n"
     ]
    },
    {
     "name": "stderr",
     "output_type": "stream",
     "text": [
      "Epoch 6/20: 100%|██████████| 87/87 [00:03<00:00, 26.92it/s]\n"
     ]
    },
    {
     "name": "stdout",
     "output_type": "stream",
     "text": [
      "Epoch 6/20 Train Loss: 1.9857\n",
      "Token Accuracy: 0.1693\n",
      "Sequence Accuracy: 0.0007\n"
     ]
    },
    {
     "name": "stderr",
     "output_type": "stream",
     "text": [
      "Epoch 7/20: 100%|██████████| 87/87 [00:03<00:00, 26.69it/s]\n"
     ]
    },
    {
     "name": "stdout",
     "output_type": "stream",
     "text": [
      "Epoch 7/20 Train Loss: 1.8890\n",
      "Token Accuracy: 0.1750\n",
      "Sequence Accuracy: 0.0007\n"
     ]
    },
    {
     "name": "stderr",
     "output_type": "stream",
     "text": [
      "Epoch 8/20: 100%|██████████| 87/87 [00:03<00:00, 25.26it/s]\n"
     ]
    },
    {
     "name": "stdout",
     "output_type": "stream",
     "text": [
      "Epoch 8/20 Train Loss: 1.7920\n",
      "Token Accuracy: 0.1844\n",
      "Sequence Accuracy: 0.0025\n"
     ]
    },
    {
     "name": "stderr",
     "output_type": "stream",
     "text": [
      "Epoch 9/20: 100%|██████████| 87/87 [00:03<00:00, 26.57it/s]\n"
     ]
    },
    {
     "name": "stdout",
     "output_type": "stream",
     "text": [
      "Epoch 9/20 Train Loss: 1.7016\n",
      "Token Accuracy: 0.2008\n",
      "Sequence Accuracy: 0.0034\n"
     ]
    },
    {
     "name": "stderr",
     "output_type": "stream",
     "text": [
      "Epoch 10/20: 100%|██████████| 87/87 [00:03<00:00, 25.31it/s]\n"
     ]
    },
    {
     "name": "stdout",
     "output_type": "stream",
     "text": [
      "Epoch 10/20 Train Loss: 1.6147\n",
      "Token Accuracy: 0.2265\n",
      "Sequence Accuracy: 0.0044\n"
     ]
    },
    {
     "name": "stderr",
     "output_type": "stream",
     "text": [
      "Epoch 11/20: 100%|██████████| 87/87 [00:03<00:00, 26.62it/s]\n"
     ]
    },
    {
     "name": "stdout",
     "output_type": "stream",
     "text": [
      "Epoch 11/20 Train Loss: 1.5057\n",
      "Token Accuracy: 0.2469\n",
      "Sequence Accuracy: 0.0064\n"
     ]
    },
    {
     "name": "stderr",
     "output_type": "stream",
     "text": [
      "Epoch 12/20: 100%|██████████| 87/87 [00:03<00:00, 26.31it/s]\n"
     ]
    },
    {
     "name": "stdout",
     "output_type": "stream",
     "text": [
      "Epoch 12/20 Train Loss: 1.4225\n",
      "Token Accuracy: 0.2594\n",
      "Sequence Accuracy: 0.0092\n"
     ]
    },
    {
     "name": "stderr",
     "output_type": "stream",
     "text": [
      "Epoch 13/20: 100%|██████████| 87/87 [00:03<00:00, 25.38it/s]\n"
     ]
    },
    {
     "name": "stdout",
     "output_type": "stream",
     "text": [
      "Epoch 13/20 Train Loss: 1.3571\n",
      "Token Accuracy: 0.2619\n",
      "Sequence Accuracy: 0.0101\n"
     ]
    },
    {
     "name": "stderr",
     "output_type": "stream",
     "text": [
      "Epoch 14/20: 100%|██████████| 87/87 [00:03<00:00, 26.54it/s]\n"
     ]
    },
    {
     "name": "stdout",
     "output_type": "stream",
     "text": [
      "Epoch 14/20 Train Loss: 1.3055\n",
      "Token Accuracy: 0.2807\n",
      "Sequence Accuracy: 0.0115\n"
     ]
    },
    {
     "name": "stderr",
     "output_type": "stream",
     "text": [
      "Epoch 15/20: 100%|██████████| 87/87 [00:03<00:00, 25.27it/s]\n"
     ]
    },
    {
     "name": "stdout",
     "output_type": "stream",
     "text": [
      "Epoch 15/20 Train Loss: 1.2539\n",
      "Token Accuracy: 0.2876\n",
      "Sequence Accuracy: 0.0140\n"
     ]
    },
    {
     "name": "stderr",
     "output_type": "stream",
     "text": [
      "Epoch 16/20: 100%|██████████| 87/87 [00:03<00:00, 26.38it/s]\n"
     ]
    },
    {
     "name": "stdout",
     "output_type": "stream",
     "text": [
      "Epoch 16/20 Train Loss: 1.2078\n",
      "Token Accuracy: 0.2949\n",
      "Sequence Accuracy: 0.0165\n"
     ]
    },
    {
     "name": "stderr",
     "output_type": "stream",
     "text": [
      "Epoch 17/20: 100%|██████████| 87/87 [00:03<00:00, 25.12it/s]\n"
     ]
    },
    {
     "name": "stdout",
     "output_type": "stream",
     "text": [
      "Epoch 17/20 Train Loss: 1.1648\n",
      "Token Accuracy: 0.3182\n",
      "Sequence Accuracy: 0.0246\n"
     ]
    },
    {
     "name": "stderr",
     "output_type": "stream",
     "text": [
      "Epoch 18/20: 100%|██████████| 87/87 [00:03<00:00, 26.76it/s]\n"
     ]
    },
    {
     "name": "stdout",
     "output_type": "stream",
     "text": [
      "Epoch 18/20 Train Loss: 1.1259\n",
      "Token Accuracy: 0.3373\n",
      "Sequence Accuracy: 0.0298\n"
     ]
    },
    {
     "name": "stderr",
     "output_type": "stream",
     "text": [
      "Epoch 19/20: 100%|██████████| 87/87 [00:03<00:00, 26.40it/s]\n"
     ]
    },
    {
     "name": "stdout",
     "output_type": "stream",
     "text": [
      "Epoch 19/20 Train Loss: 1.0934\n",
      "Token Accuracy: 0.3483\n",
      "Sequence Accuracy: 0.0353\n"
     ]
    },
    {
     "name": "stderr",
     "output_type": "stream",
     "text": [
      "Epoch 20/20: 100%|██████████| 87/87 [00:03<00:00, 25.06it/s]\n"
     ]
    },
    {
     "name": "stdout",
     "output_type": "stream",
     "text": [
      "Epoch 20/20 Train Loss: 1.0524\n",
      "Token Accuracy: 0.3554\n",
      "Sequence Accuracy: 0.0397\n"
     ]
    },
    {
     "data": {
      "text/html": [],
      "text/plain": [
       "<IPython.core.display.HTML object>"
      ]
     },
     "metadata": {},
     "output_type": "display_data"
    },
    {
     "data": {
      "text/html": [
       "<br>    <style><br>        .wandb-row {<br>            display: flex;<br>            flex-direction: row;<br>            flex-wrap: wrap;<br>            justify-content: flex-start;<br>            width: 100%;<br>        }<br>        .wandb-col {<br>            display: flex;<br>            flex-direction: column;<br>            flex-basis: 100%;<br>            flex: 1;<br>            padding: 10px;<br>        }<br>    </style><br><div class=\"wandb-row\"><div class=\"wandb-col\"><h3>Run history:</h3><br/><table class=\"wandb\"><tr><td>epoch</td><td>▁▁▂▂▂▃▃▄▄▄▅▅▅▆▆▇▇▇██</td></tr><tr><td>sequence_accuracy</td><td>▁▁▁▁▁▁▁▁▂▂▂▃▃▃▃▄▅▆▇█</td></tr><tr><td>token_accuracy</td><td>▁▂▃▃▃▄▄▄▄▅▅▆▆▆▆▇▇███</td></tr><tr><td>train_loss</td><td>█▆▆▅▅▄▄▄▃▃▃▂▂▂▂▂▁▁▁▁</td></tr></table><br/></div><div class=\"wandb-col\"><h3>Run summary:</h3><br/><table class=\"wandb\"><tr><td>epoch</td><td>20</td></tr><tr><td>sequence_accuracy</td><td>0.0397</td></tr><tr><td>token_accuracy</td><td>0.35542</td></tr><tr><td>train_loss</td><td>1.05242</td></tr></table><br/></div></div>"
      ],
      "text/plain": [
       "<IPython.core.display.HTML object>"
      ]
     },
     "metadata": {},
     "output_type": "display_data"
    },
    {
     "data": {
      "text/html": [
       " View run <strong style=\"color:#cdcd00\">ruby-sweep-1</strong> at: <a href='https://wandb.ai/ishita49-indian-institute-of-technology-madras/DA6401%20Assign3/runs/oid6xp4v' target=\"_blank\">https://wandb.ai/ishita49-indian-institute-of-technology-madras/DA6401%20Assign3/runs/oid6xp4v</a><br> View project at: <a href='https://wandb.ai/ishita49-indian-institute-of-technology-madras/DA6401%20Assign3' target=\"_blank\">https://wandb.ai/ishita49-indian-institute-of-technology-madras/DA6401%20Assign3</a><br>Synced 5 W&B file(s), 0 media file(s), 0 artifact file(s) and 0 other file(s)"
      ],
      "text/plain": [
       "<IPython.core.display.HTML object>"
      ]
     },
     "metadata": {},
     "output_type": "display_data"
    },
    {
     "data": {
      "text/html": [
       "Find logs at: <code>./wandb/run-20250518_200502-oid6xp4v/logs</code>"
      ],
      "text/plain": [
       "<IPython.core.display.HTML object>"
      ]
     },
     "metadata": {},
     "output_type": "display_data"
    },
    {
     "name": "stderr",
     "output_type": "stream",
     "text": [
      "\u001b[34m\u001b[1mwandb\u001b[0m: Agent Starting Run: pkiwqr9r with config:\n",
      "\u001b[34m\u001b[1mwandb\u001b[0m: \tbatch_size: 256\n",
      "\u001b[34m\u001b[1mwandb\u001b[0m: \tbeam_size: 5\n",
      "\u001b[34m\u001b[1mwandb\u001b[0m: \tcell_type: GRU\n",
      "\u001b[34m\u001b[1mwandb\u001b[0m: \tdropout: 0.3\n",
      "\u001b[34m\u001b[1mwandb\u001b[0m: \tembed_size: 32\n",
      "\u001b[34m\u001b[1mwandb\u001b[0m: \thidden_size: 64\n",
      "\u001b[34m\u001b[1mwandb\u001b[0m: \tlearning_rate: 0.001\n",
      "\u001b[34m\u001b[1mwandb\u001b[0m: \tnum_decoder_layers: 2\n",
      "\u001b[34m\u001b[1mwandb\u001b[0m: \tnum_encoder_layers: 1\n"
     ]
    },
    {
     "data": {
      "text/html": [
       "Tracking run with wandb version 0.19.9"
      ],
      "text/plain": [
       "<IPython.core.display.HTML object>"
      ]
     },
     "metadata": {},
     "output_type": "display_data"
    },
    {
     "data": {
      "text/html": [
       "Run data is saved locally in <code>/kaggle/working/wandb/run-20250518_203543-pkiwqr9r</code>"
      ],
      "text/plain": [
       "<IPython.core.display.HTML object>"
      ]
     },
     "metadata": {},
     "output_type": "display_data"
    },
    {
     "data": {
      "text/html": [
       "Syncing run <strong><a href='https://wandb.ai/ishita49-indian-institute-of-technology-madras/DA6401%20Assign3/runs/pkiwqr9r' target=\"_blank\">lyric-sweep-2</a></strong> to <a href='https://wandb.ai/ishita49-indian-institute-of-technology-madras/DA6401%20Assign3' target=\"_blank\">Weights & Biases</a> (<a href='https://wandb.me/developer-guide' target=\"_blank\">docs</a>)<br>Sweep page: <a href='https://wandb.ai/ishita49-indian-institute-of-technology-madras/DA6401%20Assign3/sweeps/2qor0304' target=\"_blank\">https://wandb.ai/ishita49-indian-institute-of-technology-madras/DA6401%20Assign3/sweeps/2qor0304</a>"
      ],
      "text/plain": [
       "<IPython.core.display.HTML object>"
      ]
     },
     "metadata": {},
     "output_type": "display_data"
    },
    {
     "data": {
      "text/html": [
       " View project at <a href='https://wandb.ai/ishita49-indian-institute-of-technology-madras/DA6401%20Assign3' target=\"_blank\">https://wandb.ai/ishita49-indian-institute-of-technology-madras/DA6401%20Assign3</a>"
      ],
      "text/plain": [
       "<IPython.core.display.HTML object>"
      ]
     },
     "metadata": {},
     "output_type": "display_data"
    },
    {
     "data": {
      "text/html": [
       " View sweep at <a href='https://wandb.ai/ishita49-indian-institute-of-technology-madras/DA6401%20Assign3/sweeps/2qor0304' target=\"_blank\">https://wandb.ai/ishita49-indian-institute-of-technology-madras/DA6401%20Assign3/sweeps/2qor0304</a>"
      ],
      "text/plain": [
       "<IPython.core.display.HTML object>"
      ]
     },
     "metadata": {},
     "output_type": "display_data"
    },
    {
     "data": {
      "text/html": [
       " View run at <a href='https://wandb.ai/ishita49-indian-institute-of-technology-madras/DA6401%20Assign3/runs/pkiwqr9r' target=\"_blank\">https://wandb.ai/ishita49-indian-institute-of-technology-madras/DA6401%20Assign3/runs/pkiwqr9r</a>"
      ],
      "text/plain": [
       "<IPython.core.display.HTML object>"
      ]
     },
     "metadata": {},
     "output_type": "display_data"
    },
    {
     "name": "stderr",
     "output_type": "stream",
     "text": [
      "Epoch 1/20: 100%|██████████| 173/173 [00:05<00:00, 34.59it/s]\n"
     ]
    },
    {
     "name": "stdout",
     "output_type": "stream",
     "text": [
      "Epoch 1/20 Train Loss: 2.8008\n",
      "Token Accuracy: 0.1044\n",
      "Sequence Accuracy: 0.0002\n"
     ]
    },
    {
     "name": "stderr",
     "output_type": "stream",
     "text": [
      "Epoch 2/20: 100%|██████████| 173/173 [00:04<00:00, 34.67it/s]\n"
     ]
    },
    {
     "name": "stdout",
     "output_type": "stream",
     "text": [
      "Epoch 2/20 Train Loss: 2.1534\n",
      "Token Accuracy: 0.1909\n",
      "Sequence Accuracy: 0.0007\n"
     ]
    },
    {
     "name": "stderr",
     "output_type": "stream",
     "text": [
      "Epoch 3/20: 100%|██████████| 173/173 [00:04<00:00, 34.64it/s]\n"
     ]
    },
    {
     "name": "stdout",
     "output_type": "stream",
     "text": [
      "Epoch 3/20 Train Loss: 1.8503\n",
      "Token Accuracy: 0.2021\n",
      "Sequence Accuracy: 0.0011\n"
     ]
    },
    {
     "name": "stderr",
     "output_type": "stream",
     "text": [
      "Epoch 4/20: 100%|██████████| 173/173 [00:05<00:00, 33.70it/s]\n"
     ]
    },
    {
     "name": "stdout",
     "output_type": "stream",
     "text": [
      "Epoch 4/20 Train Loss: 1.6700\n",
      "Token Accuracy: 0.2311\n",
      "Sequence Accuracy: 0.0016\n"
     ]
    },
    {
     "name": "stderr",
     "output_type": "stream",
     "text": [
      "Epoch 5/20: 100%|██████████| 173/173 [00:04<00:00, 34.62it/s]\n"
     ]
    },
    {
     "name": "stdout",
     "output_type": "stream",
     "text": [
      "Epoch 5/20 Train Loss: 1.5076\n",
      "Token Accuracy: 0.2602\n",
      "Sequence Accuracy: 0.0057\n"
     ]
    },
    {
     "name": "stderr",
     "output_type": "stream",
     "text": [
      "Epoch 6/20: 100%|██████████| 173/173 [00:05<00:00, 33.29it/s]\n"
     ]
    },
    {
     "name": "stdout",
     "output_type": "stream",
     "text": [
      "Epoch 6/20 Train Loss: 1.3674\n",
      "Token Accuracy: 0.2821\n",
      "Sequence Accuracy: 0.0117\n"
     ]
    },
    {
     "name": "stderr",
     "output_type": "stream",
     "text": [
      "Epoch 7/20: 100%|██████████| 173/173 [00:05<00:00, 34.42it/s]\n"
     ]
    },
    {
     "name": "stdout",
     "output_type": "stream",
     "text": [
      "Epoch 7/20 Train Loss: 1.2354\n",
      "Token Accuracy: 0.3091\n",
      "Sequence Accuracy: 0.0163\n"
     ]
    },
    {
     "name": "stderr",
     "output_type": "stream",
     "text": [
      "Epoch 8/20: 100%|██████████| 173/173 [00:04<00:00, 34.80it/s]\n"
     ]
    },
    {
     "name": "stdout",
     "output_type": "stream",
     "text": [
      "Epoch 8/20 Train Loss: 1.1402\n",
      "Token Accuracy: 0.3164\n",
      "Sequence Accuracy: 0.0239\n"
     ]
    },
    {
     "name": "stderr",
     "output_type": "stream",
     "text": [
      "Epoch 9/20: 100%|██████████| 173/173 [00:04<00:00, 34.71it/s]\n"
     ]
    },
    {
     "name": "stdout",
     "output_type": "stream",
     "text": [
      "Epoch 9/20 Train Loss: 1.0641\n",
      "Token Accuracy: 0.3481\n",
      "Sequence Accuracy: 0.0374\n"
     ]
    },
    {
     "name": "stderr",
     "output_type": "stream",
     "text": [
      "Epoch 10/20: 100%|██████████| 173/173 [00:05<00:00, 32.33it/s]\n"
     ]
    },
    {
     "name": "stdout",
     "output_type": "stream",
     "text": [
      "Epoch 10/20 Train Loss: 0.9879\n",
      "Token Accuracy: 0.3759\n",
      "Sequence Accuracy: 0.0555\n"
     ]
    },
    {
     "name": "stderr",
     "output_type": "stream",
     "text": [
      "Epoch 11/20: 100%|██████████| 173/173 [00:05<00:00, 34.17it/s]\n"
     ]
    },
    {
     "name": "stdout",
     "output_type": "stream",
     "text": [
      "Epoch 11/20 Train Loss: 0.9300\n",
      "Token Accuracy: 0.4034\n",
      "Sequence Accuracy: 0.0686\n"
     ]
    },
    {
     "name": "stderr",
     "output_type": "stream",
     "text": [
      "Epoch 12/20: 100%|██████████| 173/173 [00:05<00:00, 34.45it/s]\n"
     ]
    },
    {
     "name": "stdout",
     "output_type": "stream",
     "text": [
      "Epoch 12/20 Train Loss: 0.8685\n",
      "Token Accuracy: 0.4381\n",
      "Sequence Accuracy: 0.0932\n"
     ]
    },
    {
     "name": "stderr",
     "output_type": "stream",
     "text": [
      "Epoch 13/20: 100%|██████████| 173/173 [00:05<00:00, 34.50it/s]\n"
     ]
    },
    {
     "name": "stdout",
     "output_type": "stream",
     "text": [
      "Epoch 13/20 Train Loss: 0.8255\n",
      "Token Accuracy: 0.4560\n",
      "Sequence Accuracy: 0.1021\n"
     ]
    },
    {
     "name": "stderr",
     "output_type": "stream",
     "text": [
      "Epoch 14/20: 100%|██████████| 173/173 [00:05<00:00, 33.06it/s]\n"
     ]
    },
    {
     "name": "stdout",
     "output_type": "stream",
     "text": [
      "Epoch 14/20 Train Loss: 0.7773\n",
      "Token Accuracy: 0.4766\n",
      "Sequence Accuracy: 0.1207\n"
     ]
    },
    {
     "name": "stderr",
     "output_type": "stream",
     "text": [
      "Epoch 15/20: 100%|██████████| 173/173 [00:05<00:00, 34.20it/s]\n"
     ]
    },
    {
     "name": "stdout",
     "output_type": "stream",
     "text": [
      "Epoch 15/20 Train Loss: 0.7414\n",
      "Token Accuracy: 0.4904\n",
      "Sequence Accuracy: 0.1303\n"
     ]
    },
    {
     "name": "stderr",
     "output_type": "stream",
     "text": [
      "Epoch 16/20: 100%|██████████| 173/173 [00:05<00:00, 33.60it/s]\n"
     ]
    },
    {
     "name": "stdout",
     "output_type": "stream",
     "text": [
      "Epoch 16/20 Train Loss: 0.7102\n",
      "Token Accuracy: 0.5054\n",
      "Sequence Accuracy: 0.1439\n"
     ]
    },
    {
     "name": "stderr",
     "output_type": "stream",
     "text": [
      "Epoch 17/20: 100%|██████████| 173/173 [00:05<00:00, 33.30it/s]\n"
     ]
    },
    {
     "name": "stdout",
     "output_type": "stream",
     "text": [
      "Epoch 17/20 Train Loss: 0.6858\n",
      "Token Accuracy: 0.5184\n",
      "Sequence Accuracy: 0.1560\n"
     ]
    },
    {
     "name": "stderr",
     "output_type": "stream",
     "text": [
      "Epoch 18/20: 100%|██████████| 173/173 [00:05<00:00, 34.42it/s]\n"
     ]
    },
    {
     "name": "stdout",
     "output_type": "stream",
     "text": [
      "Epoch 18/20 Train Loss: 0.6521\n",
      "Token Accuracy: 0.5319\n",
      "Sequence Accuracy: 0.1673\n"
     ]
    },
    {
     "name": "stderr",
     "output_type": "stream",
     "text": [
      "Epoch 19/20: 100%|██████████| 173/173 [00:05<00:00, 34.32it/s]\n"
     ]
    },
    {
     "name": "stdout",
     "output_type": "stream",
     "text": [
      "Epoch 19/20 Train Loss: 0.6361\n",
      "Token Accuracy: 0.5539\n",
      "Sequence Accuracy: 0.1831\n"
     ]
    },
    {
     "name": "stderr",
     "output_type": "stream",
     "text": [
      "Epoch 20/20: 100%|██████████| 173/173 [00:05<00:00, 34.55it/s]\n"
     ]
    },
    {
     "name": "stdout",
     "output_type": "stream",
     "text": [
      "Epoch 20/20 Train Loss: 0.6117\n",
      "Token Accuracy: 0.5516\n",
      "Sequence Accuracy: 0.1852\n"
     ]
    },
    {
     "data": {
      "text/html": [],
      "text/plain": [
       "<IPython.core.display.HTML object>"
      ]
     },
     "metadata": {},
     "output_type": "display_data"
    },
    {
     "data": {
      "text/html": [
       "<br>    <style><br>        .wandb-row {<br>            display: flex;<br>            flex-direction: row;<br>            flex-wrap: wrap;<br>            justify-content: flex-start;<br>            width: 100%;<br>        }<br>        .wandb-col {<br>            display: flex;<br>            flex-direction: column;<br>            flex-basis: 100%;<br>            flex: 1;<br>            padding: 10px;<br>        }<br>    </style><br><div class=\"wandb-row\"><div class=\"wandb-col\"><h3>Run history:</h3><br/><table class=\"wandb\"><tr><td>epoch</td><td>▁▁▂▂▂▃▃▄▄▄▅▅▅▆▆▇▇▇██</td></tr><tr><td>sequence_accuracy</td><td>▁▁▁▁▁▁▂▂▂▃▄▅▅▆▆▆▇▇██</td></tr><tr><td>token_accuracy</td><td>▁▂▃▃▃▄▄▄▅▅▆▆▆▇▇▇▇███</td></tr><tr><td>train_loss</td><td>█▆▅▄▄▃▃▃▂▂▂▂▂▂▁▁▁▁▁▁</td></tr></table><br/></div><div class=\"wandb-col\"><h3>Run summary:</h3><br/><table class=\"wandb\"><tr><td>epoch</td><td>20</td></tr><tr><td>sequence_accuracy</td><td>0.18518</td></tr><tr><td>token_accuracy</td><td>0.55162</td></tr><tr><td>train_loss</td><td>0.61174</td></tr></table><br/></div></div>"
      ],
      "text/plain": [
       "<IPython.core.display.HTML object>"
      ]
     },
     "metadata": {},
     "output_type": "display_data"
    },
    {
     "data": {
      "text/html": [
       " View run <strong style=\"color:#cdcd00\">lyric-sweep-2</strong> at: <a href='https://wandb.ai/ishita49-indian-institute-of-technology-madras/DA6401%20Assign3/runs/pkiwqr9r' target=\"_blank\">https://wandb.ai/ishita49-indian-institute-of-technology-madras/DA6401%20Assign3/runs/pkiwqr9r</a><br> View project at: <a href='https://wandb.ai/ishita49-indian-institute-of-technology-madras/DA6401%20Assign3' target=\"_blank\">https://wandb.ai/ishita49-indian-institute-of-technology-madras/DA6401%20Assign3</a><br>Synced 5 W&B file(s), 0 media file(s), 0 artifact file(s) and 0 other file(s)"
      ],
      "text/plain": [
       "<IPython.core.display.HTML object>"
      ]
     },
     "metadata": {},
     "output_type": "display_data"
    },
    {
     "data": {
      "text/html": [
       "Find logs at: <code>./wandb/run-20250518_203543-pkiwqr9r/logs</code>"
      ],
      "text/plain": [
       "<IPython.core.display.HTML object>"
      ]
     },
     "metadata": {},
     "output_type": "display_data"
    },
    {
     "name": "stderr",
     "output_type": "stream",
     "text": [
      "\u001b[34m\u001b[1mwandb\u001b[0m: Agent Starting Run: q4p85buf with config:\n",
      "\u001b[34m\u001b[1mwandb\u001b[0m: \tbatch_size: 256\n",
      "\u001b[34m\u001b[1mwandb\u001b[0m: \tbeam_size: 3\n",
      "\u001b[34m\u001b[1mwandb\u001b[0m: \tcell_type: LSTM\n",
      "\u001b[34m\u001b[1mwandb\u001b[0m: \tdropout: 0.4\n",
      "\u001b[34m\u001b[1mwandb\u001b[0m: \tembed_size: 16\n",
      "\u001b[34m\u001b[1mwandb\u001b[0m: \thidden_size: 32\n",
      "\u001b[34m\u001b[1mwandb\u001b[0m: \tlearning_rate: 0.001\n",
      "\u001b[34m\u001b[1mwandb\u001b[0m: \tnum_decoder_layers: 2\n",
      "\u001b[34m\u001b[1mwandb\u001b[0m: \tnum_encoder_layers: 2\n"
     ]
    },
    {
     "data": {
      "text/html": [
       "Tracking run with wandb version 0.19.9"
      ],
      "text/plain": [
       "<IPython.core.display.HTML object>"
      ]
     },
     "metadata": {},
     "output_type": "display_data"
    },
    {
     "data": {
      "text/html": [
       "Run data is saved locally in <code>/kaggle/working/wandb/run-20250518_210548-q4p85buf</code>"
      ],
      "text/plain": [
       "<IPython.core.display.HTML object>"
      ]
     },
     "metadata": {},
     "output_type": "display_data"
    },
    {
     "data": {
      "text/html": [
       "Syncing run <strong><a href='https://wandb.ai/ishita49-indian-institute-of-technology-madras/DA6401%20Assign3/runs/q4p85buf' target=\"_blank\">robust-sweep-3</a></strong> to <a href='https://wandb.ai/ishita49-indian-institute-of-technology-madras/DA6401%20Assign3' target=\"_blank\">Weights & Biases</a> (<a href='https://wandb.me/developer-guide' target=\"_blank\">docs</a>)<br>Sweep page: <a href='https://wandb.ai/ishita49-indian-institute-of-technology-madras/DA6401%20Assign3/sweeps/2qor0304' target=\"_blank\">https://wandb.ai/ishita49-indian-institute-of-technology-madras/DA6401%20Assign3/sweeps/2qor0304</a>"
      ],
      "text/plain": [
       "<IPython.core.display.HTML object>"
      ]
     },
     "metadata": {},
     "output_type": "display_data"
    },
    {
     "data": {
      "text/html": [
       " View project at <a href='https://wandb.ai/ishita49-indian-institute-of-technology-madras/DA6401%20Assign3' target=\"_blank\">https://wandb.ai/ishita49-indian-institute-of-technology-madras/DA6401%20Assign3</a>"
      ],
      "text/plain": [
       "<IPython.core.display.HTML object>"
      ]
     },
     "metadata": {},
     "output_type": "display_data"
    },
    {
     "data": {
      "text/html": [
       " View sweep at <a href='https://wandb.ai/ishita49-indian-institute-of-technology-madras/DA6401%20Assign3/sweeps/2qor0304' target=\"_blank\">https://wandb.ai/ishita49-indian-institute-of-technology-madras/DA6401%20Assign3/sweeps/2qor0304</a>"
      ],
      "text/plain": [
       "<IPython.core.display.HTML object>"
      ]
     },
     "metadata": {},
     "output_type": "display_data"
    },
    {
     "data": {
      "text/html": [
       " View run at <a href='https://wandb.ai/ishita49-indian-institute-of-technology-madras/DA6401%20Assign3/runs/q4p85buf' target=\"_blank\">https://wandb.ai/ishita49-indian-institute-of-technology-madras/DA6401%20Assign3/runs/q4p85buf</a>"
      ],
      "text/plain": [
       "<IPython.core.display.HTML object>"
      ]
     },
     "metadata": {},
     "output_type": "display_data"
    },
    {
     "name": "stderr",
     "output_type": "stream",
     "text": [
      "Epoch 1/20: 100%|██████████| 173/173 [00:05<00:00, 29.82it/s]\n"
     ]
    },
    {
     "name": "stdout",
     "output_type": "stream",
     "text": [
      "Epoch 1/20 Train Loss: 3.0467\n",
      "Token Accuracy: 0.1017\n",
      "Sequence Accuracy: 0.0000\n"
     ]
    },
    {
     "name": "stderr",
     "output_type": "stream",
     "text": [
      "Epoch 2/20: 100%|██████████| 173/173 [00:05<00:00, 31.32it/s]\n"
     ]
    },
    {
     "name": "stdout",
     "output_type": "stream",
     "text": [
      "Epoch 2/20 Train Loss: 2.5928\n",
      "Token Accuracy: 0.1164\n",
      "Sequence Accuracy: 0.0000\n"
     ]
    },
    {
     "name": "stderr",
     "output_type": "stream",
     "text": [
      "Epoch 3/20: 100%|██████████| 173/173 [00:05<00:00, 31.33it/s]\n"
     ]
    },
    {
     "name": "stdout",
     "output_type": "stream",
     "text": [
      "Epoch 3/20 Train Loss: 2.5047\n",
      "Token Accuracy: 0.1374\n",
      "Sequence Accuracy: 0.0000\n"
     ]
    },
    {
     "name": "stderr",
     "output_type": "stream",
     "text": [
      "Epoch 4/20: 100%|██████████| 173/173 [00:05<00:00, 30.52it/s]\n"
     ]
    },
    {
     "name": "stdout",
     "output_type": "stream",
     "text": [
      "Epoch 4/20 Train Loss: 2.3641\n",
      "Token Accuracy: 0.1584\n",
      "Sequence Accuracy: 0.0000\n"
     ]
    },
    {
     "name": "stderr",
     "output_type": "stream",
     "text": [
      "Epoch 5/20: 100%|██████████| 173/173 [00:05<00:00, 31.60it/s]\n"
     ]
    },
    {
     "name": "stdout",
     "output_type": "stream",
     "text": [
      "Epoch 5/20 Train Loss: 2.1860\n",
      "Token Accuracy: 0.1666\n",
      "Sequence Accuracy: 0.0000\n"
     ]
    },
    {
     "name": "stderr",
     "output_type": "stream",
     "text": [
      "Epoch 6/20: 100%|██████████| 173/173 [00:05<00:00, 30.90it/s]\n"
     ]
    },
    {
     "name": "stdout",
     "output_type": "stream",
     "text": [
      "Epoch 6/20 Train Loss: 2.0381\n",
      "Token Accuracy: 0.1834\n",
      "Sequence Accuracy: 0.0000\n"
     ]
    },
    {
     "name": "stderr",
     "output_type": "stream",
     "text": [
      "Epoch 7/20: 100%|██████████| 173/173 [00:05<00:00, 31.28it/s]\n"
     ]
    },
    {
     "name": "stdout",
     "output_type": "stream",
     "text": [
      "Epoch 7/20 Train Loss: 1.9398\n",
      "Token Accuracy: 0.1980\n",
      "Sequence Accuracy: 0.0000\n"
     ]
    },
    {
     "name": "stderr",
     "output_type": "stream",
     "text": [
      "Epoch 8/20: 100%|██████████| 173/173 [00:05<00:00, 30.32it/s]\n"
     ]
    },
    {
     "name": "stdout",
     "output_type": "stream",
     "text": [
      "Epoch 8/20 Train Loss: 1.8470\n",
      "Token Accuracy: 0.2063\n",
      "Sequence Accuracy: 0.0005\n"
     ]
    },
    {
     "name": "stderr",
     "output_type": "stream",
     "text": [
      "Epoch 9/20: 100%|██████████| 173/173 [00:05<00:00, 31.13it/s]\n"
     ]
    },
    {
     "name": "stdout",
     "output_type": "stream",
     "text": [
      "Epoch 9/20 Train Loss: 1.7814\n",
      "Token Accuracy: 0.2194\n",
      "Sequence Accuracy: 0.0005\n"
     ]
    },
    {
     "name": "stderr",
     "output_type": "stream",
     "text": [
      "Epoch 10/20: 100%|██████████| 173/173 [00:05<00:00, 30.85it/s]\n"
     ]
    },
    {
     "name": "stdout",
     "output_type": "stream",
     "text": [
      "Epoch 10/20 Train Loss: 1.7178\n",
      "Token Accuracy: 0.2331\n",
      "Sequence Accuracy: 0.0011\n"
     ]
    },
    {
     "name": "stderr",
     "output_type": "stream",
     "text": [
      "Epoch 11/20: 100%|██████████| 173/173 [00:05<00:00, 30.35it/s]\n"
     ]
    },
    {
     "name": "stdout",
     "output_type": "stream",
     "text": [
      "Epoch 11/20 Train Loss: 1.6564\n",
      "Token Accuracy: 0.2455\n",
      "Sequence Accuracy: 0.0018\n"
     ]
    },
    {
     "name": "stderr",
     "output_type": "stream",
     "text": [
      "Epoch 12/20: 100%|██████████| 173/173 [00:05<00:00, 31.02it/s]\n"
     ]
    },
    {
     "name": "stdout",
     "output_type": "stream",
     "text": [
      "Epoch 12/20 Train Loss: 1.5963\n",
      "Token Accuracy: 0.2601\n",
      "Sequence Accuracy: 0.0018\n"
     ]
    },
    {
     "name": "stderr",
     "output_type": "stream",
     "text": [
      "Epoch 13/20: 100%|██████████| 173/173 [00:05<00:00, 31.38it/s]\n"
     ]
    },
    {
     "name": "stdout",
     "output_type": "stream",
     "text": [
      "Epoch 13/20 Train Loss: 1.5524\n",
      "Token Accuracy: 0.2809\n",
      "Sequence Accuracy: 0.0032\n"
     ]
    },
    {
     "name": "stderr",
     "output_type": "stream",
     "text": [
      "Epoch 14/20: 100%|██████████| 173/173 [00:05<00:00, 29.51it/s]\n"
     ]
    },
    {
     "name": "stdout",
     "output_type": "stream",
     "text": [
      "Epoch 14/20 Train Loss: 1.4999\n",
      "Token Accuracy: 0.2882\n",
      "Sequence Accuracy: 0.0039\n"
     ]
    },
    {
     "name": "stderr",
     "output_type": "stream",
     "text": [
      "Epoch 15/20: 100%|██████████| 173/173 [00:05<00:00, 31.32it/s]\n"
     ]
    },
    {
     "name": "stdout",
     "output_type": "stream",
     "text": [
      "Epoch 15/20 Train Loss: 1.4575\n",
      "Token Accuracy: 0.3051\n",
      "Sequence Accuracy: 0.0101\n"
     ]
    },
    {
     "name": "stderr",
     "output_type": "stream",
     "text": [
      "Epoch 16/20: 100%|██████████| 173/173 [00:05<00:00, 29.93it/s]\n"
     ]
    },
    {
     "name": "stdout",
     "output_type": "stream",
     "text": [
      "Epoch 16/20 Train Loss: 1.4115\n",
      "Token Accuracy: 0.3192\n",
      "Sequence Accuracy: 0.0101\n"
     ]
    },
    {
     "name": "stderr",
     "output_type": "stream",
     "text": [
      "Epoch 17/20: 100%|██████████| 173/173 [00:05<00:00, 31.04it/s]\n"
     ]
    },
    {
     "name": "stdout",
     "output_type": "stream",
     "text": [
      "Epoch 17/20 Train Loss: 1.3653\n",
      "Token Accuracy: 0.3283\n",
      "Sequence Accuracy: 0.0145\n"
     ]
    },
    {
     "name": "stderr",
     "output_type": "stream",
     "text": [
      "Epoch 18/20: 100%|██████████| 173/173 [00:05<00:00, 31.01it/s]\n"
     ]
    },
    {
     "name": "stdout",
     "output_type": "stream",
     "text": [
      "Epoch 18/20 Train Loss: 1.3369\n",
      "Token Accuracy: 0.3420\n",
      "Sequence Accuracy: 0.0161\n"
     ]
    },
    {
     "name": "stderr",
     "output_type": "stream",
     "text": [
      "Epoch 19/20: 100%|██████████| 173/173 [00:05<00:00, 30.88it/s]\n"
     ]
    },
    {
     "name": "stdout",
     "output_type": "stream",
     "text": [
      "Epoch 19/20 Train Loss: 1.2940\n",
      "Token Accuracy: 0.3515\n",
      "Sequence Accuracy: 0.0232\n"
     ]
    },
    {
     "name": "stderr",
     "output_type": "stream",
     "text": [
      "Epoch 20/20: 100%|██████████| 173/173 [00:05<00:00, 31.08it/s]\n"
     ]
    },
    {
     "name": "stdout",
     "output_type": "stream",
     "text": [
      "Epoch 20/20 Train Loss: 1.2521\n",
      "Token Accuracy: 0.3607\n",
      "Sequence Accuracy: 0.0241\n"
     ]
    },
    {
     "data": {
      "text/html": [],
      "text/plain": [
       "<IPython.core.display.HTML object>"
      ]
     },
     "metadata": {},
     "output_type": "display_data"
    },
    {
     "data": {
      "text/html": [
       "<br>    <style><br>        .wandb-row {<br>            display: flex;<br>            flex-direction: row;<br>            flex-wrap: wrap;<br>            justify-content: flex-start;<br>            width: 100%;<br>        }<br>        .wandb-col {<br>            display: flex;<br>            flex-direction: column;<br>            flex-basis: 100%;<br>            flex: 1;<br>            padding: 10px;<br>        }<br>    </style><br><div class=\"wandb-row\"><div class=\"wandb-col\"><h3>Run history:</h3><br/><table class=\"wandb\"><tr><td>epoch</td><td>▁▁▂▂▂▃▃▄▄▄▅▅▅▆▆▇▇▇██</td></tr><tr><td>sequence_accuracy</td><td>▁▁▁▁▁▁▁▁▁▁▂▂▂▂▄▄▅▆██</td></tr><tr><td>token_accuracy</td><td>▁▁▂▃▃▃▄▄▄▅▅▅▆▆▆▇▇▇██</td></tr><tr><td>train_loss</td><td>█▆▆▅▅▄▄▃▃▃▃▂▂▂▂▂▁▁▁▁</td></tr></table><br/></div><div class=\"wandb-col\"><h3>Run summary:</h3><br/><table class=\"wandb\"><tr><td>epoch</td><td>20</td></tr><tr><td>sequence_accuracy</td><td>0.02409</td></tr><tr><td>token_accuracy</td><td>0.36068</td></tr><tr><td>train_loss</td><td>1.25206</td></tr></table><br/></div></div>"
      ],
      "text/plain": [
       "<IPython.core.display.HTML object>"
      ]
     },
     "metadata": {},
     "output_type": "display_data"
    },
    {
     "data": {
      "text/html": [
       " View run <strong style=\"color:#cdcd00\">robust-sweep-3</strong> at: <a href='https://wandb.ai/ishita49-indian-institute-of-technology-madras/DA6401%20Assign3/runs/q4p85buf' target=\"_blank\">https://wandb.ai/ishita49-indian-institute-of-technology-madras/DA6401%20Assign3/runs/q4p85buf</a><br> View project at: <a href='https://wandb.ai/ishita49-indian-institute-of-technology-madras/DA6401%20Assign3' target=\"_blank\">https://wandb.ai/ishita49-indian-institute-of-technology-madras/DA6401%20Assign3</a><br>Synced 5 W&B file(s), 0 media file(s), 0 artifact file(s) and 0 other file(s)"
      ],
      "text/plain": [
       "<IPython.core.display.HTML object>"
      ]
     },
     "metadata": {},
     "output_type": "display_data"
    },
    {
     "data": {
      "text/html": [
       "Find logs at: <code>./wandb/run-20250518_210548-q4p85buf/logs</code>"
      ],
      "text/plain": [
       "<IPython.core.display.HTML object>"
      ]
     },
     "metadata": {},
     "output_type": "display_data"
    },
    {
     "name": "stderr",
     "output_type": "stream",
     "text": [
      "\u001b[34m\u001b[1mwandb\u001b[0m: Agent Starting Run: bsdkjnvf with config:\n",
      "\u001b[34m\u001b[1mwandb\u001b[0m: \tbatch_size: 512\n",
      "\u001b[34m\u001b[1mwandb\u001b[0m: \tbeam_size: 5\n",
      "\u001b[34m\u001b[1mwandb\u001b[0m: \tcell_type: LSTM\n",
      "\u001b[34m\u001b[1mwandb\u001b[0m: \tdropout: 0.4\n",
      "\u001b[34m\u001b[1mwandb\u001b[0m: \tembed_size: 32\n",
      "\u001b[34m\u001b[1mwandb\u001b[0m: \thidden_size: 64\n",
      "\u001b[34m\u001b[1mwandb\u001b[0m: \tlearning_rate: 0.001\n",
      "\u001b[34m\u001b[1mwandb\u001b[0m: \tnum_decoder_layers: 2\n",
      "\u001b[34m\u001b[1mwandb\u001b[0m: \tnum_encoder_layers: 2\n"
     ]
    },
    {
     "data": {
      "text/html": [
       "Tracking run with wandb version 0.19.9"
      ],
      "text/plain": [
       "<IPython.core.display.HTML object>"
      ]
     },
     "metadata": {},
     "output_type": "display_data"
    },
    {
     "data": {
      "text/html": [
       "Run data is saved locally in <code>/kaggle/working/wandb/run-20250518_212404-bsdkjnvf</code>"
      ],
      "text/plain": [
       "<IPython.core.display.HTML object>"
      ]
     },
     "metadata": {},
     "output_type": "display_data"
    },
    {
     "data": {
      "text/html": [
       "Syncing run <strong><a href='https://wandb.ai/ishita49-indian-institute-of-technology-madras/DA6401%20Assign3/runs/bsdkjnvf' target=\"_blank\">copper-sweep-4</a></strong> to <a href='https://wandb.ai/ishita49-indian-institute-of-technology-madras/DA6401%20Assign3' target=\"_blank\">Weights & Biases</a> (<a href='https://wandb.me/developer-guide' target=\"_blank\">docs</a>)<br>Sweep page: <a href='https://wandb.ai/ishita49-indian-institute-of-technology-madras/DA6401%20Assign3/sweeps/2qor0304' target=\"_blank\">https://wandb.ai/ishita49-indian-institute-of-technology-madras/DA6401%20Assign3/sweeps/2qor0304</a>"
      ],
      "text/plain": [
       "<IPython.core.display.HTML object>"
      ]
     },
     "metadata": {},
     "output_type": "display_data"
    },
    {
     "data": {
      "text/html": [
       " View project at <a href='https://wandb.ai/ishita49-indian-institute-of-technology-madras/DA6401%20Assign3' target=\"_blank\">https://wandb.ai/ishita49-indian-institute-of-technology-madras/DA6401%20Assign3</a>"
      ],
      "text/plain": [
       "<IPython.core.display.HTML object>"
      ]
     },
     "metadata": {},
     "output_type": "display_data"
    },
    {
     "data": {
      "text/html": [
       " View sweep at <a href='https://wandb.ai/ishita49-indian-institute-of-technology-madras/DA6401%20Assign3/sweeps/2qor0304' target=\"_blank\">https://wandb.ai/ishita49-indian-institute-of-technology-madras/DA6401%20Assign3/sweeps/2qor0304</a>"
      ],
      "text/plain": [
       "<IPython.core.display.HTML object>"
      ]
     },
     "metadata": {},
     "output_type": "display_data"
    },
    {
     "data": {
      "text/html": [
       " View run at <a href='https://wandb.ai/ishita49-indian-institute-of-technology-madras/DA6401%20Assign3/runs/bsdkjnvf' target=\"_blank\">https://wandb.ai/ishita49-indian-institute-of-technology-madras/DA6401%20Assign3/runs/bsdkjnvf</a>"
      ],
      "text/plain": [
       "<IPython.core.display.HTML object>"
      ]
     },
     "metadata": {},
     "output_type": "display_data"
    },
    {
     "name": "stderr",
     "output_type": "stream",
     "text": [
      "Epoch 1/20: 100%|██████████| 87/87 [00:03<00:00, 26.81it/s]\n"
     ]
    },
    {
     "name": "stdout",
     "output_type": "stream",
     "text": [
      "Epoch 1/20 Train Loss: 3.0463\n",
      "Token Accuracy: 0.0481\n",
      "Sequence Accuracy: 0.0000\n"
     ]
    },
    {
     "name": "stderr",
     "output_type": "stream",
     "text": [
      "Epoch 2/20: 100%|██████████| 87/87 [00:03<00:00, 25.95it/s]\n"
     ]
    },
    {
     "name": "stdout",
     "output_type": "stream",
     "text": [
      "Epoch 2/20 Train Loss: 2.5561\n",
      "Token Accuracy: 0.0837\n",
      "Sequence Accuracy: 0.0000\n"
     ]
    },
    {
     "name": "stderr",
     "output_type": "stream",
     "text": [
      "Epoch 3/20: 100%|██████████| 87/87 [00:03<00:00, 27.06it/s]\n"
     ]
    },
    {
     "name": "stdout",
     "output_type": "stream",
     "text": [
      "Epoch 3/20 Train Loss: 2.4281\n",
      "Token Accuracy: 0.0988\n",
      "Sequence Accuracy: 0.0000\n"
     ]
    },
    {
     "name": "stderr",
     "output_type": "stream",
     "text": [
      "Epoch 4/20: 100%|██████████| 87/87 [00:03<00:00, 26.34it/s]\n"
     ]
    },
    {
     "name": "stdout",
     "output_type": "stream",
     "text": [
      "Epoch 4/20 Train Loss: 2.2513\n",
      "Token Accuracy: 0.1340\n",
      "Sequence Accuracy: 0.0000\n"
     ]
    },
    {
     "name": "stderr",
     "output_type": "stream",
     "text": [
      "Epoch 5/20: 100%|██████████| 87/87 [00:03<00:00, 26.10it/s]\n"
     ]
    },
    {
     "name": "stdout",
     "output_type": "stream",
     "text": [
      "Epoch 5/20 Train Loss: 2.0796\n",
      "Token Accuracy: 0.1684\n",
      "Sequence Accuracy: 0.0000\n"
     ]
    },
    {
     "name": "stderr",
     "output_type": "stream",
     "text": [
      "Epoch 6/20: 100%|██████████| 87/87 [00:03<00:00, 27.39it/s]\n"
     ]
    },
    {
     "name": "stdout",
     "output_type": "stream",
     "text": [
      "Epoch 6/20 Train Loss: 1.9395\n",
      "Token Accuracy: 0.1978\n",
      "Sequence Accuracy: 0.0002\n"
     ]
    },
    {
     "name": "stderr",
     "output_type": "stream",
     "text": [
      "Epoch 7/20: 100%|██████████| 87/87 [00:03<00:00, 25.44it/s]\n"
     ]
    },
    {
     "name": "stdout",
     "output_type": "stream",
     "text": [
      "Epoch 7/20 Train Loss: 1.8180\n",
      "Token Accuracy: 0.2218\n",
      "Sequence Accuracy: 0.0005\n"
     ]
    },
    {
     "name": "stderr",
     "output_type": "stream",
     "text": [
      "Epoch 8/20: 100%|██████████| 87/87 [00:03<00:00, 27.59it/s]\n"
     ]
    },
    {
     "name": "stdout",
     "output_type": "stream",
     "text": [
      "Epoch 8/20 Train Loss: 1.7005\n",
      "Token Accuracy: 0.2416\n",
      "Sequence Accuracy: 0.0007\n"
     ]
    },
    {
     "name": "stderr",
     "output_type": "stream",
     "text": [
      "Epoch 9/20: 100%|██████████| 87/87 [00:03<00:00, 26.01it/s]\n"
     ]
    },
    {
     "name": "stdout",
     "output_type": "stream",
     "text": [
      "Epoch 9/20 Train Loss: 1.6127\n",
      "Token Accuracy: 0.2640\n",
      "Sequence Accuracy: 0.0023\n"
     ]
    },
    {
     "name": "stderr",
     "output_type": "stream",
     "text": [
      "Epoch 10/20: 100%|██████████| 87/87 [00:03<00:00, 27.24it/s]\n"
     ]
    },
    {
     "name": "stdout",
     "output_type": "stream",
     "text": [
      "Epoch 10/20 Train Loss: 1.5224\n",
      "Token Accuracy: 0.2735\n",
      "Sequence Accuracy: 0.0041\n"
     ]
    },
    {
     "name": "stderr",
     "output_type": "stream",
     "text": [
      "Epoch 11/20: 100%|██████████| 87/87 [00:03<00:00, 27.48it/s]\n"
     ]
    },
    {
     "name": "stdout",
     "output_type": "stream",
     "text": [
      "Epoch 11/20 Train Loss: 1.4342\n",
      "Token Accuracy: 0.3052\n",
      "Sequence Accuracy: 0.0087\n"
     ]
    },
    {
     "name": "stderr",
     "output_type": "stream",
     "text": [
      "Epoch 12/20: 100%|██████████| 87/87 [00:03<00:00, 25.54it/s]\n"
     ]
    },
    {
     "name": "stdout",
     "output_type": "stream",
     "text": [
      "Epoch 12/20 Train Loss: 1.3427\n",
      "Token Accuracy: 0.3351\n",
      "Sequence Accuracy: 0.0147\n"
     ]
    },
    {
     "name": "stderr",
     "output_type": "stream",
     "text": [
      "Epoch 13/20: 100%|██████████| 87/87 [00:03<00:00, 27.50it/s]\n"
     ]
    },
    {
     "name": "stdout",
     "output_type": "stream",
     "text": [
      "Epoch 13/20 Train Loss: 1.2778\n",
      "Token Accuracy: 0.3517\n",
      "Sequence Accuracy: 0.0186\n"
     ]
    },
    {
     "name": "stderr",
     "output_type": "stream",
     "text": [
      "Epoch 14/20: 100%|██████████| 87/87 [00:03<00:00, 25.94it/s]\n"
     ]
    },
    {
     "name": "stdout",
     "output_type": "stream",
     "text": [
      "Epoch 14/20 Train Loss: 1.2076\n",
      "Token Accuracy: 0.3760\n",
      "Sequence Accuracy: 0.0296\n"
     ]
    },
    {
     "name": "stderr",
     "output_type": "stream",
     "text": [
      "Epoch 15/20: 100%|██████████| 87/87 [00:03<00:00, 27.59it/s]\n"
     ]
    },
    {
     "name": "stdout",
     "output_type": "stream",
     "text": [
      "Epoch 15/20 Train Loss: 1.1401\n",
      "Token Accuracy: 0.3972\n",
      "Sequence Accuracy: 0.0367\n"
     ]
    },
    {
     "name": "stderr",
     "output_type": "stream",
     "text": [
      "Epoch 16/20: 100%|██████████| 87/87 [00:03<00:00, 27.73it/s]\n"
     ]
    },
    {
     "name": "stdout",
     "output_type": "stream",
     "text": [
      "Epoch 16/20 Train Loss: 1.0886\n",
      "Token Accuracy: 0.4136\n",
      "Sequence Accuracy: 0.0503\n"
     ]
    },
    {
     "name": "stderr",
     "output_type": "stream",
     "text": [
      "Epoch 17/20: 100%|██████████| 87/87 [00:03<00:00, 25.97it/s]\n"
     ]
    },
    {
     "name": "stdout",
     "output_type": "stream",
     "text": [
      "Epoch 17/20 Train Loss: 1.0357\n",
      "Token Accuracy: 0.4346\n",
      "Sequence Accuracy: 0.0620\n"
     ]
    },
    {
     "name": "stderr",
     "output_type": "stream",
     "text": [
      "Epoch 18/20: 100%|██████████| 87/87 [00:03<00:00, 27.27it/s]\n"
     ]
    },
    {
     "name": "stdout",
     "output_type": "stream",
     "text": [
      "Epoch 18/20 Train Loss: 0.9843\n",
      "Token Accuracy: 0.4494\n",
      "Sequence Accuracy: 0.0709\n"
     ]
    },
    {
     "name": "stderr",
     "output_type": "stream",
     "text": [
      "Epoch 19/20: 100%|██████████| 87/87 [00:03<00:00, 27.27it/s]\n"
     ]
    },
    {
     "name": "stdout",
     "output_type": "stream",
     "text": [
      "Epoch 19/20 Train Loss: 0.9483\n",
      "Token Accuracy: 0.4631\n",
      "Sequence Accuracy: 0.0844\n"
     ]
    },
    {
     "name": "stderr",
     "output_type": "stream",
     "text": [
      "Epoch 20/20: 100%|██████████| 87/87 [00:03<00:00, 25.16it/s]\n"
     ]
    },
    {
     "name": "stdout",
     "output_type": "stream",
     "text": [
      "Epoch 20/20 Train Loss: 0.9003\n",
      "Token Accuracy: 0.4861\n",
      "Sequence Accuracy: 0.1033\n"
     ]
    },
    {
     "data": {
      "text/html": [],
      "text/plain": [
       "<IPython.core.display.HTML object>"
      ]
     },
     "metadata": {},
     "output_type": "display_data"
    },
    {
     "data": {
      "text/html": [
       "<br>    <style><br>        .wandb-row {<br>            display: flex;<br>            flex-direction: row;<br>            flex-wrap: wrap;<br>            justify-content: flex-start;<br>            width: 100%;<br>        }<br>        .wandb-col {<br>            display: flex;<br>            flex-direction: column;<br>            flex-basis: 100%;<br>            flex: 1;<br>            padding: 10px;<br>        }<br>    </style><br><div class=\"wandb-row\"><div class=\"wandb-col\"><h3>Run history:</h3><br/><table class=\"wandb\"><tr><td>epoch</td><td>▁▁▂▂▂▃▃▄▄▄▅▅▅▆▆▇▇▇██</td></tr><tr><td>sequence_accuracy</td><td>▁▁▁▁▁▁▁▁▁▁▂▂▂▃▃▄▅▆▇█</td></tr><tr><td>token_accuracy</td><td>▁▂▂▂▃▃▄▄▄▅▅▆▆▆▇▇▇▇██</td></tr><tr><td>train_loss</td><td>█▆▆▅▅▄▄▄▃▃▃▂▂▂▂▂▁▁▁▁</td></tr></table><br/></div><div class=\"wandb-col\"><h3>Run summary:</h3><br/><table class=\"wandb\"><tr><td>epoch</td><td>20</td></tr><tr><td>sequence_accuracy</td><td>0.10326</td></tr><tr><td>token_accuracy</td><td>0.48607</td></tr><tr><td>train_loss</td><td>0.90034</td></tr></table><br/></div></div>"
      ],
      "text/plain": [
       "<IPython.core.display.HTML object>"
      ]
     },
     "metadata": {},
     "output_type": "display_data"
    },
    {
     "data": {
      "text/html": [
       " View run <strong style=\"color:#cdcd00\">copper-sweep-4</strong> at: <a href='https://wandb.ai/ishita49-indian-institute-of-technology-madras/DA6401%20Assign3/runs/bsdkjnvf' target=\"_blank\">https://wandb.ai/ishita49-indian-institute-of-technology-madras/DA6401%20Assign3/runs/bsdkjnvf</a><br> View project at: <a href='https://wandb.ai/ishita49-indian-institute-of-technology-madras/DA6401%20Assign3' target=\"_blank\">https://wandb.ai/ishita49-indian-institute-of-technology-madras/DA6401%20Assign3</a><br>Synced 5 W&B file(s), 0 media file(s), 0 artifact file(s) and 0 other file(s)"
      ],
      "text/plain": [
       "<IPython.core.display.HTML object>"
      ]
     },
     "metadata": {},
     "output_type": "display_data"
    },
    {
     "data": {
      "text/html": [
       "Find logs at: <code>./wandb/run-20250518_212404-bsdkjnvf/logs</code>"
      ],
      "text/plain": [
       "<IPython.core.display.HTML object>"
      ]
     },
     "metadata": {},
     "output_type": "display_data"
    },
    {
     "name": "stderr",
     "output_type": "stream",
     "text": [
      "\u001b[34m\u001b[1mwandb\u001b[0m: Agent Starting Run: bjqgil0d with config:\n",
      "\u001b[34m\u001b[1mwandb\u001b[0m: \tbatch_size: 512\n",
      "\u001b[34m\u001b[1mwandb\u001b[0m: \tbeam_size: 5\n",
      "\u001b[34m\u001b[1mwandb\u001b[0m: \tcell_type: GRU\n",
      "\u001b[34m\u001b[1mwandb\u001b[0m: \tdropout: 0.4\n",
      "\u001b[34m\u001b[1mwandb\u001b[0m: \tembed_size: 32\n",
      "\u001b[34m\u001b[1mwandb\u001b[0m: \thidden_size: 64\n",
      "\u001b[34m\u001b[1mwandb\u001b[0m: \tlearning_rate: 0.0005\n",
      "\u001b[34m\u001b[1mwandb\u001b[0m: \tnum_decoder_layers: 2\n",
      "\u001b[34m\u001b[1mwandb\u001b[0m: \tnum_encoder_layers: 1\n"
     ]
    },
    {
     "data": {
      "text/html": [
       "Tracking run with wandb version 0.19.9"
      ],
      "text/plain": [
       "<IPython.core.display.HTML object>"
      ]
     },
     "metadata": {},
     "output_type": "display_data"
    },
    {
     "data": {
      "text/html": [
       "Run data is saved locally in <code>/kaggle/working/wandb/run-20250518_215353-bjqgil0d</code>"
      ],
      "text/plain": [
       "<IPython.core.display.HTML object>"
      ]
     },
     "metadata": {},
     "output_type": "display_data"
    },
    {
     "data": {
      "text/html": [
       "Syncing run <strong><a href='https://wandb.ai/ishita49-indian-institute-of-technology-madras/DA6401%20Assign3/runs/bjqgil0d' target=\"_blank\">revived-sweep-5</a></strong> to <a href='https://wandb.ai/ishita49-indian-institute-of-technology-madras/DA6401%20Assign3' target=\"_blank\">Weights & Biases</a> (<a href='https://wandb.me/developer-guide' target=\"_blank\">docs</a>)<br>Sweep page: <a href='https://wandb.ai/ishita49-indian-institute-of-technology-madras/DA6401%20Assign3/sweeps/2qor0304' target=\"_blank\">https://wandb.ai/ishita49-indian-institute-of-technology-madras/DA6401%20Assign3/sweeps/2qor0304</a>"
      ],
      "text/plain": [
       "<IPython.core.display.HTML object>"
      ]
     },
     "metadata": {},
     "output_type": "display_data"
    },
    {
     "data": {
      "text/html": [
       " View project at <a href='https://wandb.ai/ishita49-indian-institute-of-technology-madras/DA6401%20Assign3' target=\"_blank\">https://wandb.ai/ishita49-indian-institute-of-technology-madras/DA6401%20Assign3</a>"
      ],
      "text/plain": [
       "<IPython.core.display.HTML object>"
      ]
     },
     "metadata": {},
     "output_type": "display_data"
    },
    {
     "data": {
      "text/html": [
       " View sweep at <a href='https://wandb.ai/ishita49-indian-institute-of-technology-madras/DA6401%20Assign3/sweeps/2qor0304' target=\"_blank\">https://wandb.ai/ishita49-indian-institute-of-technology-madras/DA6401%20Assign3/sweeps/2qor0304</a>"
      ],
      "text/plain": [
       "<IPython.core.display.HTML object>"
      ]
     },
     "metadata": {},
     "output_type": "display_data"
    },
    {
     "data": {
      "text/html": [
       " View run at <a href='https://wandb.ai/ishita49-indian-institute-of-technology-madras/DA6401%20Assign3/runs/bjqgil0d' target=\"_blank\">https://wandb.ai/ishita49-indian-institute-of-technology-madras/DA6401%20Assign3/runs/bjqgil0d</a>"
      ],
      "text/plain": [
       "<IPython.core.display.HTML object>"
      ]
     },
     "metadata": {},
     "output_type": "display_data"
    },
    {
     "name": "stderr",
     "output_type": "stream",
     "text": [
      "Epoch 1/20: 100%|██████████| 87/87 [00:03<00:00, 27.35it/s]\n"
     ]
    },
    {
     "name": "stdout",
     "output_type": "stream",
     "text": [
      "Epoch 1/20 Train Loss: 3.2740\n",
      "Token Accuracy: 0.0537\n",
      "Sequence Accuracy: 0.0000\n"
     ]
    },
    {
     "name": "stderr",
     "output_type": "stream",
     "text": [
      "Epoch 2/20: 100%|██████████| 87/87 [00:02<00:00, 29.60it/s]\n"
     ]
    },
    {
     "name": "stdout",
     "output_type": "stream",
     "text": [
      "Epoch 2/20 Train Loss: 2.6351\n",
      "Token Accuracy: 0.0800\n",
      "Sequence Accuracy: 0.0000\n"
     ]
    },
    {
     "name": "stderr",
     "output_type": "stream",
     "text": [
      "Epoch 3/20: 100%|██████████| 87/87 [00:02<00:00, 29.66it/s]\n"
     ]
    },
    {
     "name": "stdout",
     "output_type": "stream",
     "text": [
      "Epoch 3/20 Train Loss: 2.4458\n",
      "Token Accuracy: 0.1147\n",
      "Sequence Accuracy: 0.0002\n"
     ]
    },
    {
     "name": "stderr",
     "output_type": "stream",
     "text": [
      "Epoch 4/20: 100%|██████████| 87/87 [00:03<00:00, 28.23it/s]\n"
     ]
    },
    {
     "name": "stdout",
     "output_type": "stream",
     "text": [
      "Epoch 4/20 Train Loss: 2.3334\n",
      "Token Accuracy: 0.1302\n",
      "Sequence Accuracy: 0.0002\n"
     ]
    },
    {
     "name": "stderr",
     "output_type": "stream",
     "text": [
      "Epoch 5/20: 100%|██████████| 87/87 [00:02<00:00, 30.17it/s]\n"
     ]
    },
    {
     "name": "stdout",
     "output_type": "stream",
     "text": [
      "Epoch 5/20 Train Loss: 2.2538\n",
      "Token Accuracy: 0.1453\n",
      "Sequence Accuracy: 0.0007\n"
     ]
    },
    {
     "name": "stderr",
     "output_type": "stream",
     "text": [
      "Epoch 6/20: 100%|██████████| 87/87 [00:03<00:00, 28.59it/s]\n"
     ]
    },
    {
     "name": "stdout",
     "output_type": "stream",
     "text": [
      "Epoch 6/20 Train Loss: 2.1373\n",
      "Token Accuracy: 0.1729\n",
      "Sequence Accuracy: 0.0005\n"
     ]
    },
    {
     "name": "stderr",
     "output_type": "stream",
     "text": [
      "Epoch 7/20: 100%|██████████| 87/87 [00:02<00:00, 30.05it/s]\n"
     ]
    },
    {
     "name": "stdout",
     "output_type": "stream",
     "text": [
      "Epoch 7/20 Train Loss: 2.0272\n",
      "Token Accuracy: 0.1802\n",
      "Sequence Accuracy: 0.0005\n"
     ]
    },
    {
     "name": "stderr",
     "output_type": "stream",
     "text": [
      "Epoch 8/20: 100%|██████████| 87/87 [00:02<00:00, 30.21it/s]\n"
     ]
    },
    {
     "name": "stdout",
     "output_type": "stream",
     "text": [
      "Epoch 8/20 Train Loss: 1.9755\n"
     ]
    },
    {
     "data": {
      "text/html": [],
      "text/plain": [
       "<IPython.core.display.HTML object>"
      ]
     },
     "metadata": {},
     "output_type": "display_data"
    },
    {
     "data": {
      "text/html": [
       "<br>    <style><br>        .wandb-row {<br>            display: flex;<br>            flex-direction: row;<br>            flex-wrap: wrap;<br>            justify-content: flex-start;<br>            width: 100%;<br>        }<br>        .wandb-col {<br>            display: flex;<br>            flex-direction: column;<br>            flex-basis: 100%;<br>            flex: 1;<br>            padding: 10px;<br>        }<br>    </style><br><div class=\"wandb-row\"><div class=\"wandb-col\"><h3>Run history:</h3><br/><table class=\"wandb\"><tr><td>epoch</td><td>▁▂▃▅▆▇█</td></tr><tr><td>sequence_accuracy</td><td>▁▁▃▃█▆▆</td></tr><tr><td>token_accuracy</td><td>▁▂▄▅▆██</td></tr><tr><td>train_loss</td><td>█▄▃▃▂▂▁</td></tr></table><br/></div><div class=\"wandb-col\"><h3>Run summary:</h3><br/><table class=\"wandb\"><tr><td>epoch</td><td>7</td></tr><tr><td>sequence_accuracy</td><td>0.00046</td></tr><tr><td>token_accuracy</td><td>0.18016</td></tr><tr><td>train_loss</td><td>2.0272</td></tr></table><br/></div></div>"
      ],
      "text/plain": [
       "<IPython.core.display.HTML object>"
      ]
     },
     "metadata": {},
     "output_type": "display_data"
    },
    {
     "data": {
      "text/html": [
       " View run <strong style=\"color:#cdcd00\">revived-sweep-5</strong> at: <a href='https://wandb.ai/ishita49-indian-institute-of-technology-madras/DA6401%20Assign3/runs/bjqgil0d' target=\"_blank\">https://wandb.ai/ishita49-indian-institute-of-technology-madras/DA6401%20Assign3/runs/bjqgil0d</a><br> View project at: <a href='https://wandb.ai/ishita49-indian-institute-of-technology-madras/DA6401%20Assign3' target=\"_blank\">https://wandb.ai/ishita49-indian-institute-of-technology-madras/DA6401%20Assign3</a><br>Synced 5 W&B file(s), 0 media file(s), 0 artifact file(s) and 0 other file(s)"
      ],
      "text/plain": [
       "<IPython.core.display.HTML object>"
      ]
     },
     "metadata": {},
     "output_type": "display_data"
    },
    {
     "data": {
      "text/html": [
       "Find logs at: <code>./wandb/run-20250518_215353-bjqgil0d/logs</code>"
      ],
      "text/plain": [
       "<IPython.core.display.HTML object>"
      ]
     },
     "metadata": {},
     "output_type": "display_data"
    },
    {
     "name": "stderr",
     "output_type": "stream",
     "text": [
      "\u001b[34m\u001b[1mwandb\u001b[0m: Sweep Agent: Waiting for job.\n",
      "\u001b[34m\u001b[1mwandb\u001b[0m: Job received.\n",
      "\u001b[34m\u001b[1mwandb\u001b[0m: Agent Starting Run: lnie27as with config:\n",
      "\u001b[34m\u001b[1mwandb\u001b[0m: \tbatch_size: 512\n",
      "\u001b[34m\u001b[1mwandb\u001b[0m: \tbeam_size: 5\n",
      "\u001b[34m\u001b[1mwandb\u001b[0m: \tcell_type: RNN\n",
      "\u001b[34m\u001b[1mwandb\u001b[0m: \tdropout: 0.3\n",
      "\u001b[34m\u001b[1mwandb\u001b[0m: \tembed_size: 64\n",
      "\u001b[34m\u001b[1mwandb\u001b[0m: \thidden_size: 16\n",
      "\u001b[34m\u001b[1mwandb\u001b[0m: \tlearning_rate: 0.001\n",
      "\u001b[34m\u001b[1mwandb\u001b[0m: \tnum_decoder_layers: 2\n",
      "\u001b[34m\u001b[1mwandb\u001b[0m: \tnum_encoder_layers: 3\n"
     ]
    },
    {
     "data": {
      "text/html": [
       "Tracking run with wandb version 0.19.9"
      ],
      "text/plain": [
       "<IPython.core.display.HTML object>"
      ]
     },
     "metadata": {},
     "output_type": "display_data"
    },
    {
     "data": {
      "text/html": [
       "Run data is saved locally in <code>/kaggle/working/wandb/run-20250518_220521-lnie27as</code>"
      ],
      "text/plain": [
       "<IPython.core.display.HTML object>"
      ]
     },
     "metadata": {},
     "output_type": "display_data"
    },
    {
     "data": {
      "text/html": [
       "Syncing run <strong><a href='https://wandb.ai/ishita49-indian-institute-of-technology-madras/DA6401%20Assign3/runs/lnie27as' target=\"_blank\">brisk-sweep-6</a></strong> to <a href='https://wandb.ai/ishita49-indian-institute-of-technology-madras/DA6401%20Assign3' target=\"_blank\">Weights & Biases</a> (<a href='https://wandb.me/developer-guide' target=\"_blank\">docs</a>)<br>Sweep page: <a href='https://wandb.ai/ishita49-indian-institute-of-technology-madras/DA6401%20Assign3/sweeps/2qor0304' target=\"_blank\">https://wandb.ai/ishita49-indian-institute-of-technology-madras/DA6401%20Assign3/sweeps/2qor0304</a>"
      ],
      "text/plain": [
       "<IPython.core.display.HTML object>"
      ]
     },
     "metadata": {},
     "output_type": "display_data"
    },
    {
     "data": {
      "text/html": [
       " View project at <a href='https://wandb.ai/ishita49-indian-institute-of-technology-madras/DA6401%20Assign3' target=\"_blank\">https://wandb.ai/ishita49-indian-institute-of-technology-madras/DA6401%20Assign3</a>"
      ],
      "text/plain": [
       "<IPython.core.display.HTML object>"
      ]
     },
     "metadata": {},
     "output_type": "display_data"
    },
    {
     "data": {
      "text/html": [
       " View sweep at <a href='https://wandb.ai/ishita49-indian-institute-of-technology-madras/DA6401%20Assign3/sweeps/2qor0304' target=\"_blank\">https://wandb.ai/ishita49-indian-institute-of-technology-madras/DA6401%20Assign3/sweeps/2qor0304</a>"
      ],
      "text/plain": [
       "<IPython.core.display.HTML object>"
      ]
     },
     "metadata": {},
     "output_type": "display_data"
    },
    {
     "data": {
      "text/html": [
       " View run at <a href='https://wandb.ai/ishita49-indian-institute-of-technology-madras/DA6401%20Assign3/runs/lnie27as' target=\"_blank\">https://wandb.ai/ishita49-indian-institute-of-technology-madras/DA6401%20Assign3/runs/lnie27as</a>"
      ],
      "text/plain": [
       "<IPython.core.display.HTML object>"
      ]
     },
     "metadata": {},
     "output_type": "display_data"
    },
    {
     "name": "stderr",
     "output_type": "stream",
     "text": [
      "Epoch 1/20: 100%|██████████| 87/87 [00:02<00:00, 32.01it/s]\n"
     ]
    },
    {
     "name": "stdout",
     "output_type": "stream",
     "text": [
      "Epoch 1/20 Train Loss: 3.6316\n",
      "Token Accuracy: 0.0352\n",
      "Sequence Accuracy: 0.0000\n"
     ]
    },
    {
     "name": "stderr",
     "output_type": "stream",
     "text": [
      "Epoch 2/20: 100%|██████████| 87/87 [00:02<00:00, 30.29it/s]\n"
     ]
    },
    {
     "name": "stdout",
     "output_type": "stream",
     "text": [
      "Epoch 2/20 Train Loss: 2.7728\n",
      "Token Accuracy: 0.0352\n",
      "Sequence Accuracy: 0.0000\n"
     ]
    },
    {
     "name": "stderr",
     "output_type": "stream",
     "text": [
      "Epoch 3/20: 100%|██████████| 87/87 [00:02<00:00, 32.36it/s]\n"
     ]
    },
    {
     "name": "stdout",
     "output_type": "stream",
     "text": [
      "Epoch 3/20 Train Loss: 2.5066\n",
      "Token Accuracy: 0.0722\n",
      "Sequence Accuracy: 0.0000\n"
     ]
    },
    {
     "name": "stderr",
     "output_type": "stream",
     "text": [
      "Epoch 4/20: 100%|██████████| 87/87 [00:02<00:00, 32.17it/s]\n"
     ]
    },
    {
     "name": "stdout",
     "output_type": "stream",
     "text": [
      "Epoch 4/20 Train Loss: 2.3598\n",
      "Token Accuracy: 0.0836\n",
      "Sequence Accuracy: 0.0000\n"
     ]
    },
    {
     "name": "stderr",
     "output_type": "stream",
     "text": [
      "Epoch 5/20: 100%|██████████| 87/87 [00:02<00:00, 30.53it/s]\n"
     ]
    },
    {
     "name": "stdout",
     "output_type": "stream",
     "text": [
      "Epoch 5/20 Train Loss: 2.2947\n",
      "Token Accuracy: 0.0881\n",
      "Sequence Accuracy: 0.0000\n"
     ]
    },
    {
     "name": "stderr",
     "output_type": "stream",
     "text": [
      "Epoch 6/20: 100%|██████████| 87/87 [00:03<00:00, 28.74it/s]\n"
     ]
    },
    {
     "name": "stdout",
     "output_type": "stream",
     "text": [
      "Epoch 6/20 Train Loss: 2.2371\n",
      "Token Accuracy: 0.0996\n",
      "Sequence Accuracy: 0.0000\n"
     ]
    },
    {
     "name": "stderr",
     "output_type": "stream",
     "text": [
      "Epoch 7/20: 100%|██████████| 87/87 [00:02<00:00, 32.55it/s]\n"
     ]
    },
    {
     "name": "stdout",
     "output_type": "stream",
     "text": [
      "Epoch 7/20 Train Loss: 2.1820\n",
      "Token Accuracy: 0.1037\n",
      "Sequence Accuracy: 0.0000\n"
     ]
    },
    {
     "name": "stderr",
     "output_type": "stream",
     "text": [
      "Epoch 8/20: 100%|██████████| 87/87 [00:02<00:00, 30.56it/s]\n"
     ]
    },
    {
     "name": "stdout",
     "output_type": "stream",
     "text": [
      "Epoch 8/20 Train Loss: 2.1692\n"
     ]
    },
    {
     "data": {
      "text/html": [],
      "text/plain": [
       "<IPython.core.display.HTML object>"
      ]
     },
     "metadata": {},
     "output_type": "display_data"
    },
    {
     "data": {
      "text/html": [
       "<br>    <style><br>        .wandb-row {<br>            display: flex;<br>            flex-direction: row;<br>            flex-wrap: wrap;<br>            justify-content: flex-start;<br>            width: 100%;<br>        }<br>        .wandb-col {<br>            display: flex;<br>            flex-direction: column;<br>            flex-basis: 100%;<br>            flex: 1;<br>            padding: 10px;<br>        }<br>    </style><br><div class=\"wandb-row\"><div class=\"wandb-col\"><h3>Run history:</h3><br/><table class=\"wandb\"><tr><td>epoch</td><td>▁▂▃▅▆▇█</td></tr><tr><td>sequence_accuracy</td><td>▁▁▁▁▁▁▁</td></tr><tr><td>token_accuracy</td><td>▁▁▅▆▆██</td></tr><tr><td>train_loss</td><td>█▄▃▂▂▁▁</td></tr></table><br/></div><div class=\"wandb-col\"><h3>Run summary:</h3><br/><table class=\"wandb\"><tr><td>epoch</td><td>7</td></tr><tr><td>sequence_accuracy</td><td>0</td></tr><tr><td>token_accuracy</td><td>0.10375</td></tr><tr><td>train_loss</td><td>2.18199</td></tr></table><br/></div></div>"
      ],
      "text/plain": [
       "<IPython.core.display.HTML object>"
      ]
     },
     "metadata": {},
     "output_type": "display_data"
    },
    {
     "data": {
      "text/html": [
       " View run <strong style=\"color:#cdcd00\">brisk-sweep-6</strong> at: <a href='https://wandb.ai/ishita49-indian-institute-of-technology-madras/DA6401%20Assign3/runs/lnie27as' target=\"_blank\">https://wandb.ai/ishita49-indian-institute-of-technology-madras/DA6401%20Assign3/runs/lnie27as</a><br> View project at: <a href='https://wandb.ai/ishita49-indian-institute-of-technology-madras/DA6401%20Assign3' target=\"_blank\">https://wandb.ai/ishita49-indian-institute-of-technology-madras/DA6401%20Assign3</a><br>Synced 5 W&B file(s), 0 media file(s), 0 artifact file(s) and 0 other file(s)"
      ],
      "text/plain": [
       "<IPython.core.display.HTML object>"
      ]
     },
     "metadata": {},
     "output_type": "display_data"
    },
    {
     "data": {
      "text/html": [
       "Find logs at: <code>./wandb/run-20250518_220521-lnie27as/logs</code>"
      ],
      "text/plain": [
       "<IPython.core.display.HTML object>"
      ]
     },
     "metadata": {},
     "output_type": "display_data"
    },
    {
     "name": "stderr",
     "output_type": "stream",
     "text": [
      "\u001b[34m\u001b[1mwandb\u001b[0m: Sweep Agent: Waiting for job.\n",
      "\u001b[34m\u001b[1mwandb\u001b[0m: Job received.\n",
      "\u001b[34m\u001b[1mwandb\u001b[0m: Agent Starting Run: 07h11e5p with config:\n",
      "\u001b[34m\u001b[1mwandb\u001b[0m: \tbatch_size: 512\n",
      "\u001b[34m\u001b[1mwandb\u001b[0m: \tbeam_size: 5\n",
      "\u001b[34m\u001b[1mwandb\u001b[0m: \tcell_type: RNN\n",
      "\u001b[34m\u001b[1mwandb\u001b[0m: \tdropout: 0.4\n",
      "\u001b[34m\u001b[1mwandb\u001b[0m: \tembed_size: 64\n",
      "\u001b[34m\u001b[1mwandb\u001b[0m: \thidden_size: 32\n",
      "\u001b[34m\u001b[1mwandb\u001b[0m: \tlearning_rate: 0.0005\n",
      "\u001b[34m\u001b[1mwandb\u001b[0m: \tnum_decoder_layers: 2\n",
      "\u001b[34m\u001b[1mwandb\u001b[0m: \tnum_encoder_layers: 3\n"
     ]
    },
    {
     "data": {
      "text/html": [
       "Tracking run with wandb version 0.19.9"
      ],
      "text/plain": [
       "<IPython.core.display.HTML object>"
      ]
     },
     "metadata": {},
     "output_type": "display_data"
    },
    {
     "data": {
      "text/html": [
       "Run data is saved locally in <code>/kaggle/working/wandb/run-20250518_221620-07h11e5p</code>"
      ],
      "text/plain": [
       "<IPython.core.display.HTML object>"
      ]
     },
     "metadata": {},
     "output_type": "display_data"
    },
    {
     "data": {
      "text/html": [
       "Syncing run <strong><a href='https://wandb.ai/ishita49-indian-institute-of-technology-madras/DA6401%20Assign3/runs/07h11e5p' target=\"_blank\">spring-sweep-7</a></strong> to <a href='https://wandb.ai/ishita49-indian-institute-of-technology-madras/DA6401%20Assign3' target=\"_blank\">Weights & Biases</a> (<a href='https://wandb.me/developer-guide' target=\"_blank\">docs</a>)<br>Sweep page: <a href='https://wandb.ai/ishita49-indian-institute-of-technology-madras/DA6401%20Assign3/sweeps/2qor0304' target=\"_blank\">https://wandb.ai/ishita49-indian-institute-of-technology-madras/DA6401%20Assign3/sweeps/2qor0304</a>"
      ],
      "text/plain": [
       "<IPython.core.display.HTML object>"
      ]
     },
     "metadata": {},
     "output_type": "display_data"
    },
    {
     "data": {
      "text/html": [
       " View project at <a href='https://wandb.ai/ishita49-indian-institute-of-technology-madras/DA6401%20Assign3' target=\"_blank\">https://wandb.ai/ishita49-indian-institute-of-technology-madras/DA6401%20Assign3</a>"
      ],
      "text/plain": [
       "<IPython.core.display.HTML object>"
      ]
     },
     "metadata": {},
     "output_type": "display_data"
    },
    {
     "data": {
      "text/html": [
       " View sweep at <a href='https://wandb.ai/ishita49-indian-institute-of-technology-madras/DA6401%20Assign3/sweeps/2qor0304' target=\"_blank\">https://wandb.ai/ishita49-indian-institute-of-technology-madras/DA6401%20Assign3/sweeps/2qor0304</a>"
      ],
      "text/plain": [
       "<IPython.core.display.HTML object>"
      ]
     },
     "metadata": {},
     "output_type": "display_data"
    },
    {
     "data": {
      "text/html": [
       " View run at <a href='https://wandb.ai/ishita49-indian-institute-of-technology-madras/DA6401%20Assign3/runs/07h11e5p' target=\"_blank\">https://wandb.ai/ishita49-indian-institute-of-technology-madras/DA6401%20Assign3/runs/07h11e5p</a>"
      ],
      "text/plain": [
       "<IPython.core.display.HTML object>"
      ]
     },
     "metadata": {},
     "output_type": "display_data"
    },
    {
     "name": "stderr",
     "output_type": "stream",
     "text": [
      "Epoch 1/20: 100%|██████████| 87/87 [00:03<00:00, 28.13it/s]\n"
     ]
    },
    {
     "name": "stdout",
     "output_type": "stream",
     "text": [
      "Epoch 1/20 Train Loss: 3.6180\n",
      "Token Accuracy: 0.0236\n",
      "Sequence Accuracy: 0.0000\n"
     ]
    },
    {
     "name": "stderr",
     "output_type": "stream",
     "text": [
      "Epoch 2/20: 100%|██████████| 87/87 [00:02<00:00, 32.06it/s]\n"
     ]
    },
    {
     "name": "stdout",
     "output_type": "stream",
     "text": [
      "Epoch 2/20 Train Loss: 2.7752\n",
      "Token Accuracy: 0.0447\n",
      "Sequence Accuracy: 0.0000\n"
     ]
    },
    {
     "name": "stderr",
     "output_type": "stream",
     "text": [
      "Epoch 3/20: 100%|██████████| 87/87 [00:02<00:00, 31.78it/s]\n"
     ]
    },
    {
     "name": "stdout",
     "output_type": "stream",
     "text": [
      "Epoch 3/20 Train Loss: 2.5209\n",
      "Token Accuracy: 0.0820\n",
      "Sequence Accuracy: 0.0000\n"
     ]
    },
    {
     "name": "stderr",
     "output_type": "stream",
     "text": [
      "Epoch 4/20: 100%|██████████| 87/87 [00:02<00:00, 30.02it/s]\n"
     ]
    },
    {
     "name": "stdout",
     "output_type": "stream",
     "text": [
      "Epoch 4/20 Train Loss: 2.3586\n",
      "Token Accuracy: 0.0712\n",
      "Sequence Accuracy: 0.0000\n"
     ]
    },
    {
     "name": "stderr",
     "output_type": "stream",
     "text": [
      "Epoch 5/20: 100%|██████████| 87/87 [00:02<00:00, 31.92it/s]\n"
     ]
    },
    {
     "name": "stdout",
     "output_type": "stream",
     "text": [
      "Epoch 5/20 Train Loss: 2.2627\n",
      "Token Accuracy: 0.0712\n",
      "Sequence Accuracy: 0.0000\n"
     ]
    },
    {
     "name": "stderr",
     "output_type": "stream",
     "text": [
      "Epoch 6/20: 100%|██████████| 87/87 [00:02<00:00, 32.07it/s]\n"
     ]
    },
    {
     "name": "stdout",
     "output_type": "stream",
     "text": [
      "Epoch 6/20 Train Loss: 2.2105\n",
      "Token Accuracy: 0.1007\n",
      "Sequence Accuracy: 0.0000\n"
     ]
    },
    {
     "name": "stderr",
     "output_type": "stream",
     "text": [
      "Epoch 7/20: 100%|██████████| 87/87 [00:02<00:00, 30.03it/s]\n"
     ]
    },
    {
     "name": "stdout",
     "output_type": "stream",
     "text": [
      "Epoch 7/20 Train Loss: 2.1733\n",
      "Token Accuracy: 0.1029\n",
      "Sequence Accuracy: 0.0000\n"
     ]
    },
    {
     "name": "stderr",
     "output_type": "stream",
     "text": [
      "Epoch 8/20: 100%|██████████| 87/87 [00:02<00:00, 32.52it/s]\n"
     ]
    },
    {
     "name": "stdout",
     "output_type": "stream",
     "text": [
      "Epoch 8/20 Train Loss: 2.1414\n"
     ]
    },
    {
     "data": {
      "text/html": [],
      "text/plain": [
       "<IPython.core.display.HTML object>"
      ]
     },
     "metadata": {},
     "output_type": "display_data"
    },
    {
     "data": {
      "text/html": [
       "<br>    <style><br>        .wandb-row {<br>            display: flex;<br>            flex-direction: row;<br>            flex-wrap: wrap;<br>            justify-content: flex-start;<br>            width: 100%;<br>        }<br>        .wandb-col {<br>            display: flex;<br>            flex-direction: column;<br>            flex-basis: 100%;<br>            flex: 1;<br>            padding: 10px;<br>        }<br>    </style><br><div class=\"wandb-row\"><div class=\"wandb-col\"><h3>Run history:</h3><br/><table class=\"wandb\"><tr><td>epoch</td><td>▁▂▃▅▆▇█</td></tr><tr><td>sequence_accuracy</td><td>▁▁▁▁▁▁▁</td></tr><tr><td>token_accuracy</td><td>▁▃▆▅▅██</td></tr><tr><td>train_loss</td><td>█▄▃▂▁▁▁</td></tr></table><br/></div><div class=\"wandb-col\"><h3>Run summary:</h3><br/><table class=\"wandb\"><tr><td>epoch</td><td>7</td></tr><tr><td>sequence_accuracy</td><td>0</td></tr><tr><td>token_accuracy</td><td>0.1029</td></tr><tr><td>train_loss</td><td>2.17333</td></tr></table><br/></div></div>"
      ],
      "text/plain": [
       "<IPython.core.display.HTML object>"
      ]
     },
     "metadata": {},
     "output_type": "display_data"
    },
    {
     "data": {
      "text/html": [
       " View run <strong style=\"color:#cdcd00\">spring-sweep-7</strong> at: <a href='https://wandb.ai/ishita49-indian-institute-of-technology-madras/DA6401%20Assign3/runs/07h11e5p' target=\"_blank\">https://wandb.ai/ishita49-indian-institute-of-technology-madras/DA6401%20Assign3/runs/07h11e5p</a><br> View project at: <a href='https://wandb.ai/ishita49-indian-institute-of-technology-madras/DA6401%20Assign3' target=\"_blank\">https://wandb.ai/ishita49-indian-institute-of-technology-madras/DA6401%20Assign3</a><br>Synced 5 W&B file(s), 0 media file(s), 0 artifact file(s) and 0 other file(s)"
      ],
      "text/plain": [
       "<IPython.core.display.HTML object>"
      ]
     },
     "metadata": {},
     "output_type": "display_data"
    },
    {
     "data": {
      "text/html": [
       "Find logs at: <code>./wandb/run-20250518_221620-07h11e5p/logs</code>"
      ],
      "text/plain": [
       "<IPython.core.display.HTML object>"
      ]
     },
     "metadata": {},
     "output_type": "display_data"
    },
    {
     "name": "stderr",
     "output_type": "stream",
     "text": [
      "\u001b[34m\u001b[1mwandb\u001b[0m: Agent Starting Run: nr0mhr2j with config:\n",
      "\u001b[34m\u001b[1mwandb\u001b[0m: \tbatch_size: 512\n",
      "\u001b[34m\u001b[1mwandb\u001b[0m: \tbeam_size: 4\n",
      "\u001b[34m\u001b[1mwandb\u001b[0m: \tcell_type: GRU\n",
      "\u001b[34m\u001b[1mwandb\u001b[0m: \tdropout: 0.4\n",
      "\u001b[34m\u001b[1mwandb\u001b[0m: \tembed_size: 32\n",
      "\u001b[34m\u001b[1mwandb\u001b[0m: \thidden_size: 64\n",
      "\u001b[34m\u001b[1mwandb\u001b[0m: \tlearning_rate: 0.001\n",
      "\u001b[34m\u001b[1mwandb\u001b[0m: \tnum_decoder_layers: 2\n",
      "\u001b[34m\u001b[1mwandb\u001b[0m: \tnum_encoder_layers: 1\n"
     ]
    },
    {
     "data": {
      "text/html": [
       "Tracking run with wandb version 0.19.9"
      ],
      "text/plain": [
       "<IPython.core.display.HTML object>"
      ]
     },
     "metadata": {},
     "output_type": "display_data"
    },
    {
     "data": {
      "text/html": [
       "Run data is saved locally in <code>/kaggle/working/wandb/run-20250518_222714-nr0mhr2j</code>"
      ],
      "text/plain": [
       "<IPython.core.display.HTML object>"
      ]
     },
     "metadata": {},
     "output_type": "display_data"
    },
    {
     "data": {
      "text/html": [
       "Syncing run <strong><a href='https://wandb.ai/ishita49-indian-institute-of-technology-madras/DA6401%20Assign3/runs/nr0mhr2j' target=\"_blank\">giddy-sweep-8</a></strong> to <a href='https://wandb.ai/ishita49-indian-institute-of-technology-madras/DA6401%20Assign3' target=\"_blank\">Weights & Biases</a> (<a href='https://wandb.me/developer-guide' target=\"_blank\">docs</a>)<br>Sweep page: <a href='https://wandb.ai/ishita49-indian-institute-of-technology-madras/DA6401%20Assign3/sweeps/2qor0304' target=\"_blank\">https://wandb.ai/ishita49-indian-institute-of-technology-madras/DA6401%20Assign3/sweeps/2qor0304</a>"
      ],
      "text/plain": [
       "<IPython.core.display.HTML object>"
      ]
     },
     "metadata": {},
     "output_type": "display_data"
    },
    {
     "data": {
      "text/html": [
       " View project at <a href='https://wandb.ai/ishita49-indian-institute-of-technology-madras/DA6401%20Assign3' target=\"_blank\">https://wandb.ai/ishita49-indian-institute-of-technology-madras/DA6401%20Assign3</a>"
      ],
      "text/plain": [
       "<IPython.core.display.HTML object>"
      ]
     },
     "metadata": {},
     "output_type": "display_data"
    },
    {
     "data": {
      "text/html": [
       " View sweep at <a href='https://wandb.ai/ishita49-indian-institute-of-technology-madras/DA6401%20Assign3/sweeps/2qor0304' target=\"_blank\">https://wandb.ai/ishita49-indian-institute-of-technology-madras/DA6401%20Assign3/sweeps/2qor0304</a>"
      ],
      "text/plain": [
       "<IPython.core.display.HTML object>"
      ]
     },
     "metadata": {},
     "output_type": "display_data"
    },
    {
     "data": {
      "text/html": [
       " View run at <a href='https://wandb.ai/ishita49-indian-institute-of-technology-madras/DA6401%20Assign3/runs/nr0mhr2j' target=\"_blank\">https://wandb.ai/ishita49-indian-institute-of-technology-madras/DA6401%20Assign3/runs/nr0mhr2j</a>"
      ],
      "text/plain": [
       "<IPython.core.display.HTML object>"
      ]
     },
     "metadata": {},
     "output_type": "display_data"
    },
    {
     "name": "stderr",
     "output_type": "stream",
     "text": [
      "Epoch 1/20: 100%|██████████| 87/87 [00:03<00:00, 28.10it/s]\n"
     ]
    },
    {
     "name": "stdout",
     "output_type": "stream",
     "text": [
      "Epoch 1/20 Train Loss: 2.9982\n",
      "Token Accuracy: 0.0784\n",
      "Sequence Accuracy: 0.0000\n"
     ]
    },
    {
     "name": "stderr",
     "output_type": "stream",
     "text": [
      "Epoch 2/20: 100%|██████████| 87/87 [00:02<00:00, 29.88it/s]\n"
     ]
    },
    {
     "name": "stdout",
     "output_type": "stream",
     "text": [
      "Epoch 2/20 Train Loss: 2.4414\n",
      "Token Accuracy: 0.0983\n",
      "Sequence Accuracy: 0.0000\n"
     ]
    },
    {
     "name": "stderr",
     "output_type": "stream",
     "text": [
      "Epoch 3/20: 100%|██████████| 87/87 [00:02<00:00, 30.51it/s]\n"
     ]
    },
    {
     "name": "stdout",
     "output_type": "stream",
     "text": [
      "Epoch 3/20 Train Loss: 2.1588\n",
      "Token Accuracy: 0.1734\n",
      "Sequence Accuracy: 0.0000\n"
     ]
    },
    {
     "name": "stderr",
     "output_type": "stream",
     "text": [
      "Epoch 4/20: 100%|██████████| 87/87 [00:02<00:00, 29.91it/s]\n"
     ]
    },
    {
     "name": "stdout",
     "output_type": "stream",
     "text": [
      "Epoch 4/20 Train Loss: 1.9542\n",
      "Token Accuracy: 0.1893\n",
      "Sequence Accuracy: 0.0005\n"
     ]
    },
    {
     "name": "stderr",
     "output_type": "stream",
     "text": [
      "Epoch 5/20: 100%|██████████| 87/87 [00:03<00:00, 28.19it/s]\n"
     ]
    },
    {
     "name": "stdout",
     "output_type": "stream",
     "text": [
      "Epoch 5/20 Train Loss: 1.7987\n",
      "Token Accuracy: 0.2046\n",
      "Sequence Accuracy: 0.0009\n"
     ]
    },
    {
     "name": "stderr",
     "output_type": "stream",
     "text": [
      "Epoch 6/20: 100%|██████████| 87/87 [00:02<00:00, 30.01it/s]\n"
     ]
    },
    {
     "name": "stdout",
     "output_type": "stream",
     "text": [
      "Epoch 6/20 Train Loss: 1.6713\n",
      "Token Accuracy: 0.2133\n",
      "Sequence Accuracy: 0.0011\n"
     ]
    },
    {
     "name": "stderr",
     "output_type": "stream",
     "text": [
      "Epoch 7/20: 100%|██████████| 87/87 [00:02<00:00, 29.95it/s]\n"
     ]
    },
    {
     "name": "stdout",
     "output_type": "stream",
     "text": [
      "Epoch 7/20 Train Loss: 1.5828\n",
      "Token Accuracy: 0.2158\n",
      "Sequence Accuracy: 0.0014\n"
     ]
    },
    {
     "name": "stderr",
     "output_type": "stream",
     "text": [
      "Epoch 8/20: 100%|██████████| 87/87 [00:02<00:00, 29.63it/s]\n"
     ]
    },
    {
     "name": "stdout",
     "output_type": "stream",
     "text": [
      "Epoch 8/20 Train Loss: 1.5115\n",
      "Token Accuracy: 0.2374\n",
      "Sequence Accuracy: 0.0016\n"
     ]
    },
    {
     "name": "stderr",
     "output_type": "stream",
     "text": [
      "Epoch 9/20: 100%|██████████| 87/87 [00:02<00:00, 30.04it/s]\n"
     ]
    },
    {
     "name": "stdout",
     "output_type": "stream",
     "text": [
      "Epoch 9/20 Train Loss: 1.4415\n",
      "Token Accuracy: 0.2445\n",
      "Sequence Accuracy: 0.0032\n"
     ]
    },
    {
     "name": "stderr",
     "output_type": "stream",
     "text": [
      "Epoch 10/20: 100%|██████████| 87/87 [00:03<00:00, 28.46it/s]\n"
     ]
    },
    {
     "name": "stdout",
     "output_type": "stream",
     "text": [
      "Epoch 10/20 Train Loss: 1.3771\n",
      "Token Accuracy: 0.2535\n",
      "Sequence Accuracy: 0.0046\n"
     ]
    },
    {
     "name": "stderr",
     "output_type": "stream",
     "text": [
      "Epoch 11/20: 100%|██████████| 87/87 [00:02<00:00, 30.26it/s]\n"
     ]
    },
    {
     "name": "stdout",
     "output_type": "stream",
     "text": [
      "Epoch 11/20 Train Loss: 1.3069\n",
      "Token Accuracy: 0.2682\n",
      "Sequence Accuracy: 0.0083\n"
     ]
    },
    {
     "name": "stderr",
     "output_type": "stream",
     "text": [
      "Epoch 12/20: 100%|██████████| 87/87 [00:03<00:00, 27.97it/s]\n"
     ]
    },
    {
     "name": "stdout",
     "output_type": "stream",
     "text": [
      "Epoch 12/20 Train Loss: 1.2386\n",
      "Token Accuracy: 0.2889\n",
      "Sequence Accuracy: 0.0119\n"
     ]
    },
    {
     "name": "stderr",
     "output_type": "stream",
     "text": [
      "Epoch 13/20: 100%|██████████| 87/87 [00:02<00:00, 29.89it/s]\n"
     ]
    },
    {
     "name": "stdout",
     "output_type": "stream",
     "text": [
      "Epoch 13/20 Train Loss: 1.1834\n",
      "Token Accuracy: 0.3101\n",
      "Sequence Accuracy: 0.0193\n"
     ]
    },
    {
     "name": "stderr",
     "output_type": "stream",
     "text": [
      "Epoch 14/20: 100%|██████████| 87/87 [00:02<00:00, 29.80it/s]\n"
     ]
    },
    {
     "name": "stdout",
     "output_type": "stream",
     "text": [
      "Epoch 14/20 Train Loss: 1.1315\n",
      "Token Accuracy: 0.3267\n",
      "Sequence Accuracy: 0.0266\n"
     ]
    },
    {
     "name": "stderr",
     "output_type": "stream",
     "text": [
      "Epoch 15/20: 100%|██████████| 87/87 [00:03<00:00, 28.61it/s]\n"
     ]
    },
    {
     "name": "stdout",
     "output_type": "stream",
     "text": [
      "Epoch 15/20 Train Loss: 1.0924\n",
      "Token Accuracy: 0.3346\n",
      "Sequence Accuracy: 0.0301\n"
     ]
    },
    {
     "name": "stderr",
     "output_type": "stream",
     "text": [
      "Epoch 16/20: 100%|██████████| 87/87 [00:02<00:00, 30.15it/s]\n"
     ]
    },
    {
     "name": "stdout",
     "output_type": "stream",
     "text": [
      "Epoch 16/20 Train Loss: 1.0414\n",
      "Token Accuracy: 0.3484\n",
      "Sequence Accuracy: 0.0346\n"
     ]
    },
    {
     "name": "stderr",
     "output_type": "stream",
     "text": [
      "Epoch 17/20: 100%|██████████| 87/87 [00:02<00:00, 30.32it/s]\n"
     ]
    },
    {
     "name": "stdout",
     "output_type": "stream",
     "text": [
      "Epoch 17/20 Train Loss: 0.9927\n",
      "Token Accuracy: 0.3740\n",
      "Sequence Accuracy: 0.0491\n"
     ]
    },
    {
     "name": "stderr",
     "output_type": "stream",
     "text": [
      "Epoch 18/20: 100%|██████████| 87/87 [00:02<00:00, 30.18it/s]\n"
     ]
    },
    {
     "name": "stdout",
     "output_type": "stream",
     "text": [
      "Epoch 18/20 Train Loss: 0.9632\n",
      "Token Accuracy: 0.3897\n",
      "Sequence Accuracy: 0.0521\n"
     ]
    },
    {
     "name": "stderr",
     "output_type": "stream",
     "text": [
      "Epoch 19/20: 100%|██████████| 87/87 [00:03<00:00, 27.27it/s]\n"
     ]
    },
    {
     "name": "stdout",
     "output_type": "stream",
     "text": [
      "Epoch 19/20 Train Loss: 0.9209\n",
      "Token Accuracy: 0.3982\n",
      "Sequence Accuracy: 0.0560\n"
     ]
    },
    {
     "name": "stderr",
     "output_type": "stream",
     "text": [
      "Epoch 20/20: 100%|██████████| 87/87 [00:02<00:00, 30.01it/s]\n"
     ]
    },
    {
     "name": "stdout",
     "output_type": "stream",
     "text": [
      "Epoch 20/20 Train Loss: 0.8891\n",
      "Token Accuracy: 0.4109\n",
      "Sequence Accuracy: 0.0654\n"
     ]
    },
    {
     "data": {
      "text/html": [],
      "text/plain": [
       "<IPython.core.display.HTML object>"
      ]
     },
     "metadata": {},
     "output_type": "display_data"
    },
    {
     "data": {
      "text/html": [
       "<br>    <style><br>        .wandb-row {<br>            display: flex;<br>            flex-direction: row;<br>            flex-wrap: wrap;<br>            justify-content: flex-start;<br>            width: 100%;<br>        }<br>        .wandb-col {<br>            display: flex;<br>            flex-direction: column;<br>            flex-basis: 100%;<br>            flex: 1;<br>            padding: 10px;<br>        }<br>    </style><br><div class=\"wandb-row\"><div class=\"wandb-col\"><h3>Run history:</h3><br/><table class=\"wandb\"><tr><td>epoch</td><td>▁▁▂▂▂▃▃▄▄▄▅▅▅▆▆▇▇▇██</td></tr><tr><td>sequence_accuracy</td><td>▁▁▁▁▁▁▁▁▁▁▂▂▃▄▄▅▆▇▇█</td></tr><tr><td>token_accuracy</td><td>▁▁▃▃▄▄▄▄▄▅▅▅▆▆▆▇▇███</td></tr><tr><td>train_loss</td><td>█▆▅▅▄▄▃▃▃▃▂▂▂▂▂▂▁▁▁▁</td></tr></table><br/></div><div class=\"wandb-col\"><h3>Run summary:</h3><br/><table class=\"wandb\"><tr><td>epoch</td><td>20</td></tr><tr><td>sequence_accuracy</td><td>0.0654</td></tr><tr><td>token_accuracy</td><td>0.41092</td></tr><tr><td>train_loss</td><td>0.88905</td></tr></table><br/></div></div>"
      ],
      "text/plain": [
       "<IPython.core.display.HTML object>"
      ]
     },
     "metadata": {},
     "output_type": "display_data"
    },
    {
     "data": {
      "text/html": [
       " View run <strong style=\"color:#cdcd00\">giddy-sweep-8</strong> at: <a href='https://wandb.ai/ishita49-indian-institute-of-technology-madras/DA6401%20Assign3/runs/nr0mhr2j' target=\"_blank\">https://wandb.ai/ishita49-indian-institute-of-technology-madras/DA6401%20Assign3/runs/nr0mhr2j</a><br> View project at: <a href='https://wandb.ai/ishita49-indian-institute-of-technology-madras/DA6401%20Assign3' target=\"_blank\">https://wandb.ai/ishita49-indian-institute-of-technology-madras/DA6401%20Assign3</a><br>Synced 5 W&B file(s), 0 media file(s), 0 artifact file(s) and 0 other file(s)"
      ],
      "text/plain": [
       "<IPython.core.display.HTML object>"
      ]
     },
     "metadata": {},
     "output_type": "display_data"
    },
    {
     "data": {
      "text/html": [
       "Find logs at: <code>./wandb/run-20250518_222714-nr0mhr2j/logs</code>"
      ],
      "text/plain": [
       "<IPython.core.display.HTML object>"
      ]
     },
     "metadata": {},
     "output_type": "display_data"
    },
    {
     "name": "stderr",
     "output_type": "stream",
     "text": [
      "\u001b[34m\u001b[1mwandb\u001b[0m: Agent Starting Run: vm0vzjxg with config:\n",
      "\u001b[34m\u001b[1mwandb\u001b[0m: \tbatch_size: 512\n",
      "\u001b[34m\u001b[1mwandb\u001b[0m: \tbeam_size: 3\n",
      "\u001b[34m\u001b[1mwandb\u001b[0m: \tcell_type: RNN\n",
      "\u001b[34m\u001b[1mwandb\u001b[0m: \tdropout: 0.4\n",
      "\u001b[34m\u001b[1mwandb\u001b[0m: \tembed_size: 16\n",
      "\u001b[34m\u001b[1mwandb\u001b[0m: \thidden_size: 32\n",
      "\u001b[34m\u001b[1mwandb\u001b[0m: \tlearning_rate: 0.0005\n",
      "\u001b[34m\u001b[1mwandb\u001b[0m: \tnum_decoder_layers: 1\n",
      "\u001b[34m\u001b[1mwandb\u001b[0m: \tnum_encoder_layers: 2\n"
     ]
    },
    {
     "data": {
      "text/html": [
       "Tracking run with wandb version 0.19.9"
      ],
      "text/plain": [
       "<IPython.core.display.HTML object>"
      ]
     },
     "metadata": {},
     "output_type": "display_data"
    },
    {
     "data": {
      "text/html": [
       "Run data is saved locally in <code>/kaggle/working/wandb/run-20250518_225027-vm0vzjxg</code>"
      ],
      "text/plain": [
       "<IPython.core.display.HTML object>"
      ]
     },
     "metadata": {},
     "output_type": "display_data"
    },
    {
     "data": {
      "text/html": [
       "Syncing run <strong><a href='https://wandb.ai/ishita49-indian-institute-of-technology-madras/DA6401%20Assign3/runs/vm0vzjxg' target=\"_blank\">silvery-sweep-9</a></strong> to <a href='https://wandb.ai/ishita49-indian-institute-of-technology-madras/DA6401%20Assign3' target=\"_blank\">Weights & Biases</a> (<a href='https://wandb.me/developer-guide' target=\"_blank\">docs</a>)<br>Sweep page: <a href='https://wandb.ai/ishita49-indian-institute-of-technology-madras/DA6401%20Assign3/sweeps/2qor0304' target=\"_blank\">https://wandb.ai/ishita49-indian-institute-of-technology-madras/DA6401%20Assign3/sweeps/2qor0304</a>"
      ],
      "text/plain": [
       "<IPython.core.display.HTML object>"
      ]
     },
     "metadata": {},
     "output_type": "display_data"
    },
    {
     "data": {
      "text/html": [
       " View project at <a href='https://wandb.ai/ishita49-indian-institute-of-technology-madras/DA6401%20Assign3' target=\"_blank\">https://wandb.ai/ishita49-indian-institute-of-technology-madras/DA6401%20Assign3</a>"
      ],
      "text/plain": [
       "<IPython.core.display.HTML object>"
      ]
     },
     "metadata": {},
     "output_type": "display_data"
    },
    {
     "data": {
      "text/html": [
       " View sweep at <a href='https://wandb.ai/ishita49-indian-institute-of-technology-madras/DA6401%20Assign3/sweeps/2qor0304' target=\"_blank\">https://wandb.ai/ishita49-indian-institute-of-technology-madras/DA6401%20Assign3/sweeps/2qor0304</a>"
      ],
      "text/plain": [
       "<IPython.core.display.HTML object>"
      ]
     },
     "metadata": {},
     "output_type": "display_data"
    },
    {
     "data": {
      "text/html": [
       " View run at <a href='https://wandb.ai/ishita49-indian-institute-of-technology-madras/DA6401%20Assign3/runs/vm0vzjxg' target=\"_blank\">https://wandb.ai/ishita49-indian-institute-of-technology-madras/DA6401%20Assign3/runs/vm0vzjxg</a>"
      ],
      "text/plain": [
       "<IPython.core.display.HTML object>"
      ]
     },
     "metadata": {},
     "output_type": "display_data"
    },
    {
     "name": "stderr",
     "output_type": "stream",
     "text": [
      "Epoch 1/20: 100%|██████████| 87/87 [00:02<00:00, 35.40it/s]\n"
     ]
    },
    {
     "name": "stdout",
     "output_type": "stream",
     "text": [
      "Epoch 1/20 Train Loss: 3.7816\n",
      "Token Accuracy: 0.0002\n",
      "Sequence Accuracy: 0.0000\n"
     ]
    },
    {
     "name": "stderr",
     "output_type": "stream",
     "text": [
      "Epoch 2/20: 100%|██████████| 87/87 [00:02<00:00, 33.98it/s]\n"
     ]
    },
    {
     "name": "stdout",
     "output_type": "stream",
     "text": [
      "Epoch 2/20 Train Loss: 2.8506\n",
      "Token Accuracy: 0.0366\n",
      "Sequence Accuracy: 0.0000\n"
     ]
    },
    {
     "name": "stderr",
     "output_type": "stream",
     "text": [
      "Epoch 3/20: 100%|██████████| 87/87 [00:02<00:00, 36.66it/s]\n"
     ]
    },
    {
     "name": "stdout",
     "output_type": "stream",
     "text": [
      "Epoch 3/20 Train Loss: 2.6110\n",
      "Token Accuracy: 0.0487\n",
      "Sequence Accuracy: 0.0000\n"
     ]
    },
    {
     "name": "stderr",
     "output_type": "stream",
     "text": [
      "Epoch 4/20: 100%|██████████| 87/87 [00:02<00:00, 35.82it/s]\n"
     ]
    },
    {
     "name": "stdout",
     "output_type": "stream",
     "text": [
      "Epoch 4/20 Train Loss: 2.4451\n",
      "Token Accuracy: 0.0801\n",
      "Sequence Accuracy: 0.0000\n"
     ]
    },
    {
     "name": "stderr",
     "output_type": "stream",
     "text": [
      "Epoch 5/20: 100%|██████████| 87/87 [00:02<00:00, 30.47it/s]\n"
     ]
    },
    {
     "name": "stdout",
     "output_type": "stream",
     "text": [
      "Epoch 5/20 Train Loss: 2.3546\n",
      "Token Accuracy: 0.1152\n",
      "Sequence Accuracy: 0.0000\n"
     ]
    },
    {
     "name": "stderr",
     "output_type": "stream",
     "text": [
      "Epoch 6/20: 100%|██████████| 87/87 [00:02<00:00, 36.51it/s]\n"
     ]
    },
    {
     "name": "stdout",
     "output_type": "stream",
     "text": [
      "Epoch 6/20 Train Loss: 2.2889\n",
      "Token Accuracy: 0.1196\n",
      "Sequence Accuracy: 0.0000\n"
     ]
    },
    {
     "name": "stderr",
     "output_type": "stream",
     "text": [
      "Epoch 7/20: 100%|██████████| 87/87 [00:02<00:00, 33.83it/s]\n"
     ]
    },
    {
     "name": "stdout",
     "output_type": "stream",
     "text": [
      "Epoch 7/20 Train Loss: 2.2563\n",
      "Token Accuracy: 0.1169\n",
      "Sequence Accuracy: 0.0000\n"
     ]
    },
    {
     "name": "stderr",
     "output_type": "stream",
     "text": [
      "Epoch 8/20: 100%|██████████| 87/87 [00:02<00:00, 36.32it/s]\n"
     ]
    },
    {
     "name": "stdout",
     "output_type": "stream",
     "text": [
      "Epoch 8/20 Train Loss: 2.2291\n",
      "Token Accuracy: 0.1135\n",
      "Sequence Accuracy: 0.0000\n"
     ]
    },
    {
     "name": "stderr",
     "output_type": "stream",
     "text": [
      "Epoch 9/20: 100%|██████████| 87/87 [00:02<00:00, 36.65it/s]\n"
     ]
    },
    {
     "name": "stdout",
     "output_type": "stream",
     "text": [
      "Epoch 9/20 Train Loss: 2.2065\n"
     ]
    },
    {
     "data": {
      "text/html": [],
      "text/plain": [
       "<IPython.core.display.HTML object>"
      ]
     },
     "metadata": {},
     "output_type": "display_data"
    },
    {
     "data": {
      "text/html": [
       "<br>    <style><br>        .wandb-row {<br>            display: flex;<br>            flex-direction: row;<br>            flex-wrap: wrap;<br>            justify-content: flex-start;<br>            width: 100%;<br>        }<br>        .wandb-col {<br>            display: flex;<br>            flex-direction: column;<br>            flex-basis: 100%;<br>            flex: 1;<br>            padding: 10px;<br>        }<br>    </style><br><div class=\"wandb-row\"><div class=\"wandb-col\"><h3>Run history:</h3><br/><table class=\"wandb\"><tr><td>epoch</td><td>▁▂▃▄▅▆▇█</td></tr><tr><td>sequence_accuracy</td><td>▁▁▁▁▁▁▁▁</td></tr><tr><td>token_accuracy</td><td>▁▃▄▆████</td></tr><tr><td>train_loss</td><td>█▄▃▂▂▁▁▁</td></tr></table><br/></div><div class=\"wandb-col\"><h3>Run summary:</h3><br/><table class=\"wandb\"><tr><td>epoch</td><td>8</td></tr><tr><td>sequence_accuracy</td><td>0</td></tr><tr><td>token_accuracy</td><td>0.11352</td></tr><tr><td>train_loss</td><td>2.2291</td></tr></table><br/></div></div>"
      ],
      "text/plain": [
       "<IPython.core.display.HTML object>"
      ]
     },
     "metadata": {},
     "output_type": "display_data"
    },
    {
     "data": {
      "text/html": [
       " View run <strong style=\"color:#cdcd00\">silvery-sweep-9</strong> at: <a href='https://wandb.ai/ishita49-indian-institute-of-technology-madras/DA6401%20Assign3/runs/vm0vzjxg' target=\"_blank\">https://wandb.ai/ishita49-indian-institute-of-technology-madras/DA6401%20Assign3/runs/vm0vzjxg</a><br> View project at: <a href='https://wandb.ai/ishita49-indian-institute-of-technology-madras/DA6401%20Assign3' target=\"_blank\">https://wandb.ai/ishita49-indian-institute-of-technology-madras/DA6401%20Assign3</a><br>Synced 5 W&B file(s), 0 media file(s), 0 artifact file(s) and 0 other file(s)"
      ],
      "text/plain": [
       "<IPython.core.display.HTML object>"
      ]
     },
     "metadata": {},
     "output_type": "display_data"
    },
    {
     "data": {
      "text/html": [
       "Find logs at: <code>./wandb/run-20250518_225027-vm0vzjxg/logs</code>"
      ],
      "text/plain": [
       "<IPython.core.display.HTML object>"
      ]
     },
     "metadata": {},
     "output_type": "display_data"
    },
    {
     "name": "stderr",
     "output_type": "stream",
     "text": [
      "\u001b[34m\u001b[1mwandb\u001b[0m: Sweep Agent: Waiting for job.\n",
      "\u001b[34m\u001b[1mwandb\u001b[0m: Job received.\n",
      "\u001b[34m\u001b[1mwandb\u001b[0m: Agent Starting Run: upmfw422 with config:\n",
      "\u001b[34m\u001b[1mwandb\u001b[0m: \tbatch_size: 128\n",
      "\u001b[34m\u001b[1mwandb\u001b[0m: \tbeam_size: 3\n",
      "\u001b[34m\u001b[1mwandb\u001b[0m: \tcell_type: GRU\n",
      "\u001b[34m\u001b[1mwandb\u001b[0m: \tdropout: 0.4\n",
      "\u001b[34m\u001b[1mwandb\u001b[0m: \tembed_size: 64\n",
      "\u001b[34m\u001b[1mwandb\u001b[0m: \thidden_size: 32\n",
      "\u001b[34m\u001b[1mwandb\u001b[0m: \tlearning_rate: 0.0005\n",
      "\u001b[34m\u001b[1mwandb\u001b[0m: \tnum_decoder_layers: 3\n",
      "\u001b[34m\u001b[1mwandb\u001b[0m: \tnum_encoder_layers: 2\n"
     ]
    },
    {
     "data": {
      "text/html": [
       "Tracking run with wandb version 0.19.9"
      ],
      "text/plain": [
       "<IPython.core.display.HTML object>"
      ]
     },
     "metadata": {},
     "output_type": "display_data"
    },
    {
     "data": {
      "text/html": [
       "Run data is saved locally in <code>/kaggle/working/wandb/run-20250518_225720-upmfw422</code>"
      ],
      "text/plain": [
       "<IPython.core.display.HTML object>"
      ]
     },
     "metadata": {},
     "output_type": "display_data"
    },
    {
     "data": {
      "text/html": [
       "Syncing run <strong><a href='https://wandb.ai/ishita49-indian-institute-of-technology-madras/DA6401%20Assign3/runs/upmfw422' target=\"_blank\">icy-sweep-10</a></strong> to <a href='https://wandb.ai/ishita49-indian-institute-of-technology-madras/DA6401%20Assign3' target=\"_blank\">Weights & Biases</a> (<a href='https://wandb.me/developer-guide' target=\"_blank\">docs</a>)<br>Sweep page: <a href='https://wandb.ai/ishita49-indian-institute-of-technology-madras/DA6401%20Assign3/sweeps/2qor0304' target=\"_blank\">https://wandb.ai/ishita49-indian-institute-of-technology-madras/DA6401%20Assign3/sweeps/2qor0304</a>"
      ],
      "text/plain": [
       "<IPython.core.display.HTML object>"
      ]
     },
     "metadata": {},
     "output_type": "display_data"
    },
    {
     "data": {
      "text/html": [
       " View project at <a href='https://wandb.ai/ishita49-indian-institute-of-technology-madras/DA6401%20Assign3' target=\"_blank\">https://wandb.ai/ishita49-indian-institute-of-technology-madras/DA6401%20Assign3</a>"
      ],
      "text/plain": [
       "<IPython.core.display.HTML object>"
      ]
     },
     "metadata": {},
     "output_type": "display_data"
    },
    {
     "data": {
      "text/html": [
       " View sweep at <a href='https://wandb.ai/ishita49-indian-institute-of-technology-madras/DA6401%20Assign3/sweeps/2qor0304' target=\"_blank\">https://wandb.ai/ishita49-indian-institute-of-technology-madras/DA6401%20Assign3/sweeps/2qor0304</a>"
      ],
      "text/plain": [
       "<IPython.core.display.HTML object>"
      ]
     },
     "metadata": {},
     "output_type": "display_data"
    },
    {
     "data": {
      "text/html": [
       " View run at <a href='https://wandb.ai/ishita49-indian-institute-of-technology-madras/DA6401%20Assign3/runs/upmfw422' target=\"_blank\">https://wandb.ai/ishita49-indian-institute-of-technology-madras/DA6401%20Assign3/runs/upmfw422</a>"
      ],
      "text/plain": [
       "<IPython.core.display.HTML object>"
      ]
     },
     "metadata": {},
     "output_type": "display_data"
    },
    {
     "name": "stderr",
     "output_type": "stream",
     "text": [
      "Epoch 1/20: 100%|██████████| 346/346 [00:11<00:00, 30.24it/s]\n"
     ]
    },
    {
     "name": "stdout",
     "output_type": "stream",
     "text": [
      "Epoch 1/20 Train Loss: 2.9877\n",
      "Token Accuracy: 0.1103\n",
      "Sequence Accuracy: 0.0000\n"
     ]
    },
    {
     "name": "stderr",
     "output_type": "stream",
     "text": [
      "Epoch 2/20: 100%|██████████| 346/346 [00:11<00:00, 30.86it/s]\n"
     ]
    },
    {
     "name": "stdout",
     "output_type": "stream",
     "text": [
      "Epoch 2/20 Train Loss: 2.6087\n",
      "Token Accuracy: 0.1260\n",
      "Sequence Accuracy: 0.0002\n"
     ]
    },
    {
     "name": "stderr",
     "output_type": "stream",
     "text": [
      "Epoch 3/20: 100%|██████████| 346/346 [00:11<00:00, 30.35it/s]\n"
     ]
    },
    {
     "name": "stdout",
     "output_type": "stream",
     "text": [
      "Epoch 3/20 Train Loss: 2.5314\n",
      "Token Accuracy: 0.1482\n",
      "Sequence Accuracy: 0.0005\n"
     ]
    },
    {
     "name": "stderr",
     "output_type": "stream",
     "text": [
      "Epoch 4/20: 100%|██████████| 346/346 [00:11<00:00, 30.41it/s]\n"
     ]
    },
    {
     "name": "stdout",
     "output_type": "stream",
     "text": [
      "Epoch 4/20 Train Loss: 2.4499\n",
      "Token Accuracy: 0.1630\n",
      "Sequence Accuracy: 0.0000\n"
     ]
    },
    {
     "name": "stderr",
     "output_type": "stream",
     "text": [
      "Epoch 5/20: 100%|██████████| 346/346 [00:11<00:00, 30.88it/s]\n"
     ]
    },
    {
     "name": "stdout",
     "output_type": "stream",
     "text": [
      "Epoch 5/20 Train Loss: 2.3421\n",
      "Token Accuracy: 0.1751\n",
      "Sequence Accuracy: 0.0000\n"
     ]
    },
    {
     "name": "stderr",
     "output_type": "stream",
     "text": [
      "Epoch 6/20: 100%|██████████| 346/346 [00:11<00:00, 30.83it/s]\n"
     ]
    },
    {
     "name": "stdout",
     "output_type": "stream",
     "text": [
      "Epoch 6/20 Train Loss: 2.2520\n",
      "Token Accuracy: 0.1871\n",
      "Sequence Accuracy: 0.0000\n"
     ]
    },
    {
     "name": "stderr",
     "output_type": "stream",
     "text": [
      "Epoch 7/20: 100%|██████████| 346/346 [00:11<00:00, 30.77it/s]\n"
     ]
    },
    {
     "name": "stdout",
     "output_type": "stream",
     "text": [
      "Epoch 7/20 Train Loss: 2.1428\n",
      "Token Accuracy: 0.1990\n",
      "Sequence Accuracy: 0.0002\n"
     ]
    },
    {
     "name": "stderr",
     "output_type": "stream",
     "text": [
      "Epoch 8/20: 100%|██████████| 346/346 [00:11<00:00, 31.15it/s]\n"
     ]
    },
    {
     "name": "stdout",
     "output_type": "stream",
     "text": [
      "Epoch 8/20 Train Loss: 2.0215\n",
      "Token Accuracy: 0.2251\n",
      "Sequence Accuracy: 0.0000\n"
     ]
    },
    {
     "name": "stderr",
     "output_type": "stream",
     "text": [
      "Epoch 9/20: 100%|██████████| 346/346 [00:11<00:00, 31.19it/s]\n"
     ]
    },
    {
     "name": "stdout",
     "output_type": "stream",
     "text": [
      "Epoch 9/20 Train Loss: 1.8952\n",
      "Token Accuracy: 0.2362\n",
      "Sequence Accuracy: 0.0011\n"
     ]
    },
    {
     "name": "stderr",
     "output_type": "stream",
     "text": [
      "Epoch 10/20: 100%|██████████| 346/346 [00:11<00:00, 31.35it/s]\n"
     ]
    },
    {
     "name": "stdout",
     "output_type": "stream",
     "text": [
      "Epoch 10/20 Train Loss: 1.8286\n",
      "Token Accuracy: 0.2454\n",
      "Sequence Accuracy: 0.0016\n"
     ]
    },
    {
     "name": "stderr",
     "output_type": "stream",
     "text": [
      "Epoch 11/20: 100%|██████████| 346/346 [00:11<00:00, 31.16it/s]\n"
     ]
    },
    {
     "name": "stdout",
     "output_type": "stream",
     "text": [
      "Epoch 11/20 Train Loss: 1.7612\n",
      "Token Accuracy: 0.2468\n",
      "Sequence Accuracy: 0.0018\n"
     ]
    },
    {
     "name": "stderr",
     "output_type": "stream",
     "text": [
      "Epoch 12/20: 100%|██████████| 346/346 [00:11<00:00, 31.38it/s]\n"
     ]
    },
    {
     "name": "stdout",
     "output_type": "stream",
     "text": [
      "Epoch 12/20 Train Loss: 1.7020\n",
      "Token Accuracy: 0.2548\n",
      "Sequence Accuracy: 0.0028\n"
     ]
    },
    {
     "name": "stderr",
     "output_type": "stream",
     "text": [
      "Epoch 13/20: 100%|██████████| 346/346 [00:11<00:00, 31.23it/s]\n"
     ]
    },
    {
     "name": "stdout",
     "output_type": "stream",
     "text": [
      "Epoch 13/20 Train Loss: 1.6500\n",
      "Token Accuracy: 0.2635\n",
      "Sequence Accuracy: 0.0028\n"
     ]
    },
    {
     "name": "stderr",
     "output_type": "stream",
     "text": [
      "Epoch 14/20: 100%|██████████| 346/346 [00:11<00:00, 31.26it/s]\n"
     ]
    },
    {
     "name": "stdout",
     "output_type": "stream",
     "text": [
      "Epoch 14/20 Train Loss: 1.5959\n",
      "Token Accuracy: 0.2685\n",
      "Sequence Accuracy: 0.0039\n"
     ]
    },
    {
     "name": "stderr",
     "output_type": "stream",
     "text": [
      "Epoch 15/20: 100%|██████████| 346/346 [00:11<00:00, 31.10it/s]\n"
     ]
    },
    {
     "name": "stdout",
     "output_type": "stream",
     "text": [
      "Epoch 15/20 Train Loss: 1.5550\n",
      "Token Accuracy: 0.2792\n",
      "Sequence Accuracy: 0.0060\n"
     ]
    },
    {
     "name": "stderr",
     "output_type": "stream",
     "text": [
      "Epoch 16/20: 100%|██████████| 346/346 [00:11<00:00, 31.01it/s]\n"
     ]
    },
    {
     "name": "stdout",
     "output_type": "stream",
     "text": [
      "Epoch 16/20 Train Loss: 1.5206\n",
      "Token Accuracy: 0.2860\n",
      "Sequence Accuracy: 0.0076\n"
     ]
    },
    {
     "name": "stderr",
     "output_type": "stream",
     "text": [
      "Epoch 17/20: 100%|██████████| 346/346 [00:11<00:00, 31.09it/s]\n"
     ]
    },
    {
     "name": "stdout",
     "output_type": "stream",
     "text": [
      "Epoch 17/20 Train Loss: 1.4870\n",
      "Token Accuracy: 0.2899\n",
      "Sequence Accuracy: 0.0092\n"
     ]
    },
    {
     "name": "stderr",
     "output_type": "stream",
     "text": [
      "Epoch 18/20: 100%|██████████| 346/346 [00:11<00:00, 30.91it/s]\n"
     ]
    },
    {
     "name": "stdout",
     "output_type": "stream",
     "text": [
      "Epoch 18/20 Train Loss: 1.4601\n",
      "Token Accuracy: 0.2988\n",
      "Sequence Accuracy: 0.0089\n"
     ]
    },
    {
     "name": "stderr",
     "output_type": "stream",
     "text": [
      "Epoch 19/20: 100%|██████████| 346/346 [00:11<00:00, 31.05it/s]\n"
     ]
    },
    {
     "name": "stdout",
     "output_type": "stream",
     "text": [
      "Epoch 19/20 Train Loss: 1.4338\n",
      "Token Accuracy: 0.3040\n",
      "Sequence Accuracy: 0.0110\n"
     ]
    },
    {
     "name": "stderr",
     "output_type": "stream",
     "text": [
      "Epoch 20/20: 100%|██████████| 346/346 [00:11<00:00, 31.11it/s]\n"
     ]
    },
    {
     "name": "stdout",
     "output_type": "stream",
     "text": [
      "Epoch 20/20 Train Loss: 1.4058\n",
      "Token Accuracy: 0.3098\n",
      "Sequence Accuracy: 0.0122\n"
     ]
    },
    {
     "data": {
      "text/html": [],
      "text/plain": [
       "<IPython.core.display.HTML object>"
      ]
     },
     "metadata": {},
     "output_type": "display_data"
    },
    {
     "data": {
      "text/html": [
       "<br>    <style><br>        .wandb-row {<br>            display: flex;<br>            flex-direction: row;<br>            flex-wrap: wrap;<br>            justify-content: flex-start;<br>            width: 100%;<br>        }<br>        .wandb-col {<br>            display: flex;<br>            flex-direction: column;<br>            flex-basis: 100%;<br>            flex: 1;<br>            padding: 10px;<br>        }<br>    </style><br><div class=\"wandb-row\"><div class=\"wandb-col\"><h3>Run history:</h3><br/><table class=\"wandb\"><tr><td>epoch</td><td>▁▁▂▂▂▃▃▄▄▄▅▅▅▆▆▇▇▇██</td></tr><tr><td>sequence_accuracy</td><td>▁▁▁▁▁▁▁▁▂▂▂▃▃▃▄▅▆▆▇█</td></tr><tr><td>token_accuracy</td><td>▁▂▂▃▃▄▄▅▅▆▆▆▆▇▇▇▇███</td></tr><tr><td>train_loss</td><td>█▆▆▆▅▅▄▄▃▃▃▂▂▂▂▂▁▁▁▁</td></tr></table><br/></div><div class=\"wandb-col\"><h3>Run summary:</h3><br/><table class=\"wandb\"><tr><td>epoch</td><td>20</td></tr><tr><td>sequence_accuracy</td><td>0.01216</td></tr><tr><td>token_accuracy</td><td>0.30977</td></tr><tr><td>train_loss</td><td>1.40579</td></tr></table><br/></div></div>"
      ],
      "text/plain": [
       "<IPython.core.display.HTML object>"
      ]
     },
     "metadata": {},
     "output_type": "display_data"
    },
    {
     "data": {
      "text/html": [
       " View run <strong style=\"color:#cdcd00\">icy-sweep-10</strong> at: <a href='https://wandb.ai/ishita49-indian-institute-of-technology-madras/DA6401%20Assign3/runs/upmfw422' target=\"_blank\">https://wandb.ai/ishita49-indian-institute-of-technology-madras/DA6401%20Assign3/runs/upmfw422</a><br> View project at: <a href='https://wandb.ai/ishita49-indian-institute-of-technology-madras/DA6401%20Assign3' target=\"_blank\">https://wandb.ai/ishita49-indian-institute-of-technology-madras/DA6401%20Assign3</a><br>Synced 5 W&B file(s), 0 media file(s), 0 artifact file(s) and 0 other file(s)"
      ],
      "text/plain": [
       "<IPython.core.display.HTML object>"
      ]
     },
     "metadata": {},
     "output_type": "display_data"
    },
    {
     "data": {
      "text/html": [
       "Find logs at: <code>./wandb/run-20250518_225720-upmfw422/logs</code>"
      ],
      "text/plain": [
       "<IPython.core.display.HTML object>"
      ]
     },
     "metadata": {},
     "output_type": "display_data"
    },
    {
     "name": "stderr",
     "output_type": "stream",
     "text": [
      "\u001b[34m\u001b[1mwandb\u001b[0m: Agent Starting Run: 5qg7p3a4 with config:\n",
      "\u001b[34m\u001b[1mwandb\u001b[0m: \tbatch_size: 256\n",
      "\u001b[34m\u001b[1mwandb\u001b[0m: \tbeam_size: 5\n",
      "\u001b[34m\u001b[1mwandb\u001b[0m: \tcell_type: RNN\n",
      "\u001b[34m\u001b[1mwandb\u001b[0m: \tdropout: 0.3\n",
      "\u001b[34m\u001b[1mwandb\u001b[0m: \tembed_size: 32\n",
      "\u001b[34m\u001b[1mwandb\u001b[0m: \thidden_size: 32\n",
      "\u001b[34m\u001b[1mwandb\u001b[0m: \tlearning_rate: 0.001\n",
      "\u001b[34m\u001b[1mwandb\u001b[0m: \tnum_decoder_layers: 2\n",
      "\u001b[34m\u001b[1mwandb\u001b[0m: \tnum_encoder_layers: 3\n"
     ]
    },
    {
     "data": {
      "text/html": [
       "Tracking run with wandb version 0.19.9"
      ],
      "text/plain": [
       "<IPython.core.display.HTML object>"
      ]
     },
     "metadata": {},
     "output_type": "display_data"
    },
    {
     "data": {
      "text/html": [
       "Run data is saved locally in <code>/kaggle/working/wandb/run-20250518_231806-5qg7p3a4</code>"
      ],
      "text/plain": [
       "<IPython.core.display.HTML object>"
      ]
     },
     "metadata": {},
     "output_type": "display_data"
    },
    {
     "data": {
      "text/html": [
       "Syncing run <strong><a href='https://wandb.ai/ishita49-indian-institute-of-technology-madras/DA6401%20Assign3/runs/5qg7p3a4' target=\"_blank\">azure-sweep-11</a></strong> to <a href='https://wandb.ai/ishita49-indian-institute-of-technology-madras/DA6401%20Assign3' target=\"_blank\">Weights & Biases</a> (<a href='https://wandb.me/developer-guide' target=\"_blank\">docs</a>)<br>Sweep page: <a href='https://wandb.ai/ishita49-indian-institute-of-technology-madras/DA6401%20Assign3/sweeps/2qor0304' target=\"_blank\">https://wandb.ai/ishita49-indian-institute-of-technology-madras/DA6401%20Assign3/sweeps/2qor0304</a>"
      ],
      "text/plain": [
       "<IPython.core.display.HTML object>"
      ]
     },
     "metadata": {},
     "output_type": "display_data"
    },
    {
     "data": {
      "text/html": [
       " View project at <a href='https://wandb.ai/ishita49-indian-institute-of-technology-madras/DA6401%20Assign3' target=\"_blank\">https://wandb.ai/ishita49-indian-institute-of-technology-madras/DA6401%20Assign3</a>"
      ],
      "text/plain": [
       "<IPython.core.display.HTML object>"
      ]
     },
     "metadata": {},
     "output_type": "display_data"
    },
    {
     "data": {
      "text/html": [
       " View sweep at <a href='https://wandb.ai/ishita49-indian-institute-of-technology-madras/DA6401%20Assign3/sweeps/2qor0304' target=\"_blank\">https://wandb.ai/ishita49-indian-institute-of-technology-madras/DA6401%20Assign3/sweeps/2qor0304</a>"
      ],
      "text/plain": [
       "<IPython.core.display.HTML object>"
      ]
     },
     "metadata": {},
     "output_type": "display_data"
    },
    {
     "data": {
      "text/html": [
       " View run at <a href='https://wandb.ai/ishita49-indian-institute-of-technology-madras/DA6401%20Assign3/runs/5qg7p3a4' target=\"_blank\">https://wandb.ai/ishita49-indian-institute-of-technology-madras/DA6401%20Assign3/runs/5qg7p3a4</a>"
      ],
      "text/plain": [
       "<IPython.core.display.HTML object>"
      ]
     },
     "metadata": {},
     "output_type": "display_data"
    },
    {
     "name": "stderr",
     "output_type": "stream",
     "text": [
      "Epoch 1/20: 100%|██████████| 173/173 [00:04<00:00, 36.03it/s]\n"
     ]
    },
    {
     "name": "stdout",
     "output_type": "stream",
     "text": [
      "Epoch 1/20 Train Loss: 2.9512\n",
      "Token Accuracy: 0.0568\n",
      "Sequence Accuracy: 0.0000\n"
     ]
    },
    {
     "name": "stderr",
     "output_type": "stream",
     "text": [
      "Epoch 2/20: 100%|██████████| 173/173 [00:04<00:00, 36.11it/s]\n"
     ]
    },
    {
     "name": "stdout",
     "output_type": "stream",
     "text": [
      "Epoch 2/20 Train Loss: 2.3083\n",
      "Token Accuracy: 0.0913\n",
      "Sequence Accuracy: 0.0000\n"
     ]
    },
    {
     "name": "stderr",
     "output_type": "stream",
     "text": [
      "Epoch 3/20: 100%|██████████| 173/173 [00:05<00:00, 34.59it/s]\n"
     ]
    },
    {
     "name": "stdout",
     "output_type": "stream",
     "text": [
      "Epoch 3/20 Train Loss: 2.2215\n",
      "Token Accuracy: 0.1123\n",
      "Sequence Accuracy: 0.0000\n"
     ]
    },
    {
     "name": "stderr",
     "output_type": "stream",
     "text": [
      "Epoch 4/20: 100%|██████████| 173/173 [00:04<00:00, 35.23it/s]\n"
     ]
    },
    {
     "name": "stdout",
     "output_type": "stream",
     "text": [
      "Epoch 4/20 Train Loss: 2.1693\n",
      "Token Accuracy: 0.1131\n",
      "Sequence Accuracy: 0.0000\n"
     ]
    },
    {
     "name": "stderr",
     "output_type": "stream",
     "text": [
      "Epoch 5/20: 100%|██████████| 173/173 [00:04<00:00, 35.73it/s]\n"
     ]
    },
    {
     "name": "stdout",
     "output_type": "stream",
     "text": [
      "Epoch 5/20 Train Loss: 2.1092\n",
      "Token Accuracy: 0.1297\n",
      "Sequence Accuracy: 0.0000\n"
     ]
    },
    {
     "name": "stderr",
     "output_type": "stream",
     "text": [
      "Epoch 6/20: 100%|██████████| 173/173 [00:04<00:00, 35.87it/s]\n"
     ]
    },
    {
     "name": "stdout",
     "output_type": "stream",
     "text": [
      "Epoch 6/20 Train Loss: 2.0884\n",
      "Token Accuracy: 0.1269\n",
      "Sequence Accuracy: 0.0000\n"
     ]
    },
    {
     "name": "stderr",
     "output_type": "stream",
     "text": [
      "Epoch 7/20: 100%|██████████| 173/173 [00:04<00:00, 35.65it/s]\n"
     ]
    },
    {
     "name": "stdout",
     "output_type": "stream",
     "text": [
      "Epoch 7/20 Train Loss: 2.0500\n",
      "Token Accuracy: 0.1443\n",
      "Sequence Accuracy: 0.0000\n"
     ]
    },
    {
     "name": "stderr",
     "output_type": "stream",
     "text": [
      "Epoch 8/20: 100%|██████████| 173/173 [00:04<00:00, 35.95it/s]\n"
     ]
    },
    {
     "name": "stdout",
     "output_type": "stream",
     "text": [
      "Epoch 8/20 Train Loss: 2.0294\n"
     ]
    },
    {
     "data": {
      "text/html": [],
      "text/plain": [
       "<IPython.core.display.HTML object>"
      ]
     },
     "metadata": {},
     "output_type": "display_data"
    },
    {
     "data": {
      "text/html": [
       "<br>    <style><br>        .wandb-row {<br>            display: flex;<br>            flex-direction: row;<br>            flex-wrap: wrap;<br>            justify-content: flex-start;<br>            width: 100%;<br>        }<br>        .wandb-col {<br>            display: flex;<br>            flex-direction: column;<br>            flex-basis: 100%;<br>            flex: 1;<br>            padding: 10px;<br>        }<br>    </style><br><div class=\"wandb-row\"><div class=\"wandb-col\"><h3>Run history:</h3><br/><table class=\"wandb\"><tr><td>epoch</td><td>▁▂▃▅▆▇█</td></tr><tr><td>sequence_accuracy</td><td>▁▁▁▁▁▁▁</td></tr><tr><td>token_accuracy</td><td>▁▄▅▆▇▇█</td></tr><tr><td>train_loss</td><td>█▃▂▂▁▁▁</td></tr></table><br/></div><div class=\"wandb-col\"><h3>Run summary:</h3><br/><table class=\"wandb\"><tr><td>epoch</td><td>7</td></tr><tr><td>sequence_accuracy</td><td>0</td></tr><tr><td>token_accuracy</td><td>0.1443</td></tr><tr><td>train_loss</td><td>2.04995</td></tr></table><br/></div></div>"
      ],
      "text/plain": [
       "<IPython.core.display.HTML object>"
      ]
     },
     "metadata": {},
     "output_type": "display_data"
    },
    {
     "data": {
      "text/html": [
       " View run <strong style=\"color:#cdcd00\">azure-sweep-11</strong> at: <a href='https://wandb.ai/ishita49-indian-institute-of-technology-madras/DA6401%20Assign3/runs/5qg7p3a4' target=\"_blank\">https://wandb.ai/ishita49-indian-institute-of-technology-madras/DA6401%20Assign3/runs/5qg7p3a4</a><br> View project at: <a href='https://wandb.ai/ishita49-indian-institute-of-technology-madras/DA6401%20Assign3' target=\"_blank\">https://wandb.ai/ishita49-indian-institute-of-technology-madras/DA6401%20Assign3</a><br>Synced 5 W&B file(s), 0 media file(s), 0 artifact file(s) and 0 other file(s)"
      ],
      "text/plain": [
       "<IPython.core.display.HTML object>"
      ]
     },
     "metadata": {},
     "output_type": "display_data"
    },
    {
     "data": {
      "text/html": [
       "Find logs at: <code>./wandb/run-20250518_231806-5qg7p3a4/logs</code>"
      ],
      "text/plain": [
       "<IPython.core.display.HTML object>"
      ]
     },
     "metadata": {},
     "output_type": "display_data"
    },
    {
     "name": "stderr",
     "output_type": "stream",
     "text": [
      "\u001b[34m\u001b[1mwandb\u001b[0m: Sweep Agent: Waiting for job.\n",
      "\u001b[34m\u001b[1mwandb\u001b[0m: Job received.\n",
      "\u001b[34m\u001b[1mwandb\u001b[0m: Agent Starting Run: k2deirs1 with config:\n",
      "\u001b[34m\u001b[1mwandb\u001b[0m: \tbatch_size: 512\n",
      "\u001b[34m\u001b[1mwandb\u001b[0m: \tbeam_size: 5\n",
      "\u001b[34m\u001b[1mwandb\u001b[0m: \tcell_type: LSTM\n",
      "\u001b[34m\u001b[1mwandb\u001b[0m: \tdropout: 0.4\n",
      "\u001b[34m\u001b[1mwandb\u001b[0m: \tembed_size: 64\n",
      "\u001b[34m\u001b[1mwandb\u001b[0m: \thidden_size: 64\n",
      "\u001b[34m\u001b[1mwandb\u001b[0m: \tlearning_rate: 0.005\n",
      "\u001b[34m\u001b[1mwandb\u001b[0m: \tnum_decoder_layers: 2\n",
      "\u001b[34m\u001b[1mwandb\u001b[0m: \tnum_encoder_layers: 2\n"
     ]
    },
    {
     "data": {
      "text/html": [
       "Tracking run with wandb version 0.19.9"
      ],
      "text/plain": [
       "<IPython.core.display.HTML object>"
      ]
     },
     "metadata": {},
     "output_type": "display_data"
    },
    {
     "data": {
      "text/html": [
       "Run data is saved locally in <code>/kaggle/working/wandb/run-20250518_232919-k2deirs1</code>"
      ],
      "text/plain": [
       "<IPython.core.display.HTML object>"
      ]
     },
     "metadata": {},
     "output_type": "display_data"
    },
    {
     "data": {
      "text/html": [
       "Syncing run <strong><a href='https://wandb.ai/ishita49-indian-institute-of-technology-madras/DA6401%20Assign3/runs/k2deirs1' target=\"_blank\">legendary-sweep-12</a></strong> to <a href='https://wandb.ai/ishita49-indian-institute-of-technology-madras/DA6401%20Assign3' target=\"_blank\">Weights & Biases</a> (<a href='https://wandb.me/developer-guide' target=\"_blank\">docs</a>)<br>Sweep page: <a href='https://wandb.ai/ishita49-indian-institute-of-technology-madras/DA6401%20Assign3/sweeps/2qor0304' target=\"_blank\">https://wandb.ai/ishita49-indian-institute-of-technology-madras/DA6401%20Assign3/sweeps/2qor0304</a>"
      ],
      "text/plain": [
       "<IPython.core.display.HTML object>"
      ]
     },
     "metadata": {},
     "output_type": "display_data"
    },
    {
     "data": {
      "text/html": [
       " View project at <a href='https://wandb.ai/ishita49-indian-institute-of-technology-madras/DA6401%20Assign3' target=\"_blank\">https://wandb.ai/ishita49-indian-institute-of-technology-madras/DA6401%20Assign3</a>"
      ],
      "text/plain": [
       "<IPython.core.display.HTML object>"
      ]
     },
     "metadata": {},
     "output_type": "display_data"
    },
    {
     "data": {
      "text/html": [
       " View sweep at <a href='https://wandb.ai/ishita49-indian-institute-of-technology-madras/DA6401%20Assign3/sweeps/2qor0304' target=\"_blank\">https://wandb.ai/ishita49-indian-institute-of-technology-madras/DA6401%20Assign3/sweeps/2qor0304</a>"
      ],
      "text/plain": [
       "<IPython.core.display.HTML object>"
      ]
     },
     "metadata": {},
     "output_type": "display_data"
    },
    {
     "data": {
      "text/html": [
       " View run at <a href='https://wandb.ai/ishita49-indian-institute-of-technology-madras/DA6401%20Assign3/runs/k2deirs1' target=\"_blank\">https://wandb.ai/ishita49-indian-institute-of-technology-madras/DA6401%20Assign3/runs/k2deirs1</a>"
      ],
      "text/plain": [
       "<IPython.core.display.HTML object>"
      ]
     },
     "metadata": {},
     "output_type": "display_data"
    },
    {
     "name": "stderr",
     "output_type": "stream",
     "text": [
      "Epoch 1/20: 100%|██████████| 87/87 [00:03<00:00, 26.36it/s]\n"
     ]
    },
    {
     "name": "stdout",
     "output_type": "stream",
     "text": [
      "Epoch 1/20 Train Loss: 2.6387\n",
      "Token Accuracy: 0.1402\n",
      "Sequence Accuracy: 0.0000\n"
     ]
    },
    {
     "name": "stderr",
     "output_type": "stream",
     "text": [
      "Epoch 2/20: 100%|██████████| 87/87 [00:03<00:00, 25.21it/s]\n"
     ]
    },
    {
     "name": "stdout",
     "output_type": "stream",
     "text": [
      "Epoch 2/20 Train Loss: 1.9941\n",
      "Token Accuracy: 0.1916\n",
      "Sequence Accuracy: 0.0007\n"
     ]
    },
    {
     "name": "stderr",
     "output_type": "stream",
     "text": [
      "Epoch 3/20: 100%|██████████| 87/87 [00:03<00:00, 27.05it/s]\n"
     ]
    },
    {
     "name": "stdout",
     "output_type": "stream",
     "text": [
      "Epoch 3/20 Train Loss: 1.6217\n",
      "Token Accuracy: 0.2830\n",
      "Sequence Accuracy: 0.0062\n"
     ]
    },
    {
     "name": "stderr",
     "output_type": "stream",
     "text": [
      "Epoch 4/20: 100%|██████████| 87/87 [00:03<00:00, 25.70it/s]\n"
     ]
    },
    {
     "name": "stdout",
     "output_type": "stream",
     "text": [
      "Epoch 4/20 Train Loss: 1.2975\n",
      "Token Accuracy: 0.3908\n",
      "Sequence Accuracy: 0.0317\n"
     ]
    },
    {
     "name": "stderr",
     "output_type": "stream",
     "text": [
      "Epoch 5/20: 100%|██████████| 87/87 [00:03<00:00, 27.34it/s]\n"
     ]
    },
    {
     "name": "stdout",
     "output_type": "stream",
     "text": [
      "Epoch 5/20 Train Loss: 1.0784\n",
      "Token Accuracy: 0.4620\n",
      "Sequence Accuracy: 0.0753\n"
     ]
    },
    {
     "name": "stderr",
     "output_type": "stream",
     "text": [
      "Epoch 6/20: 100%|██████████| 87/87 [00:03<00:00, 26.64it/s]\n"
     ]
    },
    {
     "name": "stdout",
     "output_type": "stream",
     "text": [
      "Epoch 6/20 Train Loss: 0.9289\n",
      "Token Accuracy: 0.4914\n",
      "Sequence Accuracy: 0.1117\n"
     ]
    },
    {
     "name": "stderr",
     "output_type": "stream",
     "text": [
      "Epoch 7/20: 100%|██████████| 87/87 [00:03<00:00, 25.66it/s]\n"
     ]
    },
    {
     "name": "stdout",
     "output_type": "stream",
     "text": [
      "Epoch 7/20 Train Loss: 0.8212\n",
      "Token Accuracy: 0.5420\n",
      "Sequence Accuracy: 0.1572\n"
     ]
    },
    {
     "name": "stderr",
     "output_type": "stream",
     "text": [
      "Epoch 8/20: 100%|██████████| 87/87 [00:03<00:00, 27.23it/s]\n"
     ]
    },
    {
     "name": "stdout",
     "output_type": "stream",
     "text": [
      "Epoch 8/20 Train Loss: 0.7364\n",
      "Token Accuracy: 0.5702\n",
      "Sequence Accuracy: 0.1964\n"
     ]
    },
    {
     "name": "stderr",
     "output_type": "stream",
     "text": [
      "Epoch 9/20: 100%|██████████| 87/87 [00:03<00:00, 27.22it/s]\n"
     ]
    },
    {
     "name": "stdout",
     "output_type": "stream",
     "text": [
      "Epoch 9/20 Train Loss: 0.6732\n",
      "Token Accuracy: 0.5975\n",
      "Sequence Accuracy: 0.2237\n"
     ]
    },
    {
     "name": "stderr",
     "output_type": "stream",
     "text": [
      "Epoch 10/20: 100%|██████████| 87/87 [00:03<00:00, 27.11it/s]\n"
     ]
    },
    {
     "name": "stdout",
     "output_type": "stream",
     "text": [
      "Epoch 10/20 Train Loss: 0.6173\n",
      "Token Accuracy: 0.6132\n",
      "Sequence Accuracy: 0.2320\n"
     ]
    },
    {
     "name": "stderr",
     "output_type": "stream",
     "text": [
      "Epoch 11/20: 100%|██████████| 87/87 [00:03<00:00, 25.88it/s]\n"
     ]
    },
    {
     "name": "stdout",
     "output_type": "stream",
     "text": [
      "Epoch 11/20 Train Loss: 0.5861\n",
      "Token Accuracy: 0.6306\n",
      "Sequence Accuracy: 0.2637\n"
     ]
    },
    {
     "name": "stderr",
     "output_type": "stream",
     "text": [
      "Epoch 12/20: 100%|██████████| 87/87 [00:03<00:00, 26.37it/s]\n"
     ]
    },
    {
     "name": "stdout",
     "output_type": "stream",
     "text": [
      "Epoch 12/20 Train Loss: 0.5463\n",
      "Token Accuracy: 0.6527\n",
      "Sequence Accuracy: 0.2864\n"
     ]
    },
    {
     "name": "stderr",
     "output_type": "stream",
     "text": [
      "Epoch 13/20: 100%|██████████| 87/87 [00:03<00:00, 27.23it/s]\n"
     ]
    },
    {
     "name": "stdout",
     "output_type": "stream",
     "text": [
      "Epoch 13/20 Train Loss: 0.5216\n",
      "Token Accuracy: 0.6563\n",
      "Sequence Accuracy: 0.2919\n"
     ]
    },
    {
     "name": "stderr",
     "output_type": "stream",
     "text": [
      "Epoch 14/20: 100%|██████████| 87/87 [00:03<00:00, 25.63it/s]\n"
     ]
    },
    {
     "name": "stdout",
     "output_type": "stream",
     "text": [
      "Epoch 14/20 Train Loss: 0.4914\n",
      "Token Accuracy: 0.6698\n",
      "Sequence Accuracy: 0.3128\n"
     ]
    },
    {
     "name": "stderr",
     "output_type": "stream",
     "text": [
      "Epoch 15/20: 100%|██████████| 87/87 [00:03<00:00, 27.37it/s]\n"
     ]
    },
    {
     "name": "stdout",
     "output_type": "stream",
     "text": [
      "Epoch 15/20 Train Loss: 0.4781\n",
      "Token Accuracy: 0.6603\n",
      "Sequence Accuracy: 0.3027\n"
     ]
    },
    {
     "name": "stderr",
     "output_type": "stream",
     "text": [
      "Epoch 16/20: 100%|██████████| 87/87 [00:03<00:00, 27.59it/s]\n"
     ]
    },
    {
     "name": "stdout",
     "output_type": "stream",
     "text": [
      "Epoch 16/20 Train Loss: 0.4517\n",
      "Token Accuracy: 0.6600\n",
      "Sequence Accuracy: 0.3118\n"
     ]
    },
    {
     "name": "stderr",
     "output_type": "stream",
     "text": [
      "Epoch 17/20: 100%|██████████| 87/87 [00:03<00:00, 25.60it/s]\n"
     ]
    },
    {
     "name": "stdout",
     "output_type": "stream",
     "text": [
      "Epoch 17/20 Train Loss: 0.4384\n",
      "Token Accuracy: 0.6805\n",
      "Sequence Accuracy: 0.3258\n"
     ]
    },
    {
     "name": "stderr",
     "output_type": "stream",
     "text": [
      "Epoch 18/20: 100%|██████████| 87/87 [00:03<00:00, 27.37it/s]\n"
     ]
    },
    {
     "name": "stdout",
     "output_type": "stream",
     "text": [
      "Epoch 18/20 Train Loss: 0.4217\n",
      "Token Accuracy: 0.6868\n",
      "Sequence Accuracy: 0.3332\n"
     ]
    },
    {
     "name": "stderr",
     "output_type": "stream",
     "text": [
      "Epoch 19/20: 100%|██████████| 87/87 [00:03<00:00, 27.37it/s]\n"
     ]
    },
    {
     "name": "stdout",
     "output_type": "stream",
     "text": [
      "Epoch 19/20 Train Loss: 0.4152\n",
      "Token Accuracy: 0.6815\n",
      "Sequence Accuracy: 0.3309\n"
     ]
    },
    {
     "name": "stderr",
     "output_type": "stream",
     "text": [
      "Epoch 20/20: 100%|██████████| 87/87 [00:03<00:00, 27.41it/s]\n"
     ]
    },
    {
     "name": "stdout",
     "output_type": "stream",
     "text": [
      "Epoch 20/20 Train Loss: 0.3989\n",
      "Token Accuracy: 0.6884\n",
      "Sequence Accuracy: 0.3334\n"
     ]
    },
    {
     "data": {
      "text/html": [],
      "text/plain": [
       "<IPython.core.display.HTML object>"
      ]
     },
     "metadata": {},
     "output_type": "display_data"
    },
    {
     "data": {
      "text/html": [
       "<br>    <style><br>        .wandb-row {<br>            display: flex;<br>            flex-direction: row;<br>            flex-wrap: wrap;<br>            justify-content: flex-start;<br>            width: 100%;<br>        }<br>        .wandb-col {<br>            display: flex;<br>            flex-direction: column;<br>            flex-basis: 100%;<br>            flex: 1;<br>            padding: 10px;<br>        }<br>    </style><br><div class=\"wandb-row\"><div class=\"wandb-col\"><h3>Run history:</h3><br/><table class=\"wandb\"><tr><td>epoch</td><td>▁▁▂▂▂▃▃▄▄▄▅▅▅▆▆▇▇▇██</td></tr><tr><td>sequence_accuracy</td><td>▁▁▁▂▃▃▄▅▆▆▇▇▇█▇█████</td></tr><tr><td>token_accuracy</td><td>▁▂▃▄▅▅▆▆▇▇▇█████████</td></tr><tr><td>train_loss</td><td>█▆▅▄▃▃▂▂▂▂▂▁▁▁▁▁▁▁▁▁</td></tr></table><br/></div><div class=\"wandb-col\"><h3>Run summary:</h3><br/><table class=\"wandb\"><tr><td>epoch</td><td>20</td></tr><tr><td>sequence_accuracy</td><td>0.33341</td></tr><tr><td>token_accuracy</td><td>0.68839</td></tr><tr><td>train_loss</td><td>0.39893</td></tr></table><br/></div></div>"
      ],
      "text/plain": [
       "<IPython.core.display.HTML object>"
      ]
     },
     "metadata": {},
     "output_type": "display_data"
    },
    {
     "data": {
      "text/html": [
       " View run <strong style=\"color:#cdcd00\">legendary-sweep-12</strong> at: <a href='https://wandb.ai/ishita49-indian-institute-of-technology-madras/DA6401%20Assign3/runs/k2deirs1' target=\"_blank\">https://wandb.ai/ishita49-indian-institute-of-technology-madras/DA6401%20Assign3/runs/k2deirs1</a><br> View project at: <a href='https://wandb.ai/ishita49-indian-institute-of-technology-madras/DA6401%20Assign3' target=\"_blank\">https://wandb.ai/ishita49-indian-institute-of-technology-madras/DA6401%20Assign3</a><br>Synced 5 W&B file(s), 0 media file(s), 0 artifact file(s) and 0 other file(s)"
      ],
      "text/plain": [
       "<IPython.core.display.HTML object>"
      ]
     },
     "metadata": {},
     "output_type": "display_data"
    },
    {
     "data": {
      "text/html": [
       "Find logs at: <code>./wandb/run-20250518_232919-k2deirs1/logs</code>"
      ],
      "text/plain": [
       "<IPython.core.display.HTML object>"
      ]
     },
     "metadata": {},
     "output_type": "display_data"
    },
    {
     "name": "stderr",
     "output_type": "stream",
     "text": [
      "\u001b[34m\u001b[1mwandb\u001b[0m: Sweep Agent: Waiting for job.\n",
      "\u001b[34m\u001b[1mwandb\u001b[0m: Job received.\n",
      "\u001b[34m\u001b[1mwandb\u001b[0m: Agent Starting Run: jtyi0hmc with config:\n",
      "\u001b[34m\u001b[1mwandb\u001b[0m: \tbatch_size: 512\n",
      "\u001b[34m\u001b[1mwandb\u001b[0m: \tbeam_size: 5\n",
      "\u001b[34m\u001b[1mwandb\u001b[0m: \tcell_type: LSTM\n",
      "\u001b[34m\u001b[1mwandb\u001b[0m: \tdropout: 0.5\n",
      "\u001b[34m\u001b[1mwandb\u001b[0m: \tembed_size: 64\n",
      "\u001b[34m\u001b[1mwandb\u001b[0m: \thidden_size: 64\n",
      "\u001b[34m\u001b[1mwandb\u001b[0m: \tlearning_rate: 0.001\n",
      "\u001b[34m\u001b[1mwandb\u001b[0m: \tnum_decoder_layers: 3\n",
      "\u001b[34m\u001b[1mwandb\u001b[0m: \tnum_encoder_layers: 2\n"
     ]
    },
    {
     "data": {
      "text/html": [
       "Tracking run with wandb version 0.19.9"
      ],
      "text/plain": [
       "<IPython.core.display.HTML object>"
      ]
     },
     "metadata": {},
     "output_type": "display_data"
    },
    {
     "data": {
      "text/html": [
       "Run data is saved locally in <code>/kaggle/working/wandb/run-20250518_235924-jtyi0hmc</code>"
      ],
      "text/plain": [
       "<IPython.core.display.HTML object>"
      ]
     },
     "metadata": {},
     "output_type": "display_data"
    },
    {
     "data": {
      "text/html": [
       "Syncing run <strong><a href='https://wandb.ai/ishita49-indian-institute-of-technology-madras/DA6401%20Assign3/runs/jtyi0hmc' target=\"_blank\">misunderstood-sweep-13</a></strong> to <a href='https://wandb.ai/ishita49-indian-institute-of-technology-madras/DA6401%20Assign3' target=\"_blank\">Weights & Biases</a> (<a href='https://wandb.me/developer-guide' target=\"_blank\">docs</a>)<br>Sweep page: <a href='https://wandb.ai/ishita49-indian-institute-of-technology-madras/DA6401%20Assign3/sweeps/2qor0304' target=\"_blank\">https://wandb.ai/ishita49-indian-institute-of-technology-madras/DA6401%20Assign3/sweeps/2qor0304</a>"
      ],
      "text/plain": [
       "<IPython.core.display.HTML object>"
      ]
     },
     "metadata": {},
     "output_type": "display_data"
    },
    {
     "data": {
      "text/html": [
       " View project at <a href='https://wandb.ai/ishita49-indian-institute-of-technology-madras/DA6401%20Assign3' target=\"_blank\">https://wandb.ai/ishita49-indian-institute-of-technology-madras/DA6401%20Assign3</a>"
      ],
      "text/plain": [
       "<IPython.core.display.HTML object>"
      ]
     },
     "metadata": {},
     "output_type": "display_data"
    },
    {
     "data": {
      "text/html": [
       " View sweep at <a href='https://wandb.ai/ishita49-indian-institute-of-technology-madras/DA6401%20Assign3/sweeps/2qor0304' target=\"_blank\">https://wandb.ai/ishita49-indian-institute-of-technology-madras/DA6401%20Assign3/sweeps/2qor0304</a>"
      ],
      "text/plain": [
       "<IPython.core.display.HTML object>"
      ]
     },
     "metadata": {},
     "output_type": "display_data"
    },
    {
     "data": {
      "text/html": [
       " View run at <a href='https://wandb.ai/ishita49-indian-institute-of-technology-madras/DA6401%20Assign3/runs/jtyi0hmc' target=\"_blank\">https://wandb.ai/ishita49-indian-institute-of-technology-madras/DA6401%20Assign3/runs/jtyi0hmc</a>"
      ],
      "text/plain": [
       "<IPython.core.display.HTML object>"
      ]
     },
     "metadata": {},
     "output_type": "display_data"
    },
    {
     "name": "stderr",
     "output_type": "stream",
     "text": [
      "Epoch 1/20: 100%|██████████| 87/87 [00:03<00:00, 21.87it/s]\n"
     ]
    },
    {
     "name": "stdout",
     "output_type": "stream",
     "text": [
      "Epoch 1/20 Train Loss: 3.0080\n",
      "Token Accuracy: 0.0965\n",
      "Sequence Accuracy: 0.0000\n"
     ]
    },
    {
     "name": "stderr",
     "output_type": "stream",
     "text": [
      "Epoch 2/20: 100%|██████████| 87/87 [00:03<00:00, 23.09it/s]\n"
     ]
    },
    {
     "name": "stdout",
     "output_type": "stream",
     "text": [
      "Epoch 2/20 Train Loss: 2.5641\n",
      "Token Accuracy: 0.1099\n",
      "Sequence Accuracy: 0.0000\n"
     ]
    },
    {
     "name": "stderr",
     "output_type": "stream",
     "text": [
      "Epoch 3/20: 100%|██████████| 87/87 [00:04<00:00, 20.66it/s]\n"
     ]
    },
    {
     "name": "stdout",
     "output_type": "stream",
     "text": [
      "Epoch 3/20 Train Loss: 2.4506\n",
      "Token Accuracy: 0.1323\n",
      "Sequence Accuracy: 0.0000\n"
     ]
    },
    {
     "name": "stderr",
     "output_type": "stream",
     "text": [
      "Epoch 4/20: 100%|██████████| 87/87 [00:03<00:00, 22.81it/s]\n"
     ]
    },
    {
     "name": "stdout",
     "output_type": "stream",
     "text": [
      "Epoch 4/20 Train Loss: 2.3465\n",
      "Token Accuracy: 0.1520\n",
      "Sequence Accuracy: 0.0000\n"
     ]
    },
    {
     "name": "stderr",
     "output_type": "stream",
     "text": [
      "Epoch 5/20: 100%|██████████| 87/87 [00:03<00:00, 23.24it/s]\n"
     ]
    },
    {
     "name": "stdout",
     "output_type": "stream",
     "text": [
      "Epoch 5/20 Train Loss: 2.2004\n",
      "Token Accuracy: 0.1905\n",
      "Sequence Accuracy: 0.0000\n"
     ]
    },
    {
     "name": "stderr",
     "output_type": "stream",
     "text": [
      "Epoch 6/20: 100%|██████████| 87/87 [00:03<00:00, 23.45it/s]\n"
     ]
    },
    {
     "name": "stdout",
     "output_type": "stream",
     "text": [
      "Epoch 6/20 Train Loss: 2.0850\n",
      "Token Accuracy: 0.2221\n",
      "Sequence Accuracy: 0.0000\n"
     ]
    },
    {
     "name": "stderr",
     "output_type": "stream",
     "text": [
      "Epoch 7/20: 100%|██████████| 87/87 [00:03<00:00, 23.52it/s]\n"
     ]
    },
    {
     "name": "stdout",
     "output_type": "stream",
     "text": [
      "Epoch 7/20 Train Loss: 1.9692\n",
      "Token Accuracy: 0.2430\n",
      "Sequence Accuracy: 0.0007\n"
     ]
    },
    {
     "name": "stderr",
     "output_type": "stream",
     "text": [
      "Epoch 8/20: 100%|██████████| 87/87 [00:03<00:00, 22.11it/s]\n"
     ]
    },
    {
     "name": "stdout",
     "output_type": "stream",
     "text": [
      "Epoch 8/20 Train Loss: 1.8818\n",
      "Token Accuracy: 0.2530\n",
      "Sequence Accuracy: 0.0005\n"
     ]
    },
    {
     "name": "stderr",
     "output_type": "stream",
     "text": [
      "Epoch 9/20: 100%|██████████| 87/87 [00:03<00:00, 23.27it/s]\n"
     ]
    },
    {
     "name": "stdout",
     "output_type": "stream",
     "text": [
      "Epoch 9/20 Train Loss: 1.7812\n",
      "Token Accuracy: 0.2720\n",
      "Sequence Accuracy: 0.0009\n"
     ]
    },
    {
     "name": "stderr",
     "output_type": "stream",
     "text": [
      "Epoch 10/20: 100%|██████████| 87/87 [00:03<00:00, 22.45it/s]\n"
     ]
    },
    {
     "name": "stdout",
     "output_type": "stream",
     "text": [
      "Epoch 10/20 Train Loss: 1.6971\n",
      "Token Accuracy: 0.2880\n",
      "Sequence Accuracy: 0.0016\n"
     ]
    },
    {
     "name": "stderr",
     "output_type": "stream",
     "text": [
      "Epoch 11/20: 100%|██████████| 87/87 [00:03<00:00, 23.32it/s]\n"
     ]
    },
    {
     "name": "stdout",
     "output_type": "stream",
     "text": [
      "Epoch 11/20 Train Loss: 1.6004\n",
      "Token Accuracy: 0.3000\n",
      "Sequence Accuracy: 0.0044\n"
     ]
    },
    {
     "name": "stderr",
     "output_type": "stream",
     "text": [
      "Epoch 12/20: 100%|██████████| 87/87 [00:03<00:00, 23.16it/s]\n"
     ]
    },
    {
     "name": "stdout",
     "output_type": "stream",
     "text": [
      "Epoch 12/20 Train Loss: 1.5031\n",
      "Token Accuracy: 0.3198\n",
      "Sequence Accuracy: 0.0073\n"
     ]
    },
    {
     "name": "stderr",
     "output_type": "stream",
     "text": [
      "Epoch 13/20: 100%|██████████| 87/87 [00:03<00:00, 22.29it/s]\n"
     ]
    },
    {
     "name": "stdout",
     "output_type": "stream",
     "text": [
      "Epoch 13/20 Train Loss: 1.4387\n",
      "Token Accuracy: 0.3315\n",
      "Sequence Accuracy: 0.0087\n"
     ]
    },
    {
     "name": "stderr",
     "output_type": "stream",
     "text": [
      "Epoch 14/20: 100%|██████████| 87/87 [00:03<00:00, 23.35it/s]\n"
     ]
    },
    {
     "name": "stdout",
     "output_type": "stream",
     "text": [
      "Epoch 14/20 Train Loss: 1.3643\n",
      "Token Accuracy: 0.3504\n",
      "Sequence Accuracy: 0.0142\n"
     ]
    },
    {
     "name": "stderr",
     "output_type": "stream",
     "text": [
      "Epoch 15/20: 100%|██████████| 87/87 [00:03<00:00, 23.31it/s]\n"
     ]
    },
    {
     "name": "stdout",
     "output_type": "stream",
     "text": [
      "Epoch 15/20 Train Loss: 1.2953\n",
      "Token Accuracy: 0.3654\n",
      "Sequence Accuracy: 0.0163\n"
     ]
    },
    {
     "name": "stderr",
     "output_type": "stream",
     "text": [
      "Epoch 16/20: 100%|██████████| 87/87 [00:03<00:00, 23.52it/s]\n"
     ]
    },
    {
     "name": "stdout",
     "output_type": "stream",
     "text": [
      "Epoch 16/20 Train Loss: 1.2436\n",
      "Token Accuracy: 0.3776\n",
      "Sequence Accuracy: 0.0232\n"
     ]
    },
    {
     "name": "stderr",
     "output_type": "stream",
     "text": [
      "Epoch 17/20: 100%|██████████| 87/87 [00:03<00:00, 22.42it/s]\n"
     ]
    },
    {
     "name": "stdout",
     "output_type": "stream",
     "text": [
      "Epoch 17/20 Train Loss: 1.2014\n",
      "Token Accuracy: 0.3942\n",
      "Sequence Accuracy: 0.0273\n"
     ]
    },
    {
     "name": "stderr",
     "output_type": "stream",
     "text": [
      "Epoch 18/20: 100%|██████████| 87/87 [00:03<00:00, 23.29it/s]\n"
     ]
    },
    {
     "name": "stdout",
     "output_type": "stream",
     "text": [
      "Epoch 18/20 Train Loss: 1.1557\n",
      "Token Accuracy: 0.4163\n",
      "Sequence Accuracy: 0.0390\n"
     ]
    },
    {
     "name": "stderr",
     "output_type": "stream",
     "text": [
      "Epoch 19/20: 100%|██████████| 87/87 [00:03<00:00, 23.42it/s]\n"
     ]
    },
    {
     "name": "stdout",
     "output_type": "stream",
     "text": [
      "Epoch 19/20 Train Loss: 1.1068\n",
      "Token Accuracy: 0.4185\n",
      "Sequence Accuracy: 0.0404\n"
     ]
    },
    {
     "name": "stderr",
     "output_type": "stream",
     "text": [
      "Epoch 20/20: 100%|██████████| 87/87 [00:03<00:00, 22.23it/s]\n"
     ]
    },
    {
     "name": "stdout",
     "output_type": "stream",
     "text": [
      "Epoch 20/20 Train Loss: 1.0710\n",
      "Token Accuracy: 0.4426\n",
      "Sequence Accuracy: 0.0498\n"
     ]
    },
    {
     "data": {
      "text/html": [],
      "text/plain": [
       "<IPython.core.display.HTML object>"
      ]
     },
     "metadata": {},
     "output_type": "display_data"
    },
    {
     "data": {
      "text/html": [
       "<br>    <style><br>        .wandb-row {<br>            display: flex;<br>            flex-direction: row;<br>            flex-wrap: wrap;<br>            justify-content: flex-start;<br>            width: 100%;<br>        }<br>        .wandb-col {<br>            display: flex;<br>            flex-direction: column;<br>            flex-basis: 100%;<br>            flex: 1;<br>            padding: 10px;<br>        }<br>    </style><br><div class=\"wandb-row\"><div class=\"wandb-col\"><h3>Run history:</h3><br/><table class=\"wandb\"><tr><td>epoch</td><td>▁▁▂▂▂▃▃▄▄▄▅▅▅▆▆▇▇▇██</td></tr><tr><td>sequence_accuracy</td><td>▁▁▁▁▁▁▁▁▁▁▂▂▂▃▃▄▅▆▇█</td></tr><tr><td>token_accuracy</td><td>▁▁▂▂▃▄▄▄▅▅▅▆▆▆▆▇▇▇██</td></tr><tr><td>train_loss</td><td>█▆▆▆▅▅▄▄▄▃▃▃▂▂▂▂▁▁▁▁</td></tr></table><br/></div><div class=\"wandb-col\"><h3>Run summary:</h3><br/><table class=\"wandb\"><tr><td>epoch</td><td>20</td></tr><tr><td>sequence_accuracy</td><td>0.04979</td></tr><tr><td>token_accuracy</td><td>0.44262</td></tr><tr><td>train_loss</td><td>1.07098</td></tr></table><br/></div></div>"
      ],
      "text/plain": [
       "<IPython.core.display.HTML object>"
      ]
     },
     "metadata": {},
     "output_type": "display_data"
    },
    {
     "data": {
      "text/html": [
       " View run <strong style=\"color:#cdcd00\">misunderstood-sweep-13</strong> at: <a href='https://wandb.ai/ishita49-indian-institute-of-technology-madras/DA6401%20Assign3/runs/jtyi0hmc' target=\"_blank\">https://wandb.ai/ishita49-indian-institute-of-technology-madras/DA6401%20Assign3/runs/jtyi0hmc</a><br> View project at: <a href='https://wandb.ai/ishita49-indian-institute-of-technology-madras/DA6401%20Assign3' target=\"_blank\">https://wandb.ai/ishita49-indian-institute-of-technology-madras/DA6401%20Assign3</a><br>Synced 5 W&B file(s), 0 media file(s), 0 artifact file(s) and 0 other file(s)"
      ],
      "text/plain": [
       "<IPython.core.display.HTML object>"
      ]
     },
     "metadata": {},
     "output_type": "display_data"
    },
    {
     "data": {
      "text/html": [
       "Find logs at: <code>./wandb/run-20250518_235924-jtyi0hmc/logs</code>"
      ],
      "text/plain": [
       "<IPython.core.display.HTML object>"
      ]
     },
     "metadata": {},
     "output_type": "display_data"
    },
    {
     "name": "stderr",
     "output_type": "stream",
     "text": [
      "\u001b[34m\u001b[1mwandb\u001b[0m: Agent Starting Run: x4f5jf5l with config:\n",
      "\u001b[34m\u001b[1mwandb\u001b[0m: \tbatch_size: 512\n",
      "\u001b[34m\u001b[1mwandb\u001b[0m: \tbeam_size: 5\n",
      "\u001b[34m\u001b[1mwandb\u001b[0m: \tcell_type: LSTM\n",
      "\u001b[34m\u001b[1mwandb\u001b[0m: \tdropout: 0.4\n",
      "\u001b[34m\u001b[1mwandb\u001b[0m: \tembed_size: 32\n",
      "\u001b[34m\u001b[1mwandb\u001b[0m: \thidden_size: 64\n",
      "\u001b[34m\u001b[1mwandb\u001b[0m: \tlearning_rate: 0.005\n",
      "\u001b[34m\u001b[1mwandb\u001b[0m: \tnum_decoder_layers: 2\n",
      "\u001b[34m\u001b[1mwandb\u001b[0m: \tnum_encoder_layers: 2\n"
     ]
    },
    {
     "data": {
      "text/html": [
       "Tracking run with wandb version 0.19.9"
      ],
      "text/plain": [
       "<IPython.core.display.HTML object>"
      ]
     },
     "metadata": {},
     "output_type": "display_data"
    },
    {
     "data": {
      "text/html": [
       "Run data is saved locally in <code>/kaggle/working/wandb/run-20250519_003043-x4f5jf5l</code>"
      ],
      "text/plain": [
       "<IPython.core.display.HTML object>"
      ]
     },
     "metadata": {},
     "output_type": "display_data"
    },
    {
     "data": {
      "text/html": [
       "Syncing run <strong><a href='https://wandb.ai/ishita49-indian-institute-of-technology-madras/DA6401%20Assign3/runs/x4f5jf5l' target=\"_blank\">olive-sweep-14</a></strong> to <a href='https://wandb.ai/ishita49-indian-institute-of-technology-madras/DA6401%20Assign3' target=\"_blank\">Weights & Biases</a> (<a href='https://wandb.me/developer-guide' target=\"_blank\">docs</a>)<br>Sweep page: <a href='https://wandb.ai/ishita49-indian-institute-of-technology-madras/DA6401%20Assign3/sweeps/2qor0304' target=\"_blank\">https://wandb.ai/ishita49-indian-institute-of-technology-madras/DA6401%20Assign3/sweeps/2qor0304</a>"
      ],
      "text/plain": [
       "<IPython.core.display.HTML object>"
      ]
     },
     "metadata": {},
     "output_type": "display_data"
    },
    {
     "data": {
      "text/html": [
       " View project at <a href='https://wandb.ai/ishita49-indian-institute-of-technology-madras/DA6401%20Assign3' target=\"_blank\">https://wandb.ai/ishita49-indian-institute-of-technology-madras/DA6401%20Assign3</a>"
      ],
      "text/plain": [
       "<IPython.core.display.HTML object>"
      ]
     },
     "metadata": {},
     "output_type": "display_data"
    },
    {
     "data": {
      "text/html": [
       " View sweep at <a href='https://wandb.ai/ishita49-indian-institute-of-technology-madras/DA6401%20Assign3/sweeps/2qor0304' target=\"_blank\">https://wandb.ai/ishita49-indian-institute-of-technology-madras/DA6401%20Assign3/sweeps/2qor0304</a>"
      ],
      "text/plain": [
       "<IPython.core.display.HTML object>"
      ]
     },
     "metadata": {},
     "output_type": "display_data"
    },
    {
     "data": {
      "text/html": [
       " View run at <a href='https://wandb.ai/ishita49-indian-institute-of-technology-madras/DA6401%20Assign3/runs/x4f5jf5l' target=\"_blank\">https://wandb.ai/ishita49-indian-institute-of-technology-madras/DA6401%20Assign3/runs/x4f5jf5l</a>"
      ],
      "text/plain": [
       "<IPython.core.display.HTML object>"
      ]
     },
     "metadata": {},
     "output_type": "display_data"
    },
    {
     "name": "stderr",
     "output_type": "stream",
     "text": [
      "Epoch 1/20: 100%|██████████| 87/87 [00:03<00:00, 26.59it/s]\n"
     ]
    },
    {
     "name": "stdout",
     "output_type": "stream",
     "text": [
      "Epoch 1/20 Train Loss: 2.6511\n",
      "Token Accuracy: 0.1230\n",
      "Sequence Accuracy: 0.0000\n"
     ]
    },
    {
     "name": "stderr",
     "output_type": "stream",
     "text": [
      "Epoch 2/20: 100%|██████████| 87/87 [00:03<00:00, 26.76it/s]\n"
     ]
    },
    {
     "name": "stdout",
     "output_type": "stream",
     "text": [
      "Epoch 2/20 Train Loss: 1.9707\n",
      "Token Accuracy: 0.1886\n",
      "Sequence Accuracy: 0.0000\n"
     ]
    },
    {
     "name": "stderr",
     "output_type": "stream",
     "text": [
      "Epoch 3/20: 100%|██████████| 87/87 [00:03<00:00, 26.89it/s]\n"
     ]
    },
    {
     "name": "stdout",
     "output_type": "stream",
     "text": [
      "Epoch 3/20 Train Loss: 1.6708\n",
      "Token Accuracy: 0.2708\n",
      "Sequence Accuracy: 0.0016\n"
     ]
    },
    {
     "name": "stderr",
     "output_type": "stream",
     "text": [
      "Epoch 4/20: 100%|██████████| 87/87 [00:03<00:00, 25.31it/s]\n"
     ]
    },
    {
     "name": "stdout",
     "output_type": "stream",
     "text": [
      "Epoch 4/20 Train Loss: 1.3984\n",
      "Token Accuracy: 0.3444\n",
      "Sequence Accuracy: 0.0117\n"
     ]
    },
    {
     "name": "stderr",
     "output_type": "stream",
     "text": [
      "Epoch 5/20: 100%|██████████| 87/87 [00:03<00:00, 25.72it/s]\n"
     ]
    },
    {
     "name": "stdout",
     "output_type": "stream",
     "text": [
      "Epoch 5/20 Train Loss: 1.1789\n",
      "Token Accuracy: 0.4251\n",
      "Sequence Accuracy: 0.0427\n"
     ]
    },
    {
     "name": "stderr",
     "output_type": "stream",
     "text": [
      "Epoch 6/20: 100%|██████████| 87/87 [00:03<00:00, 26.90it/s]\n"
     ]
    },
    {
     "name": "stdout",
     "output_type": "stream",
     "text": [
      "Epoch 6/20 Train Loss: 1.0020\n",
      "Token Accuracy: 0.4879\n",
      "Sequence Accuracy: 0.0870\n"
     ]
    },
    {
     "name": "stderr",
     "output_type": "stream",
     "text": [
      "Epoch 7/20: 100%|██████████| 87/87 [00:03<00:00, 25.78it/s]\n"
     ]
    },
    {
     "name": "stdout",
     "output_type": "stream",
     "text": [
      "Epoch 7/20 Train Loss: 0.8709\n",
      "Token Accuracy: 0.5187\n",
      "Sequence Accuracy: 0.1317\n"
     ]
    },
    {
     "name": "stderr",
     "output_type": "stream",
     "text": [
      "Epoch 8/20: 100%|██████████| 87/87 [00:03<00:00, 27.23it/s]\n"
     ]
    },
    {
     "name": "stdout",
     "output_type": "stream",
     "text": [
      "Epoch 8/20 Train Loss: 0.7803\n",
      "Token Accuracy: 0.5547\n",
      "Sequence Accuracy: 0.1652\n"
     ]
    },
    {
     "name": "stderr",
     "output_type": "stream",
     "text": [
      "Epoch 9/20: 100%|██████████| 87/87 [00:03<00:00, 25.68it/s]\n"
     ]
    },
    {
     "name": "stdout",
     "output_type": "stream",
     "text": [
      "Epoch 9/20 Train Loss: 0.7013\n",
      "Token Accuracy: 0.5749\n",
      "Sequence Accuracy: 0.1868\n"
     ]
    },
    {
     "name": "stderr",
     "output_type": "stream",
     "text": [
      "Epoch 10/20: 100%|██████████| 87/87 [00:03<00:00, 27.36it/s]\n"
     ]
    },
    {
     "name": "stdout",
     "output_type": "stream",
     "text": [
      "Epoch 10/20 Train Loss: 0.6429\n",
      "Token Accuracy: 0.6055\n",
      "Sequence Accuracy: 0.2265\n"
     ]
    },
    {
     "name": "stderr",
     "output_type": "stream",
     "text": [
      "Epoch 11/20: 100%|██████████| 87/87 [00:03<00:00, 26.94it/s]\n"
     ]
    },
    {
     "name": "stdout",
     "output_type": "stream",
     "text": [
      "Epoch 11/20 Train Loss: 0.6048\n",
      "Token Accuracy: 0.6270\n",
      "Sequence Accuracy: 0.2611\n"
     ]
    },
    {
     "name": "stderr",
     "output_type": "stream",
     "text": [
      "Epoch 12/20: 100%|██████████| 87/87 [00:03<00:00, 27.31it/s]\n"
     ]
    },
    {
     "name": "stdout",
     "output_type": "stream",
     "text": [
      "Epoch 12/20 Train Loss: 0.5728\n",
      "Token Accuracy: 0.6270\n",
      "Sequence Accuracy: 0.2593\n"
     ]
    },
    {
     "name": "stderr",
     "output_type": "stream",
     "text": [
      "Epoch 13/20: 100%|██████████| 87/87 [00:03<00:00, 27.48it/s]\n"
     ]
    },
    {
     "name": "stdout",
     "output_type": "stream",
     "text": [
      "Epoch 13/20 Train Loss: 0.5396\n",
      "Token Accuracy: 0.6407\n",
      "Sequence Accuracy: 0.2763\n"
     ]
    },
    {
     "name": "stderr",
     "output_type": "stream",
     "text": [
      "Epoch 14/20: 100%|██████████| 87/87 [00:03<00:00, 25.82it/s]\n"
     ]
    },
    {
     "name": "stdout",
     "output_type": "stream",
     "text": [
      "Epoch 14/20 Train Loss: 0.5163\n",
      "Token Accuracy: 0.6479\n",
      "Sequence Accuracy: 0.2887\n"
     ]
    },
    {
     "name": "stderr",
     "output_type": "stream",
     "text": [
      "Epoch 15/20: 100%|██████████| 87/87 [00:03<00:00, 27.21it/s]\n"
     ]
    },
    {
     "name": "stdout",
     "output_type": "stream",
     "text": [
      "Epoch 15/20 Train Loss: 0.4904\n",
      "Token Accuracy: 0.6601\n",
      "Sequence Accuracy: 0.3040\n"
     ]
    },
    {
     "name": "stderr",
     "output_type": "stream",
     "text": [
      "Epoch 16/20: 100%|██████████| 87/87 [00:03<00:00, 26.99it/s]\n"
     ]
    },
    {
     "name": "stdout",
     "output_type": "stream",
     "text": [
      "Epoch 16/20 Train Loss: 0.4666\n",
      "Token Accuracy: 0.6657\n",
      "Sequence Accuracy: 0.3109\n"
     ]
    },
    {
     "name": "stderr",
     "output_type": "stream",
     "text": [
      "Epoch 17/20: 100%|██████████| 87/87 [00:03<00:00, 25.72it/s]\n"
     ]
    },
    {
     "name": "stdout",
     "output_type": "stream",
     "text": [
      "Epoch 17/20 Train Loss: 0.4590\n",
      "Token Accuracy: 0.6635\n",
      "Sequence Accuracy: 0.3077\n"
     ]
    },
    {
     "name": "stderr",
     "output_type": "stream",
     "text": [
      "Epoch 18/20: 100%|██████████| 87/87 [00:03<00:00, 27.07it/s]\n"
     ]
    },
    {
     "name": "stdout",
     "output_type": "stream",
     "text": [
      "Epoch 18/20 Train Loss: 0.4383\n",
      "Token Accuracy: 0.6793\n",
      "Sequence Accuracy: 0.3224\n"
     ]
    },
    {
     "name": "stderr",
     "output_type": "stream",
     "text": [
      "Epoch 19/20: 100%|██████████| 87/87 [00:03<00:00, 25.81it/s]\n"
     ]
    },
    {
     "name": "stdout",
     "output_type": "stream",
     "text": [
      "Epoch 19/20 Train Loss: 0.4247\n",
      "Token Accuracy: 0.6838\n",
      "Sequence Accuracy: 0.3256\n"
     ]
    },
    {
     "name": "stderr",
     "output_type": "stream",
     "text": [
      "Epoch 20/20: 100%|██████████| 87/87 [00:03<00:00, 27.47it/s]\n"
     ]
    },
    {
     "name": "stdout",
     "output_type": "stream",
     "text": [
      "Epoch 20/20 Train Loss: 0.4121\n",
      "Token Accuracy: 0.6932\n",
      "Sequence Accuracy: 0.3437\n"
     ]
    },
    {
     "data": {
      "text/html": [],
      "text/plain": [
       "<IPython.core.display.HTML object>"
      ]
     },
     "metadata": {},
     "output_type": "display_data"
    },
    {
     "data": {
      "text/html": [
       "<br>    <style><br>        .wandb-row {<br>            display: flex;<br>            flex-direction: row;<br>            flex-wrap: wrap;<br>            justify-content: flex-start;<br>            width: 100%;<br>        }<br>        .wandb-col {<br>            display: flex;<br>            flex-direction: column;<br>            flex-basis: 100%;<br>            flex: 1;<br>            padding: 10px;<br>        }<br>    </style><br><div class=\"wandb-row\"><div class=\"wandb-col\"><h3>Run history:</h3><br/><table class=\"wandb\"><tr><td>epoch</td><td>▁▁▂▂▂▃▃▄▄▄▅▅▅▆▆▇▇▇██</td></tr><tr><td>sequence_accuracy</td><td>▁▁▁▁▂▃▄▄▅▆▆▆▇▇▇▇▇███</td></tr><tr><td>token_accuracy</td><td>▁▂▃▄▅▅▆▆▇▇▇▇▇▇██████</td></tr><tr><td>train_loss</td><td>█▆▅▄▃▃▂▂▂▂▂▂▁▁▁▁▁▁▁▁</td></tr></table><br/></div><div class=\"wandb-col\"><h3>Run summary:</h3><br/><table class=\"wandb\"><tr><td>epoch</td><td>20</td></tr><tr><td>sequence_accuracy</td><td>0.34374</td></tr><tr><td>token_accuracy</td><td>0.69321</td></tr><tr><td>train_loss</td><td>0.41209</td></tr></table><br/></div></div>"
      ],
      "text/plain": [
       "<IPython.core.display.HTML object>"
      ]
     },
     "metadata": {},
     "output_type": "display_data"
    },
    {
     "data": {
      "text/html": [
       " View run <strong style=\"color:#cdcd00\">olive-sweep-14</strong> at: <a href='https://wandb.ai/ishita49-indian-institute-of-technology-madras/DA6401%20Assign3/runs/x4f5jf5l' target=\"_blank\">https://wandb.ai/ishita49-indian-institute-of-technology-madras/DA6401%20Assign3/runs/x4f5jf5l</a><br> View project at: <a href='https://wandb.ai/ishita49-indian-institute-of-technology-madras/DA6401%20Assign3' target=\"_blank\">https://wandb.ai/ishita49-indian-institute-of-technology-madras/DA6401%20Assign3</a><br>Synced 5 W&B file(s), 0 media file(s), 0 artifact file(s) and 0 other file(s)"
      ],
      "text/plain": [
       "<IPython.core.display.HTML object>"
      ]
     },
     "metadata": {},
     "output_type": "display_data"
    },
    {
     "data": {
      "text/html": [
       "Find logs at: <code>./wandb/run-20250519_003043-x4f5jf5l/logs</code>"
      ],
      "text/plain": [
       "<IPython.core.display.HTML object>"
      ]
     },
     "metadata": {},
     "output_type": "display_data"
    },
    {
     "name": "stderr",
     "output_type": "stream",
     "text": [
      "\u001b[34m\u001b[1mwandb\u001b[0m: Agent Starting Run: jzyvyu5l with config:\n",
      "\u001b[34m\u001b[1mwandb\u001b[0m: \tbatch_size: 512\n",
      "\u001b[34m\u001b[1mwandb\u001b[0m: \tbeam_size: 5\n",
      "\u001b[34m\u001b[1mwandb\u001b[0m: \tcell_type: LSTM\n",
      "\u001b[34m\u001b[1mwandb\u001b[0m: \tdropout: 0.5\n",
      "\u001b[34m\u001b[1mwandb\u001b[0m: \tembed_size: 64\n",
      "\u001b[34m\u001b[1mwandb\u001b[0m: \thidden_size: 64\n",
      "\u001b[34m\u001b[1mwandb\u001b[0m: \tlearning_rate: 0.005\n",
      "\u001b[34m\u001b[1mwandb\u001b[0m: \tnum_decoder_layers: 3\n",
      "\u001b[34m\u001b[1mwandb\u001b[0m: \tnum_encoder_layers: 2\n"
     ]
    },
    {
     "data": {
      "text/html": [
       "Tracking run with wandb version 0.19.9"
      ],
      "text/plain": [
       "<IPython.core.display.HTML object>"
      ]
     },
     "metadata": {},
     "output_type": "display_data"
    },
    {
     "data": {
      "text/html": [
       "Run data is saved locally in <code>/kaggle/working/wandb/run-20250519_010043-jzyvyu5l</code>"
      ],
      "text/plain": [
       "<IPython.core.display.HTML object>"
      ]
     },
     "metadata": {},
     "output_type": "display_data"
    },
    {
     "data": {
      "text/html": [
       "Syncing run <strong><a href='https://wandb.ai/ishita49-indian-institute-of-technology-madras/DA6401%20Assign3/runs/jzyvyu5l' target=\"_blank\">gentle-sweep-15</a></strong> to <a href='https://wandb.ai/ishita49-indian-institute-of-technology-madras/DA6401%20Assign3' target=\"_blank\">Weights & Biases</a> (<a href='https://wandb.me/developer-guide' target=\"_blank\">docs</a>)<br>Sweep page: <a href='https://wandb.ai/ishita49-indian-institute-of-technology-madras/DA6401%20Assign3/sweeps/2qor0304' target=\"_blank\">https://wandb.ai/ishita49-indian-institute-of-technology-madras/DA6401%20Assign3/sweeps/2qor0304</a>"
      ],
      "text/plain": [
       "<IPython.core.display.HTML object>"
      ]
     },
     "metadata": {},
     "output_type": "display_data"
    },
    {
     "data": {
      "text/html": [
       " View project at <a href='https://wandb.ai/ishita49-indian-institute-of-technology-madras/DA6401%20Assign3' target=\"_blank\">https://wandb.ai/ishita49-indian-institute-of-technology-madras/DA6401%20Assign3</a>"
      ],
      "text/plain": [
       "<IPython.core.display.HTML object>"
      ]
     },
     "metadata": {},
     "output_type": "display_data"
    },
    {
     "data": {
      "text/html": [
       " View sweep at <a href='https://wandb.ai/ishita49-indian-institute-of-technology-madras/DA6401%20Assign3/sweeps/2qor0304' target=\"_blank\">https://wandb.ai/ishita49-indian-institute-of-technology-madras/DA6401%20Assign3/sweeps/2qor0304</a>"
      ],
      "text/plain": [
       "<IPython.core.display.HTML object>"
      ]
     },
     "metadata": {},
     "output_type": "display_data"
    },
    {
     "data": {
      "text/html": [
       " View run at <a href='https://wandb.ai/ishita49-indian-institute-of-technology-madras/DA6401%20Assign3/runs/jzyvyu5l' target=\"_blank\">https://wandb.ai/ishita49-indian-institute-of-technology-madras/DA6401%20Assign3/runs/jzyvyu5l</a>"
      ],
      "text/plain": [
       "<IPython.core.display.HTML object>"
      ]
     },
     "metadata": {},
     "output_type": "display_data"
    },
    {
     "name": "stderr",
     "output_type": "stream",
     "text": [
      "Epoch 1/20: 100%|██████████| 87/87 [00:03<00:00, 23.43it/s]\n"
     ]
    },
    {
     "name": "stdout",
     "output_type": "stream",
     "text": [
      "Epoch 1/20 Train Loss: 2.7051\n",
      "Token Accuracy: 0.1309\n",
      "Sequence Accuracy: 0.0000\n"
     ]
    },
    {
     "name": "stderr",
     "output_type": "stream",
     "text": [
      "Epoch 2/20: 100%|██████████| 87/87 [00:03<00:00, 22.44it/s]\n"
     ]
    },
    {
     "name": "stdout",
     "output_type": "stream",
     "text": [
      "Epoch 2/20 Train Loss: 2.3974\n",
      "Token Accuracy: 0.1686\n",
      "Sequence Accuracy: 0.0002\n"
     ]
    },
    {
     "name": "stderr",
     "output_type": "stream",
     "text": [
      "Epoch 3/20: 100%|██████████| 87/87 [00:03<00:00, 23.04it/s]\n"
     ]
    },
    {
     "name": "stdout",
     "output_type": "stream",
     "text": [
      "Epoch 3/20 Train Loss: 1.9382\n",
      "Token Accuracy: 0.2197\n",
      "Sequence Accuracy: 0.0005\n"
     ]
    },
    {
     "name": "stderr",
     "output_type": "stream",
     "text": [
      "Epoch 4/20: 100%|██████████| 87/87 [00:03<00:00, 23.51it/s]\n"
     ]
    },
    {
     "name": "stdout",
     "output_type": "stream",
     "text": [
      "Epoch 4/20 Train Loss: 1.7417\n",
      "Token Accuracy: 0.2808\n",
      "Sequence Accuracy: 0.0023\n"
     ]
    },
    {
     "name": "stderr",
     "output_type": "stream",
     "text": [
      "Epoch 5/20: 100%|██████████| 87/87 [00:03<00:00, 22.14it/s]\n"
     ]
    },
    {
     "name": "stdout",
     "output_type": "stream",
     "text": [
      "Epoch 5/20 Train Loss: 1.5589\n",
      "Token Accuracy: 0.3425\n",
      "Sequence Accuracy: 0.0071\n"
     ]
    },
    {
     "name": "stderr",
     "output_type": "stream",
     "text": [
      "Epoch 6/20: 100%|██████████| 87/87 [00:03<00:00, 23.26it/s]\n"
     ]
    },
    {
     "name": "stdout",
     "output_type": "stream",
     "text": [
      "Epoch 6/20 Train Loss: 1.3780\n",
      "Token Accuracy: 0.3988\n",
      "Sequence Accuracy: 0.0181\n"
     ]
    },
    {
     "name": "stderr",
     "output_type": "stream",
     "text": [
      "Epoch 7/20: 100%|██████████| 87/87 [00:03<00:00, 23.58it/s]\n"
     ]
    },
    {
     "name": "stdout",
     "output_type": "stream",
     "text": [
      "Epoch 7/20 Train Loss: 1.2343\n",
      "Token Accuracy: 0.4234\n",
      "Sequence Accuracy: 0.0319\n"
     ]
    },
    {
     "name": "stderr",
     "output_type": "stream",
     "text": [
      "Epoch 8/20: 100%|██████████| 87/87 [00:03<00:00, 23.51it/s]\n"
     ]
    },
    {
     "name": "stdout",
     "output_type": "stream",
     "text": [
      "Epoch 8/20 Train Loss: 1.1177\n",
      "Token Accuracy: 0.4611\n",
      "Sequence Accuracy: 0.0548\n"
     ]
    },
    {
     "name": "stderr",
     "output_type": "stream",
     "text": [
      "Epoch 9/20: 100%|██████████| 87/87 [00:03<00:00, 22.16it/s]\n"
     ]
    },
    {
     "name": "stdout",
     "output_type": "stream",
     "text": [
      "Epoch 9/20 Train Loss: 1.0417\n",
      "Token Accuracy: 0.4768\n",
      "Sequence Accuracy: 0.0638\n"
     ]
    },
    {
     "name": "stderr",
     "output_type": "stream",
     "text": [
      "Epoch 10/20: 100%|██████████| 87/87 [00:03<00:00, 23.22it/s]\n"
     ]
    },
    {
     "name": "stdout",
     "output_type": "stream",
     "text": [
      "Epoch 10/20 Train Loss: 0.9678\n",
      "Token Accuracy: 0.4983\n",
      "Sequence Accuracy: 0.0925\n"
     ]
    },
    {
     "name": "stderr",
     "output_type": "stream",
     "text": [
      "Epoch 11/20: 100%|██████████| 87/87 [00:03<00:00, 23.44it/s]\n"
     ]
    },
    {
     "name": "stdout",
     "output_type": "stream",
     "text": [
      "Epoch 11/20 Train Loss: 0.9007\n",
      "Token Accuracy: 0.5241\n",
      "Sequence Accuracy: 0.1237\n"
     ]
    },
    {
     "name": "stderr",
     "output_type": "stream",
     "text": [
      "Epoch 12/20: 100%|██████████| 87/87 [00:03<00:00, 22.49it/s]\n"
     ]
    },
    {
     "name": "stdout",
     "output_type": "stream",
     "text": [
      "Epoch 12/20 Train Loss: 0.8531\n",
      "Token Accuracy: 0.5466\n",
      "Sequence Accuracy: 0.1423\n"
     ]
    },
    {
     "name": "stderr",
     "output_type": "stream",
     "text": [
      "Epoch 13/20: 100%|██████████| 87/87 [00:03<00:00, 23.12it/s]\n"
     ]
    },
    {
     "name": "stdout",
     "output_type": "stream",
     "text": [
      "Epoch 13/20 Train Loss: 0.8168\n",
      "Token Accuracy: 0.5510\n",
      "Sequence Accuracy: 0.1487\n"
     ]
    },
    {
     "name": "stderr",
     "output_type": "stream",
     "text": [
      "Epoch 14/20: 100%|██████████| 87/87 [00:03<00:00, 22.03it/s]\n"
     ]
    },
    {
     "name": "stdout",
     "output_type": "stream",
     "text": [
      "Epoch 14/20 Train Loss: 0.7733\n",
      "Token Accuracy: 0.5680\n",
      "Sequence Accuracy: 0.1625\n"
     ]
    },
    {
     "name": "stderr",
     "output_type": "stream",
     "text": [
      "Epoch 15/20: 100%|██████████| 87/87 [00:03<00:00, 23.54it/s]\n"
     ]
    },
    {
     "name": "stdout",
     "output_type": "stream",
     "text": [
      "Epoch 15/20 Train Loss: 0.7425\n",
      "Token Accuracy: 0.5886\n",
      "Sequence Accuracy: 0.1831\n"
     ]
    },
    {
     "name": "stderr",
     "output_type": "stream",
     "text": [
      "Epoch 16/20: 100%|██████████| 87/87 [00:03<00:00, 22.57it/s]\n"
     ]
    },
    {
     "name": "stdout",
     "output_type": "stream",
     "text": [
      "Epoch 16/20 Train Loss: 0.7086\n",
      "Token Accuracy: 0.5920\n",
      "Sequence Accuracy: 0.1962\n"
     ]
    },
    {
     "name": "stderr",
     "output_type": "stream",
     "text": [
      "Epoch 17/20: 100%|██████████| 87/87 [00:03<00:00, 22.85it/s]\n"
     ]
    },
    {
     "name": "stdout",
     "output_type": "stream",
     "text": [
      "Epoch 17/20 Train Loss: 0.6861\n",
      "Token Accuracy: 0.5948\n",
      "Sequence Accuracy: 0.1946\n"
     ]
    },
    {
     "name": "stderr",
     "output_type": "stream",
     "text": [
      "Epoch 18/20: 100%|██████████| 87/87 [00:03<00:00, 22.29it/s]\n"
     ]
    },
    {
     "name": "stdout",
     "output_type": "stream",
     "text": [
      "Epoch 18/20 Train Loss: 0.6636\n",
      "Token Accuracy: 0.6051\n",
      "Sequence Accuracy: 0.2067\n"
     ]
    },
    {
     "name": "stderr",
     "output_type": "stream",
     "text": [
      "Epoch 19/20: 100%|██████████| 87/87 [00:04<00:00, 21.45it/s]\n"
     ]
    },
    {
     "name": "stdout",
     "output_type": "stream",
     "text": [
      "Epoch 19/20 Train Loss: 0.6372\n",
      "Token Accuracy: 0.6230\n",
      "Sequence Accuracy: 0.2279\n"
     ]
    },
    {
     "name": "stderr",
     "output_type": "stream",
     "text": [
      "Epoch 20/20: 100%|██████████| 87/87 [00:03<00:00, 23.39it/s]\n"
     ]
    },
    {
     "name": "stdout",
     "output_type": "stream",
     "text": [
      "Epoch 20/20 Train Loss: 0.6186\n",
      "Token Accuracy: 0.6238\n",
      "Sequence Accuracy: 0.2302\n"
     ]
    },
    {
     "data": {
      "text/html": [],
      "text/plain": [
       "<IPython.core.display.HTML object>"
      ]
     },
     "metadata": {},
     "output_type": "display_data"
    },
    {
     "data": {
      "text/html": [
       "<br>    <style><br>        .wandb-row {<br>            display: flex;<br>            flex-direction: row;<br>            flex-wrap: wrap;<br>            justify-content: flex-start;<br>            width: 100%;<br>        }<br>        .wandb-col {<br>            display: flex;<br>            flex-direction: column;<br>            flex-basis: 100%;<br>            flex: 1;<br>            padding: 10px;<br>        }<br>    </style><br><div class=\"wandb-row\"><div class=\"wandb-col\"><h3>Run history:</h3><br/><table class=\"wandb\"><tr><td>epoch</td><td>▁▁▂▂▂▃▃▄▄▄▅▅▅▆▆▇▇▇██</td></tr><tr><td>sequence_accuracy</td><td>▁▁▁▁▁▂▂▃▃▄▅▅▆▆▇▇▇▇██</td></tr><tr><td>token_accuracy</td><td>▁▂▂▃▄▅▅▆▆▆▇▇▇▇██████</td></tr><tr><td>train_loss</td><td>█▇▅▅▄▄▃▃▂▂▂▂▂▂▁▁▁▁▁▁</td></tr></table><br/></div><div class=\"wandb-col\"><h3>Run summary:</h3><br/><table class=\"wandb\"><tr><td>epoch</td><td>20</td></tr><tr><td>sequence_accuracy</td><td>0.23015</td></tr><tr><td>token_accuracy</td><td>0.62381</td></tr><tr><td>train_loss</td><td>0.6186</td></tr></table><br/></div></div>"
      ],
      "text/plain": [
       "<IPython.core.display.HTML object>"
      ]
     },
     "metadata": {},
     "output_type": "display_data"
    },
    {
     "data": {
      "text/html": [
       " View run <strong style=\"color:#cdcd00\">gentle-sweep-15</strong> at: <a href='https://wandb.ai/ishita49-indian-institute-of-technology-madras/DA6401%20Assign3/runs/jzyvyu5l' target=\"_blank\">https://wandb.ai/ishita49-indian-institute-of-technology-madras/DA6401%20Assign3/runs/jzyvyu5l</a><br> View project at: <a href='https://wandb.ai/ishita49-indian-institute-of-technology-madras/DA6401%20Assign3' target=\"_blank\">https://wandb.ai/ishita49-indian-institute-of-technology-madras/DA6401%20Assign3</a><br>Synced 5 W&B file(s), 0 media file(s), 0 artifact file(s) and 0 other file(s)"
      ],
      "text/plain": [
       "<IPython.core.display.HTML object>"
      ]
     },
     "metadata": {},
     "output_type": "display_data"
    },
    {
     "data": {
      "text/html": [
       "Find logs at: <code>./wandb/run-20250519_010043-jzyvyu5l/logs</code>"
      ],
      "text/plain": [
       "<IPython.core.display.HTML object>"
      ]
     },
     "metadata": {},
     "output_type": "display_data"
    },
    {
     "name": "stderr",
     "output_type": "stream",
     "text": [
      "\u001b[34m\u001b[1mwandb\u001b[0m: Agent Starting Run: a0r5yzvb with config:\n",
      "\u001b[34m\u001b[1mwandb\u001b[0m: \tbatch_size: 512\n",
      "\u001b[34m\u001b[1mwandb\u001b[0m: \tbeam_size: 5\n",
      "\u001b[34m\u001b[1mwandb\u001b[0m: \tcell_type: LSTM\n",
      "\u001b[34m\u001b[1mwandb\u001b[0m: \tdropout: 0.3\n",
      "\u001b[34m\u001b[1mwandb\u001b[0m: \tembed_size: 64\n",
      "\u001b[34m\u001b[1mwandb\u001b[0m: \thidden_size: 64\n",
      "\u001b[34m\u001b[1mwandb\u001b[0m: \tlearning_rate: 0.001\n",
      "\u001b[34m\u001b[1mwandb\u001b[0m: \tnum_decoder_layers: 3\n",
      "\u001b[34m\u001b[1mwandb\u001b[0m: \tnum_encoder_layers: 1\n"
     ]
    },
    {
     "data": {
      "text/html": [
       "Tracking run with wandb version 0.19.9"
      ],
      "text/plain": [
       "<IPython.core.display.HTML object>"
      ]
     },
     "metadata": {},
     "output_type": "display_data"
    },
    {
     "data": {
      "text/html": [
       "Run data is saved locally in <code>/kaggle/working/wandb/run-20250519_013203-a0r5yzvb</code>"
      ],
      "text/plain": [
       "<IPython.core.display.HTML object>"
      ]
     },
     "metadata": {},
     "output_type": "display_data"
    },
    {
     "data": {
      "text/html": [
       "Syncing run <strong><a href='https://wandb.ai/ishita49-indian-institute-of-technology-madras/DA6401%20Assign3/runs/a0r5yzvb' target=\"_blank\">stellar-sweep-16</a></strong> to <a href='https://wandb.ai/ishita49-indian-institute-of-technology-madras/DA6401%20Assign3' target=\"_blank\">Weights & Biases</a> (<a href='https://wandb.me/developer-guide' target=\"_blank\">docs</a>)<br>Sweep page: <a href='https://wandb.ai/ishita49-indian-institute-of-technology-madras/DA6401%20Assign3/sweeps/2qor0304' target=\"_blank\">https://wandb.ai/ishita49-indian-institute-of-technology-madras/DA6401%20Assign3/sweeps/2qor0304</a>"
      ],
      "text/plain": [
       "<IPython.core.display.HTML object>"
      ]
     },
     "metadata": {},
     "output_type": "display_data"
    },
    {
     "data": {
      "text/html": [
       " View project at <a href='https://wandb.ai/ishita49-indian-institute-of-technology-madras/DA6401%20Assign3' target=\"_blank\">https://wandb.ai/ishita49-indian-institute-of-technology-madras/DA6401%20Assign3</a>"
      ],
      "text/plain": [
       "<IPython.core.display.HTML object>"
      ]
     },
     "metadata": {},
     "output_type": "display_data"
    },
    {
     "data": {
      "text/html": [
       " View sweep at <a href='https://wandb.ai/ishita49-indian-institute-of-technology-madras/DA6401%20Assign3/sweeps/2qor0304' target=\"_blank\">https://wandb.ai/ishita49-indian-institute-of-technology-madras/DA6401%20Assign3/sweeps/2qor0304</a>"
      ],
      "text/plain": [
       "<IPython.core.display.HTML object>"
      ]
     },
     "metadata": {},
     "output_type": "display_data"
    },
    {
     "data": {
      "text/html": [
       " View run at <a href='https://wandb.ai/ishita49-indian-institute-of-technology-madras/DA6401%20Assign3/runs/a0r5yzvb' target=\"_blank\">https://wandb.ai/ishita49-indian-institute-of-technology-madras/DA6401%20Assign3/runs/a0r5yzvb</a>"
      ],
      "text/plain": [
       "<IPython.core.display.HTML object>"
      ]
     },
     "metadata": {},
     "output_type": "display_data"
    },
    {
     "name": "stderr",
     "output_type": "stream",
     "text": [
      "Epoch 1/20: 100%|██████████| 87/87 [00:03<00:00, 22.42it/s]\n"
     ]
    },
    {
     "name": "stdout",
     "output_type": "stream",
     "text": [
      "Epoch 1/20 Train Loss: 2.9926\n",
      "Token Accuracy: 0.0928\n",
      "Sequence Accuracy: 0.0000\n"
     ]
    },
    {
     "name": "stderr",
     "output_type": "stream",
     "text": [
      "Epoch 2/20: 100%|██████████| 87/87 [00:03<00:00, 23.78it/s]\n"
     ]
    },
    {
     "name": "stdout",
     "output_type": "stream",
     "text": [
      "Epoch 2/20 Train Loss: 2.4622\n",
      "Token Accuracy: 0.1144\n",
      "Sequence Accuracy: 0.0000\n"
     ]
    },
    {
     "name": "stderr",
     "output_type": "stream",
     "text": [
      "Epoch 3/20: 100%|██████████| 87/87 [00:03<00:00, 23.77it/s]\n"
     ]
    },
    {
     "name": "stdout",
     "output_type": "stream",
     "text": [
      "Epoch 3/20 Train Loss: 2.3083\n",
      "Token Accuracy: 0.1477\n",
      "Sequence Accuracy: 0.0000\n"
     ]
    },
    {
     "name": "stderr",
     "output_type": "stream",
     "text": [
      "Epoch 4/20: 100%|██████████| 87/87 [00:03<00:00, 24.04it/s]\n"
     ]
    },
    {
     "name": "stdout",
     "output_type": "stream",
     "text": [
      "Epoch 4/20 Train Loss: 2.1802\n",
      "Token Accuracy: 0.1682\n",
      "Sequence Accuracy: 0.0007\n"
     ]
    },
    {
     "name": "stderr",
     "output_type": "stream",
     "text": [
      "Epoch 5/20: 100%|██████████| 87/87 [00:03<00:00, 24.09it/s]\n"
     ]
    },
    {
     "name": "stdout",
     "output_type": "stream",
     "text": [
      "Epoch 5/20 Train Loss: 2.0637\n",
      "Token Accuracy: 0.1852\n",
      "Sequence Accuracy: 0.0014\n"
     ]
    },
    {
     "name": "stderr",
     "output_type": "stream",
     "text": [
      "Epoch 6/20: 100%|██████████| 87/87 [00:03<00:00, 22.82it/s]\n"
     ]
    },
    {
     "name": "stdout",
     "output_type": "stream",
     "text": [
      "Epoch 6/20 Train Loss: 1.9729\n",
      "Token Accuracy: 0.1925\n",
      "Sequence Accuracy: 0.0016\n"
     ]
    },
    {
     "name": "stderr",
     "output_type": "stream",
     "text": [
      "Epoch 7/20: 100%|██████████| 87/87 [00:03<00:00, 22.89it/s]\n"
     ]
    },
    {
     "name": "stdout",
     "output_type": "stream",
     "text": [
      "Epoch 7/20 Train Loss: 1.8942\n",
      "Token Accuracy: 0.1802\n",
      "Sequence Accuracy: 0.0018\n"
     ]
    },
    {
     "name": "stderr",
     "output_type": "stream",
     "text": [
      "Epoch 8/20: 100%|██████████| 87/87 [00:03<00:00, 22.21it/s]\n"
     ]
    },
    {
     "name": "stdout",
     "output_type": "stream",
     "text": [
      "Epoch 8/20 Train Loss: 1.8052\n"
     ]
    },
    {
     "data": {
      "text/html": [],
      "text/plain": [
       "<IPython.core.display.HTML object>"
      ]
     },
     "metadata": {},
     "output_type": "display_data"
    },
    {
     "data": {
      "text/html": [
       "<br>    <style><br>        .wandb-row {<br>            display: flex;<br>            flex-direction: row;<br>            flex-wrap: wrap;<br>            justify-content: flex-start;<br>            width: 100%;<br>        }<br>        .wandb-col {<br>            display: flex;<br>            flex-direction: column;<br>            flex-basis: 100%;<br>            flex: 1;<br>            padding: 10px;<br>        }<br>    </style><br><div class=\"wandb-row\"><div class=\"wandb-col\"><h3>Run history:</h3><br/><table class=\"wandb\"><tr><td>epoch</td><td>▁▂▃▅▆▇█</td></tr><tr><td>sequence_accuracy</td><td>▁▁▁▄▆▇█</td></tr><tr><td>token_accuracy</td><td>▁▃▅▆▇█▇</td></tr><tr><td>train_loss</td><td>█▅▄▃▂▂▁</td></tr></table><br/></div><div class=\"wandb-col\"><h3>Run summary:</h3><br/><table class=\"wandb\"><tr><td>epoch</td><td>7</td></tr><tr><td>sequence_accuracy</td><td>0.00184</td></tr><tr><td>token_accuracy</td><td>0.18021</td></tr><tr><td>train_loss</td><td>1.89421</td></tr></table><br/></div></div>"
      ],
      "text/plain": [
       "<IPython.core.display.HTML object>"
      ]
     },
     "metadata": {},
     "output_type": "display_data"
    },
    {
     "data": {
      "text/html": [
       " View run <strong style=\"color:#cdcd00\">stellar-sweep-16</strong> at: <a href='https://wandb.ai/ishita49-indian-institute-of-technology-madras/DA6401%20Assign3/runs/a0r5yzvb' target=\"_blank\">https://wandb.ai/ishita49-indian-institute-of-technology-madras/DA6401%20Assign3/runs/a0r5yzvb</a><br> View project at: <a href='https://wandb.ai/ishita49-indian-institute-of-technology-madras/DA6401%20Assign3' target=\"_blank\">https://wandb.ai/ishita49-indian-institute-of-technology-madras/DA6401%20Assign3</a><br>Synced 5 W&B file(s), 0 media file(s), 0 artifact file(s) and 0 other file(s)"
      ],
      "text/plain": [
       "<IPython.core.display.HTML object>"
      ]
     },
     "metadata": {},
     "output_type": "display_data"
    },
    {
     "data": {
      "text/html": [
       "Find logs at: <code>./wandb/run-20250519_013203-a0r5yzvb/logs</code>"
      ],
      "text/plain": [
       "<IPython.core.display.HTML object>"
      ]
     },
     "metadata": {},
     "output_type": "display_data"
    },
    {
     "name": "stderr",
     "output_type": "stream",
     "text": [
      "\u001b[34m\u001b[1mwandb\u001b[0m: Agent Starting Run: iujmcbf9 with config:\n",
      "\u001b[34m\u001b[1mwandb\u001b[0m: \tbatch_size: 512\n",
      "\u001b[34m\u001b[1mwandb\u001b[0m: \tbeam_size: 5\n",
      "\u001b[34m\u001b[1mwandb\u001b[0m: \tcell_type: LSTM\n",
      "\u001b[34m\u001b[1mwandb\u001b[0m: \tdropout: 0.3\n",
      "\u001b[34m\u001b[1mwandb\u001b[0m: \tembed_size: 64\n",
      "\u001b[34m\u001b[1mwandb\u001b[0m: \thidden_size: 64\n",
      "\u001b[34m\u001b[1mwandb\u001b[0m: \tlearning_rate: 0.005\n",
      "\u001b[34m\u001b[1mwandb\u001b[0m: \tnum_decoder_layers: 2\n",
      "\u001b[34m\u001b[1mwandb\u001b[0m: \tnum_encoder_layers: 2\n"
     ]
    },
    {
     "data": {
      "text/html": [
       "Tracking run with wandb version 0.19.9"
      ],
      "text/plain": [
       "<IPython.core.display.HTML object>"
      ]
     },
     "metadata": {},
     "output_type": "display_data"
    },
    {
     "data": {
      "text/html": [
       "Run data is saved locally in <code>/kaggle/working/wandb/run-20250519_014412-iujmcbf9</code>"
      ],
      "text/plain": [
       "<IPython.core.display.HTML object>"
      ]
     },
     "metadata": {},
     "output_type": "display_data"
    },
    {
     "data": {
      "text/html": [
       "Syncing run <strong><a href='https://wandb.ai/ishita49-indian-institute-of-technology-madras/DA6401%20Assign3/runs/iujmcbf9' target=\"_blank\">ethereal-sweep-17</a></strong> to <a href='https://wandb.ai/ishita49-indian-institute-of-technology-madras/DA6401%20Assign3' target=\"_blank\">Weights & Biases</a> (<a href='https://wandb.me/developer-guide' target=\"_blank\">docs</a>)<br>Sweep page: <a href='https://wandb.ai/ishita49-indian-institute-of-technology-madras/DA6401%20Assign3/sweeps/2qor0304' target=\"_blank\">https://wandb.ai/ishita49-indian-institute-of-technology-madras/DA6401%20Assign3/sweeps/2qor0304</a>"
      ],
      "text/plain": [
       "<IPython.core.display.HTML object>"
      ]
     },
     "metadata": {},
     "output_type": "display_data"
    },
    {
     "data": {
      "text/html": [
       " View project at <a href='https://wandb.ai/ishita49-indian-institute-of-technology-madras/DA6401%20Assign3' target=\"_blank\">https://wandb.ai/ishita49-indian-institute-of-technology-madras/DA6401%20Assign3</a>"
      ],
      "text/plain": [
       "<IPython.core.display.HTML object>"
      ]
     },
     "metadata": {},
     "output_type": "display_data"
    },
    {
     "data": {
      "text/html": [
       " View sweep at <a href='https://wandb.ai/ishita49-indian-institute-of-technology-madras/DA6401%20Assign3/sweeps/2qor0304' target=\"_blank\">https://wandb.ai/ishita49-indian-institute-of-technology-madras/DA6401%20Assign3/sweeps/2qor0304</a>"
      ],
      "text/plain": [
       "<IPython.core.display.HTML object>"
      ]
     },
     "metadata": {},
     "output_type": "display_data"
    },
    {
     "data": {
      "text/html": [
       " View run at <a href='https://wandb.ai/ishita49-indian-institute-of-technology-madras/DA6401%20Assign3/runs/iujmcbf9' target=\"_blank\">https://wandb.ai/ishita49-indian-institute-of-technology-madras/DA6401%20Assign3/runs/iujmcbf9</a>"
      ],
      "text/plain": [
       "<IPython.core.display.HTML object>"
      ]
     },
     "metadata": {},
     "output_type": "display_data"
    },
    {
     "name": "stderr",
     "output_type": "stream",
     "text": [
      "Epoch 1/20: 100%|██████████| 87/87 [00:03<00:00, 26.05it/s]\n"
     ]
    },
    {
     "name": "stdout",
     "output_type": "stream",
     "text": [
      "Epoch 1/20 Train Loss: 2.6227\n",
      "Token Accuracy: 0.1527\n",
      "Sequence Accuracy: 0.0000\n"
     ]
    },
    {
     "name": "stderr",
     "output_type": "stream",
     "text": [
      "Epoch 2/20: 100%|██████████| 87/87 [00:03<00:00, 27.05it/s]\n"
     ]
    },
    {
     "name": "stdout",
     "output_type": "stream",
     "text": [
      "Epoch 2/20 Train Loss: 1.8847\n",
      "Token Accuracy: 0.2065\n",
      "Sequence Accuracy: 0.0007\n"
     ]
    },
    {
     "name": "stderr",
     "output_type": "stream",
     "text": [
      "Epoch 3/20: 100%|██████████| 87/87 [00:03<00:00, 27.02it/s]\n"
     ]
    },
    {
     "name": "stdout",
     "output_type": "stream",
     "text": [
      "Epoch 3/20 Train Loss: 1.5555\n",
      "Token Accuracy: 0.3138\n",
      "Sequence Accuracy: 0.0060\n"
     ]
    },
    {
     "name": "stderr",
     "output_type": "stream",
     "text": [
      "Epoch 4/20: 100%|██████████| 87/87 [00:03<00:00, 26.56it/s]\n"
     ]
    },
    {
     "name": "stdout",
     "output_type": "stream",
     "text": [
      "Epoch 4/20 Train Loss: 1.2553\n",
      "Token Accuracy: 0.4132\n",
      "Sequence Accuracy: 0.0390\n"
     ]
    },
    {
     "name": "stderr",
     "output_type": "stream",
     "text": [
      "Epoch 5/20: 100%|██████████| 87/87 [00:03<00:00, 25.78it/s]\n"
     ]
    },
    {
     "name": "stdout",
     "output_type": "stream",
     "text": [
      "Epoch 5/20 Train Loss: 1.0183\n",
      "Token Accuracy: 0.4590\n",
      "Sequence Accuracy: 0.0826\n"
     ]
    },
    {
     "name": "stderr",
     "output_type": "stream",
     "text": [
      "Epoch 6/20: 100%|██████████| 87/87 [00:03<00:00, 27.44it/s]\n"
     ]
    },
    {
     "name": "stdout",
     "output_type": "stream",
     "text": [
      "Epoch 6/20 Train Loss: 0.8648\n",
      "Token Accuracy: 0.5173\n",
      "Sequence Accuracy: 0.1225\n"
     ]
    },
    {
     "name": "stderr",
     "output_type": "stream",
     "text": [
      "Epoch 7/20: 100%|██████████| 87/87 [00:03<00:00, 27.32it/s]\n"
     ]
    },
    {
     "name": "stdout",
     "output_type": "stream",
     "text": [
      "Epoch 7/20 Train Loss: 0.7564\n",
      "Token Accuracy: 0.5592\n",
      "Sequence Accuracy: 0.1737\n"
     ]
    },
    {
     "name": "stderr",
     "output_type": "stream",
     "text": [
      "Epoch 8/20: 100%|██████████| 87/87 [00:03<00:00, 25.83it/s]\n"
     ]
    },
    {
     "name": "stdout",
     "output_type": "stream",
     "text": [
      "Epoch 8/20 Train Loss: 0.6691\n",
      "Token Accuracy: 0.5863\n",
      "Sequence Accuracy: 0.2081\n"
     ]
    },
    {
     "name": "stderr",
     "output_type": "stream",
     "text": [
      "Epoch 9/20: 100%|██████████| 87/87 [00:03<00:00, 27.30it/s]\n"
     ]
    },
    {
     "name": "stdout",
     "output_type": "stream",
     "text": [
      "Epoch 9/20 Train Loss: 0.6013\n",
      "Token Accuracy: 0.6079\n",
      "Sequence Accuracy: 0.2306\n"
     ]
    },
    {
     "name": "stderr",
     "output_type": "stream",
     "text": [
      "Epoch 10/20: 100%|██████████| 87/87 [00:03<00:00, 25.80it/s]\n"
     ]
    },
    {
     "name": "stdout",
     "output_type": "stream",
     "text": [
      "Epoch 10/20 Train Loss: 0.5618\n",
      "Token Accuracy: 0.6331\n",
      "Sequence Accuracy: 0.2646\n"
     ]
    },
    {
     "name": "stderr",
     "output_type": "stream",
     "text": [
      "Epoch 11/20: 100%|██████████| 87/87 [00:03<00:00, 27.28it/s]\n"
     ]
    },
    {
     "name": "stdout",
     "output_type": "stream",
     "text": [
      "Epoch 11/20 Train Loss: 0.5182\n",
      "Token Accuracy: 0.6320\n",
      "Sequence Accuracy: 0.2600\n"
     ]
    },
    {
     "name": "stderr",
     "output_type": "stream",
     "text": [
      "Epoch 12/20: 100%|██████████| 87/87 [00:03<00:00, 26.96it/s]\n"
     ]
    },
    {
     "name": "stdout",
     "output_type": "stream",
     "text": [
      "Epoch 12/20 Train Loss: 0.4881\n",
      "Token Accuracy: 0.6600\n",
      "Sequence Accuracy: 0.2953\n"
     ]
    },
    {
     "name": "stderr",
     "output_type": "stream",
     "text": [
      "Epoch 13/20: 100%|██████████| 87/87 [00:03<00:00, 27.12it/s]\n"
     ]
    },
    {
     "name": "stdout",
     "output_type": "stream",
     "text": [
      "Epoch 13/20 Train Loss: 0.4731\n",
      "Token Accuracy: 0.6562\n",
      "Sequence Accuracy: 0.2955\n"
     ]
    },
    {
     "name": "stderr",
     "output_type": "stream",
     "text": [
      "Epoch 14/20: 100%|██████████| 87/87 [00:03<00:00, 26.98it/s]\n"
     ]
    },
    {
     "name": "stdout",
     "output_type": "stream",
     "text": [
      "Epoch 14/20 Train Loss: 0.4435\n",
      "Token Accuracy: 0.6762\n",
      "Sequence Accuracy: 0.3118\n"
     ]
    },
    {
     "name": "stderr",
     "output_type": "stream",
     "text": [
      "Epoch 15/20: 100%|██████████| 87/87 [00:03<00:00, 25.24it/s]\n"
     ]
    },
    {
     "name": "stdout",
     "output_type": "stream",
     "text": [
      "Epoch 15/20 Train Loss: 0.4249\n",
      "Token Accuracy: 0.6851\n",
      "Sequence Accuracy: 0.3261\n"
     ]
    },
    {
     "name": "stderr",
     "output_type": "stream",
     "text": [
      "Epoch 16/20: 100%|██████████| 87/87 [00:03<00:00, 26.60it/s]\n"
     ]
    },
    {
     "name": "stdout",
     "output_type": "stream",
     "text": [
      "Epoch 16/20 Train Loss: 0.4068\n",
      "Token Accuracy: 0.6864\n",
      "Sequence Accuracy: 0.3277\n"
     ]
    },
    {
     "name": "stderr",
     "output_type": "stream",
     "text": [
      "Epoch 17/20: 100%|██████████| 87/87 [00:03<00:00, 26.76it/s]\n"
     ]
    },
    {
     "name": "stdout",
     "output_type": "stream",
     "text": [
      "Epoch 17/20 Train Loss: 0.3907\n",
      "Token Accuracy: 0.6950\n",
      "Sequence Accuracy: 0.3380\n"
     ]
    },
    {
     "name": "stderr",
     "output_type": "stream",
     "text": [
      "Epoch 18/20: 100%|██████████| 87/87 [00:03<00:00, 25.34it/s]\n"
     ]
    },
    {
     "name": "stdout",
     "output_type": "stream",
     "text": [
      "Epoch 18/20 Train Loss: 0.3785\n",
      "Token Accuracy: 0.6953\n",
      "Sequence Accuracy: 0.3474\n"
     ]
    },
    {
     "name": "stderr",
     "output_type": "stream",
     "text": [
      "Epoch 19/20: 100%|██████████| 87/87 [00:03<00:00, 26.51it/s]\n"
     ]
    },
    {
     "name": "stdout",
     "output_type": "stream",
     "text": [
      "Epoch 19/20 Train Loss: 0.3704\n",
      "Token Accuracy: 0.7027\n",
      "Sequence Accuracy: 0.3481\n"
     ]
    },
    {
     "name": "stderr",
     "output_type": "stream",
     "text": [
      "Epoch 20/20: 100%|██████████| 87/87 [00:03<00:00, 25.43it/s]\n"
     ]
    },
    {
     "name": "stdout",
     "output_type": "stream",
     "text": [
      "Epoch 20/20 Train Loss: 0.3633\n",
      "Token Accuracy: 0.6998\n",
      "Sequence Accuracy: 0.3525\n"
     ]
    },
    {
     "data": {
      "text/html": [],
      "text/plain": [
       "<IPython.core.display.HTML object>"
      ]
     },
     "metadata": {},
     "output_type": "display_data"
    },
    {
     "data": {
      "text/html": [
       "<br>    <style><br>        .wandb-row {<br>            display: flex;<br>            flex-direction: row;<br>            flex-wrap: wrap;<br>            justify-content: flex-start;<br>            width: 100%;<br>        }<br>        .wandb-col {<br>            display: flex;<br>            flex-direction: column;<br>            flex-basis: 100%;<br>            flex: 1;<br>            padding: 10px;<br>        }<br>    </style><br><div class=\"wandb-row\"><div class=\"wandb-col\"><h3>Run history:</h3><br/><table class=\"wandb\"><tr><td>epoch</td><td>▁▁▂▂▂▃▃▄▄▄▅▅▅▆▆▇▇▇██</td></tr><tr><td>sequence_accuracy</td><td>▁▁▁▂▃▃▄▅▆▆▆▇▇▇▇█████</td></tr><tr><td>token_accuracy</td><td>▁▂▃▄▅▆▆▇▇▇▇▇▇███████</td></tr><tr><td>train_loss</td><td>█▆▅▄▃▃▂▂▂▂▁▁▁▁▁▁▁▁▁▁</td></tr></table><br/></div><div class=\"wandb-col\"><h3>Run summary:</h3><br/><table class=\"wandb\"><tr><td>epoch</td><td>20</td></tr><tr><td>sequence_accuracy</td><td>0.35246</td></tr><tr><td>token_accuracy</td><td>0.69977</td></tr><tr><td>train_loss</td><td>0.36328</td></tr></table><br/></div></div>"
      ],
      "text/plain": [
       "<IPython.core.display.HTML object>"
      ]
     },
     "metadata": {},
     "output_type": "display_data"
    },
    {
     "data": {
      "text/html": [
       " View run <strong style=\"color:#cdcd00\">ethereal-sweep-17</strong> at: <a href='https://wandb.ai/ishita49-indian-institute-of-technology-madras/DA6401%20Assign3/runs/iujmcbf9' target=\"_blank\">https://wandb.ai/ishita49-indian-institute-of-technology-madras/DA6401%20Assign3/runs/iujmcbf9</a><br> View project at: <a href='https://wandb.ai/ishita49-indian-institute-of-technology-madras/DA6401%20Assign3' target=\"_blank\">https://wandb.ai/ishita49-indian-institute-of-technology-madras/DA6401%20Assign3</a><br>Synced 5 W&B file(s), 0 media file(s), 0 artifact file(s) and 0 other file(s)"
      ],
      "text/plain": [
       "<IPython.core.display.HTML object>"
      ]
     },
     "metadata": {},
     "output_type": "display_data"
    },
    {
     "data": {
      "text/html": [
       "Find logs at: <code>./wandb/run-20250519_014412-iujmcbf9/logs</code>"
      ],
      "text/plain": [
       "<IPython.core.display.HTML object>"
      ]
     },
     "metadata": {},
     "output_type": "display_data"
    },
    {
     "name": "stderr",
     "output_type": "stream",
     "text": [
      "\u001b[34m\u001b[1mwandb\u001b[0m: Agent Starting Run: pophi1i8 with config:\n",
      "\u001b[34m\u001b[1mwandb\u001b[0m: \tbatch_size: 512\n",
      "\u001b[34m\u001b[1mwandb\u001b[0m: \tbeam_size: 5\n",
      "\u001b[34m\u001b[1mwandb\u001b[0m: \tcell_type: LSTM\n",
      "\u001b[34m\u001b[1mwandb\u001b[0m: \tdropout: 0.5\n",
      "\u001b[34m\u001b[1mwandb\u001b[0m: \tembed_size: 64\n",
      "\u001b[34m\u001b[1mwandb\u001b[0m: \thidden_size: 64\n",
      "\u001b[34m\u001b[1mwandb\u001b[0m: \tlearning_rate: 0.005\n",
      "\u001b[34m\u001b[1mwandb\u001b[0m: \tnum_decoder_layers: 3\n",
      "\u001b[34m\u001b[1mwandb\u001b[0m: \tnum_encoder_layers: 3\n"
     ]
    },
    {
     "data": {
      "text/html": [
       "Tracking run with wandb version 0.19.9"
      ],
      "text/plain": [
       "<IPython.core.display.HTML object>"
      ]
     },
     "metadata": {},
     "output_type": "display_data"
    },
    {
     "data": {
      "text/html": [
       "Run data is saved locally in <code>/kaggle/working/wandb/run-20250519_021419-pophi1i8</code>"
      ],
      "text/plain": [
       "<IPython.core.display.HTML object>"
      ]
     },
     "metadata": {},
     "output_type": "display_data"
    },
    {
     "data": {
      "text/html": [
       "Syncing run <strong><a href='https://wandb.ai/ishita49-indian-institute-of-technology-madras/DA6401%20Assign3/runs/pophi1i8' target=\"_blank\">dandy-sweep-18</a></strong> to <a href='https://wandb.ai/ishita49-indian-institute-of-technology-madras/DA6401%20Assign3' target=\"_blank\">Weights & Biases</a> (<a href='https://wandb.me/developer-guide' target=\"_blank\">docs</a>)<br>Sweep page: <a href='https://wandb.ai/ishita49-indian-institute-of-technology-madras/DA6401%20Assign3/sweeps/2qor0304' target=\"_blank\">https://wandb.ai/ishita49-indian-institute-of-technology-madras/DA6401%20Assign3/sweeps/2qor0304</a>"
      ],
      "text/plain": [
       "<IPython.core.display.HTML object>"
      ]
     },
     "metadata": {},
     "output_type": "display_data"
    },
    {
     "data": {
      "text/html": [
       " View project at <a href='https://wandb.ai/ishita49-indian-institute-of-technology-madras/DA6401%20Assign3' target=\"_blank\">https://wandb.ai/ishita49-indian-institute-of-technology-madras/DA6401%20Assign3</a>"
      ],
      "text/plain": [
       "<IPython.core.display.HTML object>"
      ]
     },
     "metadata": {},
     "output_type": "display_data"
    },
    {
     "data": {
      "text/html": [
       " View sweep at <a href='https://wandb.ai/ishita49-indian-institute-of-technology-madras/DA6401%20Assign3/sweeps/2qor0304' target=\"_blank\">https://wandb.ai/ishita49-indian-institute-of-technology-madras/DA6401%20Assign3/sweeps/2qor0304</a>"
      ],
      "text/plain": [
       "<IPython.core.display.HTML object>"
      ]
     },
     "metadata": {},
     "output_type": "display_data"
    },
    {
     "data": {
      "text/html": [
       " View run at <a href='https://wandb.ai/ishita49-indian-institute-of-technology-madras/DA6401%20Assign3/runs/pophi1i8' target=\"_blank\">https://wandb.ai/ishita49-indian-institute-of-technology-madras/DA6401%20Assign3/runs/pophi1i8</a>"
      ],
      "text/plain": [
       "<IPython.core.display.HTML object>"
      ]
     },
     "metadata": {},
     "output_type": "display_data"
    },
    {
     "name": "stderr",
     "output_type": "stream",
     "text": [
      "Epoch 1/20: 100%|██████████| 87/87 [00:03<00:00, 22.31it/s]\n"
     ]
    },
    {
     "name": "stdout",
     "output_type": "stream",
     "text": [
      "Epoch 1/20 Train Loss: 2.7372\n",
      "Token Accuracy: 0.1319\n",
      "Sequence Accuracy: 0.0000\n"
     ]
    },
    {
     "name": "stderr",
     "output_type": "stream",
     "text": [
      "Epoch 2/20: 100%|██████████| 87/87 [00:03<00:00, 22.65it/s]\n"
     ]
    },
    {
     "name": "stdout",
     "output_type": "stream",
     "text": [
      "Epoch 2/20 Train Loss: 2.4305\n",
      "Token Accuracy: 0.1683\n",
      "Sequence Accuracy: 0.0000\n"
     ]
    },
    {
     "name": "stderr",
     "output_type": "stream",
     "text": [
      "Epoch 3/20: 100%|██████████| 87/87 [00:03<00:00, 22.03it/s]\n"
     ]
    },
    {
     "name": "stdout",
     "output_type": "stream",
     "text": [
      "Epoch 3/20 Train Loss: 2.0882\n",
      "Token Accuracy: 0.1854\n",
      "Sequence Accuracy: 0.0000\n"
     ]
    },
    {
     "name": "stderr",
     "output_type": "stream",
     "text": [
      "Epoch 4/20: 100%|██████████| 87/87 [00:03<00:00, 22.76it/s]\n"
     ]
    },
    {
     "name": "stdout",
     "output_type": "stream",
     "text": [
      "Epoch 4/20 Train Loss: 1.8425\n",
      "Token Accuracy: 0.2552\n",
      "Sequence Accuracy: 0.0011\n"
     ]
    },
    {
     "name": "stderr",
     "output_type": "stream",
     "text": [
      "Epoch 5/20: 100%|██████████| 87/87 [00:04<00:00, 21.72it/s]\n"
     ]
    },
    {
     "name": "stdout",
     "output_type": "stream",
     "text": [
      "Epoch 5/20 Train Loss: 1.6965\n",
      "Token Accuracy: 0.2996\n",
      "Sequence Accuracy: 0.0037\n"
     ]
    },
    {
     "name": "stderr",
     "output_type": "stream",
     "text": [
      "Epoch 6/20: 100%|██████████| 87/87 [00:03<00:00, 22.99it/s]\n"
     ]
    },
    {
     "name": "stdout",
     "output_type": "stream",
     "text": [
      "Epoch 6/20 Train Loss: 1.5629\n",
      "Token Accuracy: 0.3375\n",
      "Sequence Accuracy: 0.0048\n"
     ]
    },
    {
     "name": "stderr",
     "output_type": "stream",
     "text": [
      "Epoch 7/20: 100%|██████████| 87/87 [00:03<00:00, 23.05it/s]\n"
     ]
    },
    {
     "name": "stdout",
     "output_type": "stream",
     "text": [
      "Epoch 7/20 Train Loss: 1.4562\n",
      "Token Accuracy: 0.3584\n",
      "Sequence Accuracy: 0.0099\n"
     ]
    },
    {
     "name": "stderr",
     "output_type": "stream",
     "text": [
      "Epoch 8/20: 100%|██████████| 87/87 [00:03<00:00, 23.19it/s]\n"
     ]
    },
    {
     "name": "stdout",
     "output_type": "stream",
     "text": [
      "Epoch 8/20 Train Loss: 1.3442\n",
      "Token Accuracy: 0.3792\n",
      "Sequence Accuracy: 0.0124\n"
     ]
    },
    {
     "name": "stderr",
     "output_type": "stream",
     "text": [
      "Epoch 9/20: 100%|██████████| 87/87 [00:03<00:00, 22.87it/s]\n"
     ]
    },
    {
     "name": "stdout",
     "output_type": "stream",
     "text": [
      "Epoch 9/20 Train Loss: 1.2309\n",
      "Token Accuracy: 0.3989\n",
      "Sequence Accuracy: 0.0172\n"
     ]
    },
    {
     "name": "stderr",
     "output_type": "stream",
     "text": [
      "Epoch 10/20: 100%|██████████| 87/87 [00:03<00:00, 22.14it/s]\n"
     ]
    },
    {
     "name": "stdout",
     "output_type": "stream",
     "text": [
      "Epoch 10/20 Train Loss: 1.1506\n",
      "Token Accuracy: 0.4464\n",
      "Sequence Accuracy: 0.0395\n"
     ]
    },
    {
     "name": "stderr",
     "output_type": "stream",
     "text": [
      "Epoch 11/20: 100%|██████████| 87/87 [00:03<00:00, 22.83it/s]\n"
     ]
    },
    {
     "name": "stdout",
     "output_type": "stream",
     "text": [
      "Epoch 11/20 Train Loss: 1.0717\n",
      "Token Accuracy: 0.4858\n",
      "Sequence Accuracy: 0.0544\n"
     ]
    },
    {
     "name": "stderr",
     "output_type": "stream",
     "text": [
      "Epoch 12/20: 100%|██████████| 87/87 [00:03<00:00, 22.84it/s]\n"
     ]
    },
    {
     "name": "stdout",
     "output_type": "stream",
     "text": [
      "Epoch 12/20 Train Loss: 0.9947\n",
      "Token Accuracy: 0.5073\n",
      "Sequence Accuracy: 0.0776\n"
     ]
    },
    {
     "name": "stderr",
     "output_type": "stream",
     "text": [
      "Epoch 13/20: 100%|██████████| 87/87 [00:03<00:00, 21.91it/s]\n"
     ]
    },
    {
     "name": "stdout",
     "output_type": "stream",
     "text": [
      "Epoch 13/20 Train Loss: 0.9394\n",
      "Token Accuracy: 0.5329\n",
      "Sequence Accuracy: 0.0987\n"
     ]
    },
    {
     "name": "stderr",
     "output_type": "stream",
     "text": [
      "Epoch 14/20: 100%|██████████| 87/87 [00:03<00:00, 23.14it/s]\n"
     ]
    },
    {
     "name": "stdout",
     "output_type": "stream",
     "text": [
      "Epoch 14/20 Train Loss: 0.8960\n",
      "Token Accuracy: 0.5414\n",
      "Sequence Accuracy: 0.1138\n"
     ]
    },
    {
     "name": "stderr",
     "output_type": "stream",
     "text": [
      "Epoch 15/20: 100%|██████████| 87/87 [00:03<00:00, 21.96it/s]\n"
     ]
    },
    {
     "name": "stdout",
     "output_type": "stream",
     "text": [
      "Epoch 15/20 Train Loss: 0.8561\n",
      "Token Accuracy: 0.5585\n",
      "Sequence Accuracy: 0.1322\n"
     ]
    },
    {
     "name": "stderr",
     "output_type": "stream",
     "text": [
      "Epoch 16/20: 100%|██████████| 87/87 [00:03<00:00, 23.19it/s]\n"
     ]
    },
    {
     "name": "stdout",
     "output_type": "stream",
     "text": [
      "Epoch 16/20 Train Loss: 0.8172\n",
      "Token Accuracy: 0.5604\n",
      "Sequence Accuracy: 0.1526\n"
     ]
    },
    {
     "name": "stderr",
     "output_type": "stream",
     "text": [
      "Epoch 17/20: 100%|██████████| 87/87 [00:03<00:00, 23.22it/s]\n"
     ]
    },
    {
     "name": "stdout",
     "output_type": "stream",
     "text": [
      "Epoch 17/20 Train Loss: 0.7808\n",
      "Token Accuracy: 0.5908\n",
      "Sequence Accuracy: 0.1794\n"
     ]
    },
    {
     "name": "stderr",
     "output_type": "stream",
     "text": [
      "Epoch 18/20: 100%|██████████| 87/87 [00:03<00:00, 22.90it/s]\n"
     ]
    },
    {
     "name": "stdout",
     "output_type": "stream",
     "text": [
      "Epoch 18/20 Train Loss: 0.7510\n",
      "Token Accuracy: 0.5909\n",
      "Sequence Accuracy: 0.1838\n"
     ]
    },
    {
     "name": "stderr",
     "output_type": "stream",
     "text": [
      "Epoch 19/20: 100%|██████████| 87/87 [00:03<00:00, 23.10it/s]\n"
     ]
    },
    {
     "name": "stdout",
     "output_type": "stream",
     "text": [
      "Epoch 19/20 Train Loss: 0.7239\n",
      "Token Accuracy: 0.6069\n",
      "Sequence Accuracy: 0.2054\n"
     ]
    },
    {
     "name": "stderr",
     "output_type": "stream",
     "text": [
      "Epoch 20/20: 100%|██████████| 87/87 [00:03<00:00, 21.85it/s]\n"
     ]
    },
    {
     "name": "stdout",
     "output_type": "stream",
     "text": [
      "Epoch 20/20 Train Loss: 0.7046\n",
      "Token Accuracy: 0.6149\n",
      "Sequence Accuracy: 0.2125\n"
     ]
    },
    {
     "data": {
      "text/html": [],
      "text/plain": [
       "<IPython.core.display.HTML object>"
      ]
     },
     "metadata": {},
     "output_type": "display_data"
    },
    {
     "data": {
      "text/html": [
       "<br>    <style><br>        .wandb-row {<br>            display: flex;<br>            flex-direction: row;<br>            flex-wrap: wrap;<br>            justify-content: flex-start;<br>            width: 100%;<br>        }<br>        .wandb-col {<br>            display: flex;<br>            flex-direction: column;<br>            flex-basis: 100%;<br>            flex: 1;<br>            padding: 10px;<br>        }<br>    </style><br><div class=\"wandb-row\"><div class=\"wandb-col\"><h3>Run history:</h3><br/><table class=\"wandb\"><tr><td>epoch</td><td>▁▁▂▂▂▃▃▄▄▄▅▅▅▆▆▇▇▇██</td></tr><tr><td>sequence_accuracy</td><td>▁▁▁▁▁▁▁▁▂▂▃▄▄▅▅▆▇▇██</td></tr><tr><td>token_accuracy</td><td>▁▂▂▃▃▄▄▅▅▆▆▆▇▇▇▇████</td></tr><tr><td>train_loss</td><td>█▇▆▅▄▄▄▃▃▃▂▂▂▂▂▁▁▁▁▁</td></tr></table><br/></div><div class=\"wandb-col\"><h3>Run summary:</h3><br/><table class=\"wandb\"><tr><td>epoch</td><td>20</td></tr><tr><td>sequence_accuracy</td><td>0.21248</td></tr><tr><td>token_accuracy</td><td>0.61493</td></tr><tr><td>train_loss</td><td>0.70459</td></tr></table><br/></div></div>"
      ],
      "text/plain": [
       "<IPython.core.display.HTML object>"
      ]
     },
     "metadata": {},
     "output_type": "display_data"
    },
    {
     "data": {
      "text/html": [
       " View run <strong style=\"color:#cdcd00\">dandy-sweep-18</strong> at: <a href='https://wandb.ai/ishita49-indian-institute-of-technology-madras/DA6401%20Assign3/runs/pophi1i8' target=\"_blank\">https://wandb.ai/ishita49-indian-institute-of-technology-madras/DA6401%20Assign3/runs/pophi1i8</a><br> View project at: <a href='https://wandb.ai/ishita49-indian-institute-of-technology-madras/DA6401%20Assign3' target=\"_blank\">https://wandb.ai/ishita49-indian-institute-of-technology-madras/DA6401%20Assign3</a><br>Synced 5 W&B file(s), 0 media file(s), 0 artifact file(s) and 0 other file(s)"
      ],
      "text/plain": [
       "<IPython.core.display.HTML object>"
      ]
     },
     "metadata": {},
     "output_type": "display_data"
    },
    {
     "data": {
      "text/html": [
       "Find logs at: <code>./wandb/run-20250519_021419-pophi1i8/logs</code>"
      ],
      "text/plain": [
       "<IPython.core.display.HTML object>"
      ]
     },
     "metadata": {},
     "output_type": "display_data"
    },
    {
     "name": "stderr",
     "output_type": "stream",
     "text": [
      "\u001b[34m\u001b[1mwandb\u001b[0m: Agent Starting Run: wshn3ems with config:\n",
      "\u001b[34m\u001b[1mwandb\u001b[0m: \tbatch_size: 512\n",
      "\u001b[34m\u001b[1mwandb\u001b[0m: \tbeam_size: 5\n",
      "\u001b[34m\u001b[1mwandb\u001b[0m: \tcell_type: LSTM\n",
      "\u001b[34m\u001b[1mwandb\u001b[0m: \tdropout: 0.4\n",
      "\u001b[34m\u001b[1mwandb\u001b[0m: \tembed_size: 64\n",
      "\u001b[34m\u001b[1mwandb\u001b[0m: \thidden_size: 64\n",
      "\u001b[34m\u001b[1mwandb\u001b[0m: \tlearning_rate: 0.005\n",
      "\u001b[34m\u001b[1mwandb\u001b[0m: \tnum_decoder_layers: 2\n",
      "\u001b[34m\u001b[1mwandb\u001b[0m: \tnum_encoder_layers: 2\n"
     ]
    },
    {
     "data": {
      "text/html": [
       "Tracking run with wandb version 0.19.9"
      ],
      "text/plain": [
       "<IPython.core.display.HTML object>"
      ]
     },
     "metadata": {},
     "output_type": "display_data"
    },
    {
     "data": {
      "text/html": [
       "Run data is saved locally in <code>/kaggle/working/wandb/run-20250519_024545-wshn3ems</code>"
      ],
      "text/plain": [
       "<IPython.core.display.HTML object>"
      ]
     },
     "metadata": {},
     "output_type": "display_data"
    },
    {
     "data": {
      "text/html": [
       "Syncing run <strong><a href='https://wandb.ai/ishita49-indian-institute-of-technology-madras/DA6401%20Assign3/runs/wshn3ems' target=\"_blank\">valiant-sweep-19</a></strong> to <a href='https://wandb.ai/ishita49-indian-institute-of-technology-madras/DA6401%20Assign3' target=\"_blank\">Weights & Biases</a> (<a href='https://wandb.me/developer-guide' target=\"_blank\">docs</a>)<br>Sweep page: <a href='https://wandb.ai/ishita49-indian-institute-of-technology-madras/DA6401%20Assign3/sweeps/2qor0304' target=\"_blank\">https://wandb.ai/ishita49-indian-institute-of-technology-madras/DA6401%20Assign3/sweeps/2qor0304</a>"
      ],
      "text/plain": [
       "<IPython.core.display.HTML object>"
      ]
     },
     "metadata": {},
     "output_type": "display_data"
    },
    {
     "data": {
      "text/html": [
       " View project at <a href='https://wandb.ai/ishita49-indian-institute-of-technology-madras/DA6401%20Assign3' target=\"_blank\">https://wandb.ai/ishita49-indian-institute-of-technology-madras/DA6401%20Assign3</a>"
      ],
      "text/plain": [
       "<IPython.core.display.HTML object>"
      ]
     },
     "metadata": {},
     "output_type": "display_data"
    },
    {
     "data": {
      "text/html": [
       " View sweep at <a href='https://wandb.ai/ishita49-indian-institute-of-technology-madras/DA6401%20Assign3/sweeps/2qor0304' target=\"_blank\">https://wandb.ai/ishita49-indian-institute-of-technology-madras/DA6401%20Assign3/sweeps/2qor0304</a>"
      ],
      "text/plain": [
       "<IPython.core.display.HTML object>"
      ]
     },
     "metadata": {},
     "output_type": "display_data"
    },
    {
     "data": {
      "text/html": [
       " View run at <a href='https://wandb.ai/ishita49-indian-institute-of-technology-madras/DA6401%20Assign3/runs/wshn3ems' target=\"_blank\">https://wandb.ai/ishita49-indian-institute-of-technology-madras/DA6401%20Assign3/runs/wshn3ems</a>"
      ],
      "text/plain": [
       "<IPython.core.display.HTML object>"
      ]
     },
     "metadata": {},
     "output_type": "display_data"
    },
    {
     "name": "stderr",
     "output_type": "stream",
     "text": [
      "Epoch 1/20: 100%|██████████| 87/87 [00:03<00:00, 27.19it/s]\n"
     ]
    },
    {
     "name": "stdout",
     "output_type": "stream",
     "text": [
      "Epoch 1/20 Train Loss: 2.6186\n",
      "Token Accuracy: 0.1540\n",
      "Sequence Accuracy: 0.0000\n"
     ]
    },
    {
     "name": "stderr",
     "output_type": "stream",
     "text": [
      "Epoch 2/20: 100%|██████████| 87/87 [00:03<00:00, 25.88it/s]\n"
     ]
    },
    {
     "name": "stdout",
     "output_type": "stream",
     "text": [
      "Epoch 2/20 Train Loss: 1.9867\n",
      "Token Accuracy: 0.2009\n",
      "Sequence Accuracy: 0.0002\n"
     ]
    },
    {
     "name": "stderr",
     "output_type": "stream",
     "text": [
      "Epoch 3/20: 100%|██████████| 87/87 [00:03<00:00, 27.12it/s]\n"
     ]
    },
    {
     "name": "stdout",
     "output_type": "stream",
     "text": [
      "Epoch 3/20 Train Loss: 1.6450\n",
      "Token Accuracy: 0.2769\n",
      "Sequence Accuracy: 0.0028\n"
     ]
    },
    {
     "name": "stderr",
     "output_type": "stream",
     "text": [
      "Epoch 4/20: 100%|██████████| 87/87 [00:03<00:00, 27.24it/s]\n"
     ]
    },
    {
     "name": "stdout",
     "output_type": "stream",
     "text": [
      "Epoch 4/20 Train Loss: 1.3526\n",
      "Token Accuracy: 0.3679\n",
      "Sequence Accuracy: 0.0174\n"
     ]
    },
    {
     "name": "stderr",
     "output_type": "stream",
     "text": [
      "Epoch 5/20: 100%|██████████| 87/87 [00:03<00:00, 27.35it/s]\n"
     ]
    },
    {
     "name": "stdout",
     "output_type": "stream",
     "text": [
      "Epoch 5/20 Train Loss: 1.1227\n",
      "Token Accuracy: 0.4571\n",
      "Sequence Accuracy: 0.0672\n"
     ]
    },
    {
     "name": "stderr",
     "output_type": "stream",
     "text": [
      "Epoch 6/20: 100%|██████████| 87/87 [00:03<00:00, 27.05it/s]\n"
     ]
    },
    {
     "name": "stdout",
     "output_type": "stream",
     "text": [
      "Epoch 6/20 Train Loss: 0.9437\n",
      "Token Accuracy: 0.5084\n",
      "Sequence Accuracy: 0.1104\n"
     ]
    },
    {
     "name": "stderr",
     "output_type": "stream",
     "text": [
      "Epoch 7/20: 100%|██████████| 87/87 [00:03<00:00, 25.78it/s]\n"
     ]
    },
    {
     "name": "stdout",
     "output_type": "stream",
     "text": [
      "Epoch 7/20 Train Loss: 0.8170\n",
      "Token Accuracy: 0.5592\n",
      "Sequence Accuracy: 0.1634\n"
     ]
    },
    {
     "name": "stderr",
     "output_type": "stream",
     "text": [
      "Epoch 8/20: 100%|██████████| 87/87 [00:03<00:00, 27.25it/s]\n"
     ]
    },
    {
     "name": "stdout",
     "output_type": "stream",
     "text": [
      "Epoch 8/20 Train Loss: 0.7217\n",
      "Token Accuracy: 0.5908\n",
      "Sequence Accuracy: 0.2047\n"
     ]
    },
    {
     "name": "stderr",
     "output_type": "stream",
     "text": [
      "Epoch 9/20: 100%|██████████| 87/87 [00:03<00:00, 27.20it/s]\n"
     ]
    },
    {
     "name": "stdout",
     "output_type": "stream",
     "text": [
      "Epoch 9/20 Train Loss: 0.6571\n",
      "Token Accuracy: 0.6008\n",
      "Sequence Accuracy: 0.2196\n"
     ]
    },
    {
     "name": "stderr",
     "output_type": "stream",
     "text": [
      "Epoch 10/20: 100%|██████████| 87/87 [00:03<00:00, 27.08it/s]\n"
     ]
    },
    {
     "name": "stdout",
     "output_type": "stream",
     "text": [
      "Epoch 10/20 Train Loss: 0.6087\n",
      "Token Accuracy: 0.6152\n",
      "Sequence Accuracy: 0.2396\n"
     ]
    },
    {
     "name": "stderr",
     "output_type": "stream",
     "text": [
      "Epoch 11/20: 100%|██████████| 87/87 [00:03<00:00, 23.06it/s]\n"
     ]
    },
    {
     "name": "stdout",
     "output_type": "stream",
     "text": [
      "Epoch 11/20 Train Loss: 0.5680\n",
      "Token Accuracy: 0.6323\n",
      "Sequence Accuracy: 0.2568\n"
     ]
    },
    {
     "name": "stderr",
     "output_type": "stream",
     "text": [
      "Epoch 12/20: 100%|██████████| 87/87 [00:03<00:00, 26.95it/s]\n"
     ]
    },
    {
     "name": "stdout",
     "output_type": "stream",
     "text": [
      "Epoch 12/20 Train Loss: 0.5335\n",
      "Token Accuracy: 0.6525\n",
      "Sequence Accuracy: 0.2795\n"
     ]
    },
    {
     "name": "stderr",
     "output_type": "stream",
     "text": [
      "Epoch 13/20: 100%|██████████| 87/87 [00:03<00:00, 25.40it/s]\n"
     ]
    },
    {
     "name": "stdout",
     "output_type": "stream",
     "text": [
      "Epoch 13/20 Train Loss: 0.5046\n",
      "Token Accuracy: 0.6638\n",
      "Sequence Accuracy: 0.2923\n"
     ]
    },
    {
     "name": "stderr",
     "output_type": "stream",
     "text": [
      "Epoch 14/20: 100%|██████████| 87/87 [00:03<00:00, 27.11it/s]\n"
     ]
    },
    {
     "name": "stdout",
     "output_type": "stream",
     "text": [
      "Epoch 14/20 Train Loss: 0.4790\n",
      "Token Accuracy: 0.6647\n",
      "Sequence Accuracy: 0.3027\n"
     ]
    },
    {
     "name": "stderr",
     "output_type": "stream",
     "text": [
      "Epoch 15/20: 100%|██████████| 87/87 [00:03<00:00, 26.87it/s]\n"
     ]
    },
    {
     "name": "stdout",
     "output_type": "stream",
     "text": [
      "Epoch 15/20 Train Loss: 0.4603\n",
      "Token Accuracy: 0.6740\n",
      "Sequence Accuracy: 0.3130\n"
     ]
    },
    {
     "name": "stderr",
     "output_type": "stream",
     "text": [
      "Epoch 16/20: 100%|██████████| 87/87 [00:03<00:00, 25.81it/s]\n"
     ]
    },
    {
     "name": "stdout",
     "output_type": "stream",
     "text": [
      "Epoch 16/20 Train Loss: 0.4526\n",
      "Token Accuracy: 0.6732\n",
      "Sequence Accuracy: 0.3201\n"
     ]
    },
    {
     "name": "stderr",
     "output_type": "stream",
     "text": [
      "Epoch 17/20: 100%|██████████| 87/87 [00:03<00:00, 27.05it/s]\n"
     ]
    },
    {
     "name": "stdout",
     "output_type": "stream",
     "text": [
      "Epoch 17/20 Train Loss: 0.4350\n",
      "Token Accuracy: 0.6768\n",
      "Sequence Accuracy: 0.3169\n"
     ]
    },
    {
     "name": "stderr",
     "output_type": "stream",
     "text": [
      "Epoch 18/20: 100%|██████████| 87/87 [00:03<00:00, 27.01it/s]\n"
     ]
    },
    {
     "name": "stdout",
     "output_type": "stream",
     "text": [
      "Epoch 18/20 Train Loss: 0.4210\n",
      "Token Accuracy: 0.6851\n",
      "Sequence Accuracy: 0.3362\n"
     ]
    },
    {
     "name": "stderr",
     "output_type": "stream",
     "text": [
      "Epoch 19/20: 100%|██████████| 87/87 [00:03<00:00, 27.29it/s]\n"
     ]
    },
    {
     "name": "stdout",
     "output_type": "stream",
     "text": [
      "Epoch 19/20 Train Loss: 0.4096\n",
      "Token Accuracy: 0.6891\n",
      "Sequence Accuracy: 0.3414\n"
     ]
    },
    {
     "name": "stderr",
     "output_type": "stream",
     "text": [
      "Epoch 20/20: 100%|██████████| 87/87 [00:03<00:00, 27.48it/s]\n"
     ]
    },
    {
     "name": "stdout",
     "output_type": "stream",
     "text": [
      "Epoch 20/20 Train Loss: 0.3977\n",
      "Token Accuracy: 0.6947\n",
      "Sequence Accuracy: 0.3447\n"
     ]
    },
    {
     "data": {
      "text/html": [],
      "text/plain": [
       "<IPython.core.display.HTML object>"
      ]
     },
     "metadata": {},
     "output_type": "display_data"
    },
    {
     "data": {
      "text/html": [
       "<br>    <style><br>        .wandb-row {<br>            display: flex;<br>            flex-direction: row;<br>            flex-wrap: wrap;<br>            justify-content: flex-start;<br>            width: 100%;<br>        }<br>        .wandb-col {<br>            display: flex;<br>            flex-direction: column;<br>            flex-basis: 100%;<br>            flex: 1;<br>            padding: 10px;<br>        }<br>    </style><br><div class=\"wandb-row\"><div class=\"wandb-col\"><h3>Run history:</h3><br/><table class=\"wandb\"><tr><td>epoch</td><td>▁▁▂▂▂▃▃▄▄▄▅▅▅▆▆▇▇▇██</td></tr><tr><td>sequence_accuracy</td><td>▁▁▁▁▂▃▄▅▅▆▆▇▇▇▇█▇███</td></tr><tr><td>token_accuracy</td><td>▁▂▃▄▅▆▆▇▇▇▇▇████████</td></tr><tr><td>train_loss</td><td>█▆▅▄▃▃▂▂▂▂▂▁▁▁▁▁▁▁▁▁</td></tr></table><br/></div><div class=\"wandb-col\"><h3>Run summary:</h3><br/><table class=\"wandb\"><tr><td>epoch</td><td>20</td></tr><tr><td>sequence_accuracy</td><td>0.34465</td></tr><tr><td>token_accuracy</td><td>0.69465</td></tr><tr><td>train_loss</td><td>0.39775</td></tr></table><br/></div></div>"
      ],
      "text/plain": [
       "<IPython.core.display.HTML object>"
      ]
     },
     "metadata": {},
     "output_type": "display_data"
    },
    {
     "data": {
      "text/html": [
       " View run <strong style=\"color:#cdcd00\">valiant-sweep-19</strong> at: <a href='https://wandb.ai/ishita49-indian-institute-of-technology-madras/DA6401%20Assign3/runs/wshn3ems' target=\"_blank\">https://wandb.ai/ishita49-indian-institute-of-technology-madras/DA6401%20Assign3/runs/wshn3ems</a><br> View project at: <a href='https://wandb.ai/ishita49-indian-institute-of-technology-madras/DA6401%20Assign3' target=\"_blank\">https://wandb.ai/ishita49-indian-institute-of-technology-madras/DA6401%20Assign3</a><br>Synced 5 W&B file(s), 0 media file(s), 0 artifact file(s) and 0 other file(s)"
      ],
      "text/plain": [
       "<IPython.core.display.HTML object>"
      ]
     },
     "metadata": {},
     "output_type": "display_data"
    },
    {
     "data": {
      "text/html": [
       "Find logs at: <code>./wandb/run-20250519_024545-wshn3ems/logs</code>"
      ],
      "text/plain": [
       "<IPython.core.display.HTML object>"
      ]
     },
     "metadata": {},
     "output_type": "display_data"
    },
    {
     "name": "stderr",
     "output_type": "stream",
     "text": [
      "\u001b[34m\u001b[1mwandb\u001b[0m: Agent Starting Run: 6s5ecnvs with config:\n",
      "\u001b[34m\u001b[1mwandb\u001b[0m: \tbatch_size: 128\n",
      "\u001b[34m\u001b[1mwandb\u001b[0m: \tbeam_size: 4\n",
      "\u001b[34m\u001b[1mwandb\u001b[0m: \tcell_type: LSTM\n",
      "\u001b[34m\u001b[1mwandb\u001b[0m: \tdropout: 0.4\n",
      "\u001b[34m\u001b[1mwandb\u001b[0m: \tembed_size: 64\n",
      "\u001b[34m\u001b[1mwandb\u001b[0m: \thidden_size: 64\n",
      "\u001b[34m\u001b[1mwandb\u001b[0m: \tlearning_rate: 0.005\n",
      "\u001b[34m\u001b[1mwandb\u001b[0m: \tnum_decoder_layers: 3\n",
      "\u001b[34m\u001b[1mwandb\u001b[0m: \tnum_encoder_layers: 3\n"
     ]
    },
    {
     "data": {
      "text/html": [
       "Tracking run with wandb version 0.19.9"
      ],
      "text/plain": [
       "<IPython.core.display.HTML object>"
      ]
     },
     "metadata": {},
     "output_type": "display_data"
    },
    {
     "data": {
      "text/html": [
       "Run data is saved locally in <code>/kaggle/working/wandb/run-20250519_031555-6s5ecnvs</code>"
      ],
      "text/plain": [
       "<IPython.core.display.HTML object>"
      ]
     },
     "metadata": {},
     "output_type": "display_data"
    },
    {
     "data": {
      "text/html": [
       "Syncing run <strong><a href='https://wandb.ai/ishita49-indian-institute-of-technology-madras/DA6401%20Assign3/runs/6s5ecnvs' target=\"_blank\">likely-sweep-20</a></strong> to <a href='https://wandb.ai/ishita49-indian-institute-of-technology-madras/DA6401%20Assign3' target=\"_blank\">Weights & Biases</a> (<a href='https://wandb.me/developer-guide' target=\"_blank\">docs</a>)<br>Sweep page: <a href='https://wandb.ai/ishita49-indian-institute-of-technology-madras/DA6401%20Assign3/sweeps/2qor0304' target=\"_blank\">https://wandb.ai/ishita49-indian-institute-of-technology-madras/DA6401%20Assign3/sweeps/2qor0304</a>"
      ],
      "text/plain": [
       "<IPython.core.display.HTML object>"
      ]
     },
     "metadata": {},
     "output_type": "display_data"
    },
    {
     "data": {
      "text/html": [
       " View project at <a href='https://wandb.ai/ishita49-indian-institute-of-technology-madras/DA6401%20Assign3' target=\"_blank\">https://wandb.ai/ishita49-indian-institute-of-technology-madras/DA6401%20Assign3</a>"
      ],
      "text/plain": [
       "<IPython.core.display.HTML object>"
      ]
     },
     "metadata": {},
     "output_type": "display_data"
    },
    {
     "data": {
      "text/html": [
       " View sweep at <a href='https://wandb.ai/ishita49-indian-institute-of-technology-madras/DA6401%20Assign3/sweeps/2qor0304' target=\"_blank\">https://wandb.ai/ishita49-indian-institute-of-technology-madras/DA6401%20Assign3/sweeps/2qor0304</a>"
      ],
      "text/plain": [
       "<IPython.core.display.HTML object>"
      ]
     },
     "metadata": {},
     "output_type": "display_data"
    },
    {
     "data": {
      "text/html": [
       " View run at <a href='https://wandb.ai/ishita49-indian-institute-of-technology-madras/DA6401%20Assign3/runs/6s5ecnvs' target=\"_blank\">https://wandb.ai/ishita49-indian-institute-of-technology-madras/DA6401%20Assign3/runs/6s5ecnvs</a>"
      ],
      "text/plain": [
       "<IPython.core.display.HTML object>"
      ]
     },
     "metadata": {},
     "output_type": "display_data"
    },
    {
     "name": "stderr",
     "output_type": "stream",
     "text": [
      "Epoch 1/20: 100%|██████████| 346/346 [00:12<00:00, 27.28it/s]\n"
     ]
    },
    {
     "name": "stdout",
     "output_type": "stream",
     "text": [
      "Epoch 1/20 Train Loss: 2.3962\n",
      "Token Accuracy: 0.1968\n",
      "Sequence Accuracy: 0.0000\n"
     ]
    },
    {
     "name": "stderr",
     "output_type": "stream",
     "text": [
      "Epoch 2/20: 100%|██████████| 346/346 [00:12<00:00, 27.68it/s]\n"
     ]
    },
    {
     "name": "stdout",
     "output_type": "stream",
     "text": [
      "Epoch 2/20 Train Loss: 1.7843\n",
      "Token Accuracy: 0.3300\n",
      "Sequence Accuracy: 0.0069\n"
     ]
    },
    {
     "name": "stderr",
     "output_type": "stream",
     "text": [
      "Epoch 3/20: 100%|██████████| 346/346 [00:12<00:00, 27.62it/s]\n"
     ]
    },
    {
     "name": "stdout",
     "output_type": "stream",
     "text": [
      "Epoch 3/20 Train Loss: 1.3589\n",
      "Token Accuracy: 0.4440\n",
      "Sequence Accuracy: 0.0422\n"
     ]
    },
    {
     "name": "stderr",
     "output_type": "stream",
     "text": [
      "Epoch 4/20: 100%|██████████| 346/346 [00:12<00:00, 27.38it/s]\n"
     ]
    },
    {
     "name": "stdout",
     "output_type": "stream",
     "text": [
      "Epoch 4/20 Train Loss: 1.0817\n",
      "Token Accuracy: 0.5138\n",
      "Sequence Accuracy: 0.1035\n"
     ]
    },
    {
     "name": "stderr",
     "output_type": "stream",
     "text": [
      "Epoch 5/20: 100%|██████████| 346/346 [00:12<00:00, 27.69it/s]\n"
     ]
    },
    {
     "name": "stdout",
     "output_type": "stream",
     "text": [
      "Epoch 5/20 Train Loss: 0.9193\n",
      "Token Accuracy: 0.5644\n",
      "Sequence Accuracy: 0.1535\n"
     ]
    },
    {
     "name": "stderr",
     "output_type": "stream",
     "text": [
      "Epoch 6/20: 100%|██████████| 346/346 [00:12<00:00, 27.21it/s]\n"
     ]
    },
    {
     "name": "stdout",
     "output_type": "stream",
     "text": [
      "Epoch 6/20 Train Loss: 0.8189\n",
      "Token Accuracy: 0.5878\n",
      "Sequence Accuracy: 0.1831\n"
     ]
    },
    {
     "name": "stderr",
     "output_type": "stream",
     "text": [
      "Epoch 7/20: 100%|██████████| 346/346 [00:12<00:00, 27.69it/s]\n"
     ]
    },
    {
     "name": "stdout",
     "output_type": "stream",
     "text": [
      "Epoch 7/20 Train Loss: 0.7466\n",
      "Token Accuracy: 0.6074\n",
      "Sequence Accuracy: 0.2194\n"
     ]
    },
    {
     "name": "stderr",
     "output_type": "stream",
     "text": [
      "Epoch 8/20: 100%|██████████| 346/346 [00:12<00:00, 27.66it/s]\n"
     ]
    },
    {
     "name": "stdout",
     "output_type": "stream",
     "text": [
      "Epoch 8/20 Train Loss: 0.6940\n",
      "Token Accuracy: 0.6250\n",
      "Sequence Accuracy: 0.2396\n"
     ]
    },
    {
     "name": "stderr",
     "output_type": "stream",
     "text": [
      "Epoch 9/20: 100%|██████████| 346/346 [00:12<00:00, 27.47it/s]\n"
     ]
    },
    {
     "name": "stdout",
     "output_type": "stream",
     "text": [
      "Epoch 9/20 Train Loss: 0.6529\n",
      "Token Accuracy: 0.6399\n",
      "Sequence Accuracy: 0.2529\n"
     ]
    },
    {
     "name": "stderr",
     "output_type": "stream",
     "text": [
      "Epoch 10/20: 100%|██████████| 346/346 [00:12<00:00, 27.72it/s]\n"
     ]
    },
    {
     "name": "stdout",
     "output_type": "stream",
     "text": [
      "Epoch 10/20 Train Loss: 0.6244\n",
      "Token Accuracy: 0.6542\n",
      "Sequence Accuracy: 0.2760\n"
     ]
    },
    {
     "name": "stderr",
     "output_type": "stream",
     "text": [
      "Epoch 11/20: 100%|██████████| 346/346 [00:12<00:00, 27.41it/s]\n"
     ]
    },
    {
     "name": "stdout",
     "output_type": "stream",
     "text": [
      "Epoch 11/20 Train Loss: 0.5904\n",
      "Token Accuracy: 0.6548\n",
      "Sequence Accuracy: 0.2774\n"
     ]
    },
    {
     "name": "stderr",
     "output_type": "stream",
     "text": [
      "Epoch 12/20: 100%|██████████| 346/346 [00:12<00:00, 27.70it/s]\n"
     ]
    },
    {
     "name": "stdout",
     "output_type": "stream",
     "text": [
      "Epoch 12/20 Train Loss: 0.5667\n",
      "Token Accuracy: 0.6588\n",
      "Sequence Accuracy: 0.2841\n"
     ]
    },
    {
     "name": "stderr",
     "output_type": "stream",
     "text": [
      "Epoch 13/20: 100%|██████████| 346/346 [00:12<00:00, 27.67it/s]\n"
     ]
    },
    {
     "name": "stdout",
     "output_type": "stream",
     "text": [
      "Epoch 13/20 Train Loss: 0.5484\n",
      "Token Accuracy: 0.6673\n",
      "Sequence Accuracy: 0.2981\n"
     ]
    },
    {
     "name": "stderr",
     "output_type": "stream",
     "text": [
      "Epoch 14/20: 100%|██████████| 346/346 [00:12<00:00, 27.52it/s]\n"
     ]
    },
    {
     "name": "stdout",
     "output_type": "stream",
     "text": [
      "Epoch 14/20 Train Loss: 0.5385\n",
      "Token Accuracy: 0.6811\n",
      "Sequence Accuracy: 0.3123\n"
     ]
    },
    {
     "name": "stderr",
     "output_type": "stream",
     "text": [
      "Epoch 15/20: 100%|██████████| 346/346 [00:12<00:00, 27.71it/s]\n"
     ]
    },
    {
     "name": "stdout",
     "output_type": "stream",
     "text": [
      "Epoch 15/20 Train Loss: 0.5191\n",
      "Token Accuracy: 0.6731\n",
      "Sequence Accuracy: 0.3073\n"
     ]
    },
    {
     "name": "stderr",
     "output_type": "stream",
     "text": [
      "Epoch 16/20: 100%|██████████| 346/346 [00:12<00:00, 27.02it/s]\n"
     ]
    },
    {
     "name": "stdout",
     "output_type": "stream",
     "text": [
      "Epoch 16/20 Train Loss: 0.5090\n",
      "Token Accuracy: 0.6861\n",
      "Sequence Accuracy: 0.3229\n"
     ]
    },
    {
     "name": "stderr",
     "output_type": "stream",
     "text": [
      "Epoch 17/20: 100%|██████████| 346/346 [00:12<00:00, 27.61it/s]\n"
     ]
    },
    {
     "name": "stdout",
     "output_type": "stream",
     "text": [
      "Epoch 17/20 Train Loss: 0.4997\n",
      "Token Accuracy: 0.6867\n",
      "Sequence Accuracy: 0.3212\n"
     ]
    },
    {
     "name": "stderr",
     "output_type": "stream",
     "text": [
      "Epoch 18/20: 100%|██████████| 346/346 [00:12<00:00, 27.59it/s]\n"
     ]
    },
    {
     "name": "stdout",
     "output_type": "stream",
     "text": [
      "Epoch 18/20 Train Loss: 0.4885\n",
      "Token Accuracy: 0.6878\n",
      "Sequence Accuracy: 0.3313\n"
     ]
    },
    {
     "name": "stderr",
     "output_type": "stream",
     "text": [
      "Epoch 19/20: 100%|██████████| 346/346 [00:12<00:00, 27.35it/s]\n"
     ]
    },
    {
     "name": "stdout",
     "output_type": "stream",
     "text": [
      "Epoch 19/20 Train Loss: 0.4783\n",
      "Token Accuracy: 0.6957\n",
      "Sequence Accuracy: 0.3421\n"
     ]
    },
    {
     "name": "stderr",
     "output_type": "stream",
     "text": [
      "Epoch 20/20: 100%|██████████| 346/346 [00:12<00:00, 27.60it/s]\n"
     ]
    },
    {
     "name": "stdout",
     "output_type": "stream",
     "text": [
      "Epoch 20/20 Train Loss: 0.4691\n",
      "Token Accuracy: 0.7002\n",
      "Sequence Accuracy: 0.3474\n"
     ]
    },
    {
     "data": {
      "text/html": [],
      "text/plain": [
       "<IPython.core.display.HTML object>"
      ]
     },
     "metadata": {},
     "output_type": "display_data"
    },
    {
     "data": {
      "text/html": [
       "<br>    <style><br>        .wandb-row {<br>            display: flex;<br>            flex-direction: row;<br>            flex-wrap: wrap;<br>            justify-content: flex-start;<br>            width: 100%;<br>        }<br>        .wandb-col {<br>            display: flex;<br>            flex-direction: column;<br>            flex-basis: 100%;<br>            flex: 1;<br>            padding: 10px;<br>        }<br>    </style><br><div class=\"wandb-row\"><div class=\"wandb-col\"><h3>Run history:</h3><br/><table class=\"wandb\"><tr><td>epoch</td><td>▁▁▂▂▂▃▃▄▄▄▅▅▅▆▆▇▇▇██</td></tr><tr><td>sequence_accuracy</td><td>▁▁▂▃▄▅▅▆▆▇▇▇▇▇▇█▇███</td></tr><tr><td>token_accuracy</td><td>▁▃▄▅▆▆▇▇▇▇▇▇████████</td></tr><tr><td>train_loss</td><td>█▆▄▃▃▂▂▂▂▂▁▁▁▁▁▁▁▁▁▁</td></tr></table><br/></div><div class=\"wandb-col\"><h3>Run summary:</h3><br/><table class=\"wandb\"><tr><td>epoch</td><td>20</td></tr><tr><td>sequence_accuracy</td><td>0.34741</td></tr><tr><td>token_accuracy</td><td>0.70019</td></tr><tr><td>train_loss</td><td>0.46909</td></tr></table><br/></div></div>"
      ],
      "text/plain": [
       "<IPython.core.display.HTML object>"
      ]
     },
     "metadata": {},
     "output_type": "display_data"
    },
    {
     "data": {
      "text/html": [
       " View run <strong style=\"color:#cdcd00\">likely-sweep-20</strong> at: <a href='https://wandb.ai/ishita49-indian-institute-of-technology-madras/DA6401%20Assign3/runs/6s5ecnvs' target=\"_blank\">https://wandb.ai/ishita49-indian-institute-of-technology-madras/DA6401%20Assign3/runs/6s5ecnvs</a><br> View project at: <a href='https://wandb.ai/ishita49-indian-institute-of-technology-madras/DA6401%20Assign3' target=\"_blank\">https://wandb.ai/ishita49-indian-institute-of-technology-madras/DA6401%20Assign3</a><br>Synced 5 W&B file(s), 0 media file(s), 0 artifact file(s) and 0 other file(s)"
      ],
      "text/plain": [
       "<IPython.core.display.HTML object>"
      ]
     },
     "metadata": {},
     "output_type": "display_data"
    },
    {
     "data": {
      "text/html": [
       "Find logs at: <code>./wandb/run-20250519_031555-6s5ecnvs/logs</code>"
      ],
      "text/plain": [
       "<IPython.core.display.HTML object>"
      ]
     },
     "metadata": {},
     "output_type": "display_data"
    }
   ],
   "source": [
    "sweep_id = wandb.sweep(sweep_config, project=\"DA6401 Assign3\")\n",
    "wandb.agent(sweep_id, function=train, count=20)\n",
    "wandb.finish()"
   ]
  },
  {
   "cell_type": "code",
   "execution_count": 16,
   "metadata": {
    "execution": {
     "iopub.execute_input": "2025-05-19T05:58:54.132142Z",
     "iopub.status.busy": "2025-05-19T05:58:54.131900Z",
     "iopub.status.idle": "2025-05-19T06:24:54.616118Z",
     "shell.execute_reply": "2025-05-19T06:24:54.615449Z",
     "shell.execute_reply.started": "2025-05-19T05:58:54.132125Z"
    },
    "trusted": true
   },
   "outputs": [
    {
     "name": "stderr",
     "output_type": "stream",
     "text": [
      "Epoch 1/20: 100%|██████████| 346/346 [00:11<00:00, 30.09it/s]\n"
     ]
    },
    {
     "name": "stdout",
     "output_type": "stream",
     "text": [
      "Epoch 1/20 Train Loss: 2.4632\n",
      "Token Accuracy: 0.1851\n",
      "Sequence Accuracy: 0.0000\n"
     ]
    },
    {
     "name": "stderr",
     "output_type": "stream",
     "text": [
      "Epoch 2/20: 100%|██████████| 346/346 [00:11<00:00, 29.82it/s]\n"
     ]
    },
    {
     "name": "stdout",
     "output_type": "stream",
     "text": [
      "Epoch 2/20 Train Loss: 1.7781\n",
      "Token Accuracy: 0.3352\n",
      "Sequence Accuracy: 0.0071\n"
     ]
    },
    {
     "name": "stderr",
     "output_type": "stream",
     "text": [
      "Epoch 3/20: 100%|██████████| 346/346 [00:11<00:00, 29.69it/s]\n"
     ]
    },
    {
     "name": "stdout",
     "output_type": "stream",
     "text": [
      "Epoch 3/20 Train Loss: 1.3679\n",
      "Token Accuracy: 0.4372\n",
      "Sequence Accuracy: 0.0379\n"
     ]
    },
    {
     "name": "stderr",
     "output_type": "stream",
     "text": [
      "Epoch 4/20: 100%|██████████| 346/346 [00:11<00:00, 29.83it/s]\n"
     ]
    },
    {
     "name": "stdout",
     "output_type": "stream",
     "text": [
      "Epoch 4/20 Train Loss: 1.1130\n",
      "Token Accuracy: 0.5031\n",
      "Sequence Accuracy: 0.0945\n"
     ]
    },
    {
     "name": "stderr",
     "output_type": "stream",
     "text": [
      "Epoch 5/20: 100%|██████████| 346/346 [00:11<00:00, 29.00it/s]\n"
     ]
    },
    {
     "name": "stdout",
     "output_type": "stream",
     "text": [
      "Epoch 5/20 Train Loss: 0.9587\n",
      "Token Accuracy: 0.5527\n",
      "Sequence Accuracy: 0.1374\n"
     ]
    },
    {
     "name": "stderr",
     "output_type": "stream",
     "text": [
      "Epoch 6/20: 100%|██████████| 346/346 [00:11<00:00, 29.73it/s]\n"
     ]
    },
    {
     "name": "stdout",
     "output_type": "stream",
     "text": [
      "Epoch 6/20 Train Loss: 0.8397\n",
      "Token Accuracy: 0.5839\n",
      "Sequence Accuracy: 0.1827\n"
     ]
    },
    {
     "name": "stderr",
     "output_type": "stream",
     "text": [
      "Epoch 7/20: 100%|██████████| 346/346 [00:11<00:00, 29.54it/s]\n"
     ]
    },
    {
     "name": "stdout",
     "output_type": "stream",
     "text": [
      "Epoch 7/20 Train Loss: 0.7599\n",
      "Token Accuracy: 0.6088\n",
      "Sequence Accuracy: 0.2129\n"
     ]
    },
    {
     "name": "stderr",
     "output_type": "stream",
     "text": [
      "Epoch 8/20: 100%|██████████| 346/346 [00:11<00:00, 29.65it/s]\n"
     ]
    },
    {
     "name": "stdout",
     "output_type": "stream",
     "text": [
      "Epoch 8/20 Train Loss: 0.7014\n",
      "Token Accuracy: 0.6251\n",
      "Sequence Accuracy: 0.2329\n"
     ]
    },
    {
     "name": "stderr",
     "output_type": "stream",
     "text": [
      "Epoch 9/20: 100%|██████████| 346/346 [00:11<00:00, 29.35it/s]\n"
     ]
    },
    {
     "name": "stdout",
     "output_type": "stream",
     "text": [
      "Epoch 9/20 Train Loss: 0.6558\n",
      "Token Accuracy: 0.6215\n",
      "Sequence Accuracy: 0.2377\n"
     ]
    },
    {
     "name": "stderr",
     "output_type": "stream",
     "text": [
      "Epoch 10/20: 100%|██████████| 346/346 [00:11<00:00, 29.69it/s]\n"
     ]
    },
    {
     "name": "stdout",
     "output_type": "stream",
     "text": [
      "Epoch 10/20 Train Loss: 0.6214\n",
      "Token Accuracy: 0.6454\n",
      "Sequence Accuracy: 0.2708\n"
     ]
    },
    {
     "name": "stderr",
     "output_type": "stream",
     "text": [
      "Epoch 11/20: 100%|██████████| 346/346 [00:11<00:00, 29.55it/s]\n"
     ]
    },
    {
     "name": "stdout",
     "output_type": "stream",
     "text": [
      "Epoch 11/20 Train Loss: 0.5930\n",
      "Token Accuracy: 0.6623\n",
      "Sequence Accuracy: 0.2861\n"
     ]
    },
    {
     "name": "stderr",
     "output_type": "stream",
     "text": [
      "Epoch 12/20: 100%|██████████| 346/346 [00:11<00:00, 29.51it/s]\n"
     ]
    },
    {
     "name": "stdout",
     "output_type": "stream",
     "text": [
      "Epoch 12/20 Train Loss: 0.5677\n",
      "Token Accuracy: 0.6696\n",
      "Sequence Accuracy: 0.3001\n"
     ]
    },
    {
     "name": "stderr",
     "output_type": "stream",
     "text": [
      "Epoch 13/20: 100%|██████████| 346/346 [00:11<00:00, 29.47it/s]\n"
     ]
    },
    {
     "name": "stdout",
     "output_type": "stream",
     "text": [
      "Epoch 13/20 Train Loss: 0.5445\n",
      "Token Accuracy: 0.6721\n",
      "Sequence Accuracy: 0.3061\n"
     ]
    },
    {
     "name": "stderr",
     "output_type": "stream",
     "text": [
      "Epoch 14/20: 100%|██████████| 346/346 [00:11<00:00, 29.70it/s]\n"
     ]
    },
    {
     "name": "stdout",
     "output_type": "stream",
     "text": [
      "Epoch 14/20 Train Loss: 0.5339\n",
      "Token Accuracy: 0.6792\n",
      "Sequence Accuracy: 0.3139\n"
     ]
    },
    {
     "name": "stderr",
     "output_type": "stream",
     "text": [
      "Epoch 15/20: 100%|██████████| 346/346 [00:11<00:00, 29.41it/s]\n"
     ]
    },
    {
     "name": "stdout",
     "output_type": "stream",
     "text": [
      "Epoch 15/20 Train Loss: 0.5139\n",
      "Token Accuracy: 0.6819\n",
      "Sequence Accuracy: 0.3242\n"
     ]
    },
    {
     "name": "stderr",
     "output_type": "stream",
     "text": [
      "Epoch 16/20: 100%|██████████| 346/346 [00:11<00:00, 29.72it/s]\n"
     ]
    },
    {
     "name": "stdout",
     "output_type": "stream",
     "text": [
      "Epoch 16/20 Train Loss: 0.4998\n",
      "Token Accuracy: 0.6885\n",
      "Sequence Accuracy: 0.3327\n"
     ]
    },
    {
     "name": "stderr",
     "output_type": "stream",
     "text": [
      "Epoch 17/20: 100%|██████████| 346/346 [00:11<00:00, 29.58it/s]\n"
     ]
    },
    {
     "name": "stdout",
     "output_type": "stream",
     "text": [
      "Epoch 17/20 Train Loss: 0.4880\n",
      "Token Accuracy: 0.6903\n",
      "Sequence Accuracy: 0.3437\n"
     ]
    },
    {
     "name": "stderr",
     "output_type": "stream",
     "text": [
      "Epoch 18/20: 100%|██████████| 346/346 [00:11<00:00, 29.57it/s]\n"
     ]
    },
    {
     "name": "stdout",
     "output_type": "stream",
     "text": [
      "Epoch 18/20 Train Loss: 0.4762\n",
      "Token Accuracy: 0.6977\n",
      "Sequence Accuracy: 0.3465\n"
     ]
    },
    {
     "name": "stderr",
     "output_type": "stream",
     "text": [
      "Epoch 19/20: 100%|██████████| 346/346 [00:11<00:00, 29.80it/s]\n"
     ]
    },
    {
     "name": "stdout",
     "output_type": "stream",
     "text": [
      "Epoch 19/20 Train Loss: 0.4795\n",
      "Token Accuracy: 0.6980\n",
      "Sequence Accuracy: 0.3437\n"
     ]
    },
    {
     "name": "stderr",
     "output_type": "stream",
     "text": [
      "Epoch 20/20: 100%|██████████| 346/346 [00:11<00:00, 29.56it/s]\n"
     ]
    },
    {
     "name": "stdout",
     "output_type": "stream",
     "text": [
      "Epoch 20/20 Train Loss: 0.4595\n",
      "Token Accuracy: 0.7008\n",
      "Sequence Accuracy: 0.3508\n"
     ]
    }
   ],
   "source": [
    "from tqdm import tqdm\n",
    "import torch\n",
    "import torch.nn as nn\n",
    "from torch.utils.data import DataLoader\n",
    "import torch.nn.functional as F\n",
    "\n",
    "filepath_test = \"/kaggle/input/dakshina-dataset-v1-0/dakshina_dataset_v1.0/hi/lexicons/hi.translit.sampled.test.tsv\"\n",
    "pairs_test = load_dakshina_lexicon_pairs(filepath_test)\n",
    "dataset_test = TransliterationDataset(pairs_test, input_char2idx, output_char2idx)\n",
    "dataloader_test = DataLoader(dataset_test, batch_size=1, shuffle=False, collate_fn=collate_fn)\n",
    "\n",
    "filepath_val = \"/kaggle/input/dakshina-dataset-v1-0/dakshina_dataset_v1.0/hi/lexicons/hi.translit.sampled.dev.tsv\"\n",
    "pairs_val = load_dakshina_lexicon_pairs(filepath_val)\n",
    "dataset_val = TransliterationDataset(pairs_val, input_char2idx, output_char2idx)\n",
    "dataloader_val = DataLoader(dataset_val, batch_size=1, shuffle=False, collate_fn=collate_fn)\n",
    "\n",
    "dataset = TransliterationDataset(pairs, input_char2idx, output_char2idx)\n",
    "dataloader = DataLoader(dataset, batch_size=1, shuffle=False, collate_fn=collate_fn)\n",
    "\n",
    "#  Best configuration\n",
    "embed_size=64\n",
    "num_encoder_layers=3\n",
    "num_decoder_layers=3\n",
    "hidden_size=64\n",
    "cell_type='lstm'\n",
    "dropout=0.4\n",
    "batch_size=128\n",
    "learning_rate=0.005\n",
    "beam_size=4\n",
    "device = torch.device(\"cuda\" if torch.cuda.is_available() else \"cpu\")\n",
    "\n",
    "# Initialize encoder and decoder\n",
    "encoder = Encoder(\n",
    "    input_vocab_size=len(input_char2idx),\n",
    "    embed_size=embed_size,\n",
    "    hidden_size=hidden_size,\n",
    "    num_encoder_layers=num_encoder_layers,\n",
    "    cell_type=cell_type,\n",
    "    dropout=dropout\n",
    ").to(device)\n",
    "\n",
    "decoder = Decoder(\n",
    "    output_vocab_size=len(output_char2idx),\n",
    "    embed_size=embed_size,\n",
    "    hidden_size=hidden_size,\n",
    "    num_decoder_layers=num_decoder_layers,\n",
    "    cell_type=cell_type,\n",
    "    dropout=dropout\n",
    ").to(device)\n",
    "\n",
    "encoder_optimizer = torch.optim.Adam(encoder.parameters(), lr=learning_rate, weight_decay=1e-5)\n",
    "decoder_optimizer = torch.optim.Adam(decoder.parameters(), lr=learning_rate, weight_decay=1e-5)\n",
    "criterion = nn.CrossEntropyLoss(ignore_index=output_char2idx['<pad>'])\n",
    "\n",
    "dataloader = DataLoader(dataset, batch_size=batch_size, shuffle=True, collate_fn=collate_fn)\n",
    "\n",
    "num_epochs = 20\n",
    "for epoch in range(num_epochs):\n",
    "    # ======== TRAINING ========\n",
    "    encoder.train()\n",
    "    decoder.train()\n",
    "    total_loss = 0\n",
    "\n",
    "    with tqdm(dataloader, desc=f\"Epoch {epoch+1}/{num_epochs}\") as pbar:\n",
    "        for input_tensor, input_lengths, target_tensor, target_lengths in pbar:\n",
    "            input_tensor = input_tensor.to(device)\n",
    "            target_tensor = target_tensor.to(device)\n",
    "\n",
    "            encoder_optimizer.zero_grad()\n",
    "            decoder_optimizer.zero_grad()\n",
    "\n",
    "            encoder_outputs, encoder_hidden = encoder(input_tensor, input_lengths)\n",
    "            decoder_input = target_tensor[:, 0].unsqueeze(1)  # <sos>\n",
    "            decoder_hidden = encoder_hidden\n",
    "\n",
    "            loss = 0\n",
    "            max_target_len = target_tensor.size(1)\n",
    "\n",
    "            for t in range(1, max_target_len):\n",
    "                decoder_output, decoder_hidden = decoder(decoder_input, decoder_hidden)\n",
    "                output = decoder_output.squeeze(1)\n",
    "                # print(f'output = {output}')\n",
    "                # print(f'target tensor = {target_tensor[:,t]}')\n",
    "                loss += criterion(output, target_tensor[:, t])\n",
    "                decoder_input = target_tensor[:, t].unsqueeze(1)  # Teacher forcing\n",
    "\n",
    "            loss.backward()\n",
    "            torch.nn.utils.clip_grad_norm_(encoder.parameters(), max_norm=1.0)\n",
    "            torch.nn.utils.clip_grad_norm_(decoder.parameters(), max_norm=1.0)\n",
    "\n",
    "            encoder_optimizer.step()\n",
    "            decoder_optimizer.step()\n",
    "\n",
    "            total_loss += loss.item() / (max_target_len - 1)\n",
    "\n",
    "    avg_loss = total_loss / len(dataloader)\n",
    "    print(f\"Epoch {epoch+1}/{num_epochs} Train Loss: {avg_loss:.4f}\")\n",
    "\n",
    "    # ======== VALIDATION ========\n",
    "    encoder.eval()\n",
    "    decoder.eval()\n",
    "    correct_sequences = 0\n",
    "    total_sequences = 0\n",
    "    correct_tokens = 0\n",
    "    total_tokens = 0\n",
    "    beam_width = beam_size  # You can change this\n",
    "    with torch.no_grad():\n",
    "        for input_tensor, input_lengths, target_tensor, target_lengths in dataloader_val:\n",
    "            input_tensor = input_tensor.to(device)\n",
    "            target_tensor = target_tensor.to(device)\n",
    "    \n",
    "            encoder_outputs, encoder_hidden = encoder(input_tensor, input_lengths)\n",
    "            max_target_len = target_tensor.size(1)\n",
    "            total_sequences += 1\n",
    "    \n",
    "            # Beam is a list of tuples: (sequence_so_far, cumulative_log_prob, decoder_hidden)\n",
    "            beam = [([output_char2idx['<sos>']], 0.0, encoder_hidden)]\n",
    "    \n",
    "            completed_sequences = []\n",
    "    \n",
    "            for _ in range(1, max_target_len):\n",
    "                new_beam = []\n",
    "                for seq, score, hidden in beam:\n",
    "                    decoder_input = torch.tensor([[seq[-1]]], device=device)\n",
    "                    decoder_output, hidden_next = decoder(decoder_input, hidden)\n",
    "                    log_probs = F.log_softmax(decoder_output.squeeze(1), dim=1)\n",
    "    \n",
    "                    topk_log_probs, topk_indices = log_probs.topk(beam_width)\n",
    "    \n",
    "                    for k in range(beam_width):\n",
    "                        next_token = topk_indices[0][k].item()\n",
    "                        next_score = score + topk_log_probs[0][k].item()\n",
    "                        new_seq = seq + [next_token]\n",
    "                        new_beam.append((new_seq, next_score, hidden_next))\n",
    "    \n",
    "                # Keep top `beam_width` beams with highest scores\n",
    "                beam = sorted(new_beam, key=lambda x: x[1], reverse=True)[:beam_width]\n",
    "    \n",
    "                # Move completed sequences out\n",
    "                beam, completed = [], []\n",
    "                for seq, score, hidden in new_beam:\n",
    "                    if seq[-1] == output_char2idx['<eos>']:\n",
    "                        completed_sequences.append((seq, score))\n",
    "                    else:\n",
    "                        beam.append((seq, score, hidden))\n",
    "                beam = sorted(beam, key=lambda x: x[1], reverse=True)[:beam_width]\n",
    "    \n",
    "            # Choose best completed or best incomplete beam\n",
    "            if completed_sequences:\n",
    "                best_seq = max(completed_sequences, key=lambda x: x[1])[0]\n",
    "            else:\n",
    "                best_seq = max(beam, key=lambda x: x[1])[0]\n",
    "    \n",
    "            # Remove <sos> if present\n",
    "            if best_seq[0] == output_char2idx['<sos>']:\n",
    "                best_seq = best_seq[1:]\n",
    "    \n",
    "            # Compare prediction with target\n",
    "            target_seq = target_tensor[0, 1:].tolist()\n",
    "            pad_idx = output_char2idx['<pad>']\n",
    "    \n",
    "            # Token accuracy\n",
    "            for pred_token, tgt_token in zip(best_seq, target_seq):\n",
    "                if tgt_token == pad_idx:\n",
    "                    break\n",
    "                if pred_token == tgt_token:\n",
    "                    correct_tokens += 1\n",
    "                total_tokens += 1\n",
    "    \n",
    "            # Sequence accuracy\n",
    "            target_trimmed = [t for t in target_seq if t != pad_idx]\n",
    "            best_seq_trimmed = best_seq[:len(target_trimmed)]\n",
    "            if best_seq_trimmed == target_trimmed:\n",
    "                correct_sequences += 1\n",
    "    \n",
    "            # Optional print\n",
    "            # predicted_word = indices_to_words([best_seq], output_idx2char)[0]\n",
    "            # actual_word = indices_to_words([target_trimmed], output_idx2char)[0]\n",
    "            # # print(f\"Predicted: {predicted_word.ljust(20)} | Actual: {actual_word}\")\n",
    "    \n",
    "    sequence_accuracy = correct_sequences / total_sequences if total_sequences > 0 else 0\n",
    "    token_accuracy = correct_tokens / total_tokens if total_tokens > 0 else 0\n",
    "    \n",
    "    print(f\"Token Accuracy: {token_accuracy:.4f}\")\n",
    "    print(f\"Sequence Accuracy: {sequence_accuracy:.4f}\")"
   ]
  },
  {
   "cell_type": "code",
   "execution_count": 28,
   "metadata": {
    "execution": {
     "iopub.execute_input": "2025-05-19T06:48:33.752754Z",
     "iopub.status.busy": "2025-05-19T06:48:33.752021Z",
     "iopub.status.idle": "2025-05-19T06:49:42.047851Z",
     "shell.execute_reply": "2025-05-19T06:49:42.047092Z",
     "shell.execute_reply.started": "2025-05-19T06:48:33.752725Z"
    },
    "trusted": true
   },
   "outputs": [
    {
     "name": "stdout",
     "output_type": "stream",
     "text": [
      "Test:\n",
      "Token Accuracy: 0.7133\n",
      "Sequence Accuracy: 0.3541\n"
     ]
    }
   ],
   "source": [
    "# ======== TEST ========\n",
    "encoder.eval()\n",
    "decoder.eval()\n",
    "correct_sequences = 0\n",
    "total_sequences = 0\n",
    "correct_tokens = 0\n",
    "total_tokens = 0\n",
    "beam_width = beam_size  # You can change this\n",
    "result=[]\n",
    "with torch.no_grad():\n",
    "    for input_tensor, input_lengths, target_tensor, target_lengths in dataloader_test:\n",
    "        input_tensor = input_tensor.to(device)\n",
    "        target_tensor = target_tensor.to(device)\n",
    "\n",
    "        encoder_outputs, encoder_hidden = encoder(input_tensor, input_lengths)\n",
    "        max_target_len = target_tensor.size(1)\n",
    "        total_sequences += 1\n",
    "\n",
    "        # Beam is a list of tuples: (sequence_so_far, cumulative_log_prob, decoder_hidden)\n",
    "        beam = [([output_char2idx['<sos>']], 0.0, encoder_hidden)]\n",
    "\n",
    "        completed_sequences = []\n",
    "\n",
    "        for _ in range(1, max_target_len):\n",
    "            new_beam = []\n",
    "            for seq, score, hidden in beam:\n",
    "                decoder_input = torch.tensor([[seq[-1]]], device=device)\n",
    "                decoder_output, hidden_next = decoder(decoder_input, hidden)\n",
    "                log_probs = F.log_softmax(decoder_output.squeeze(1), dim=1)\n",
    "\n",
    "                topk_log_probs, topk_indices = log_probs.topk(beam_width)\n",
    "\n",
    "                for k in range(beam_width):\n",
    "                    next_token = topk_indices[0][k].item()\n",
    "                    next_score = score + topk_log_probs[0][k].item()\n",
    "                    new_seq = seq + [next_token]\n",
    "                    new_beam.append((new_seq, next_score, hidden_next))\n",
    "\n",
    "            # Keep top `beam_width` beams with highest scores\n",
    "            beam = sorted(new_beam, key=lambda x: x[1], reverse=True)[:beam_width]\n",
    "\n",
    "            # Move completed sequences out\n",
    "            beam, completed = [], []\n",
    "            for seq, score, hidden in new_beam:\n",
    "                if seq[-1] == output_char2idx['<eos>']:\n",
    "                    completed_sequences.append((seq, score))\n",
    "                else:\n",
    "                    beam.append((seq, score, hidden))\n",
    "            beam = sorted(beam, key=lambda x: x[1], reverse=True)[:beam_width]\n",
    "\n",
    "        # Choose best completed or best incomplete beam\n",
    "        if completed_sequences:\n",
    "            best_seq = max(completed_sequences, key=lambda x: x[1])[0]\n",
    "        else:\n",
    "            best_seq = max(beam, key=lambda x: x[1])[0]\n",
    "\n",
    "        # Remove <sos> if present\n",
    "        if best_seq[0] == output_char2idx['<sos>']:\n",
    "            best_seq = best_seq[1:]\n",
    "        \n",
    "        # Compare prediction with target\n",
    "        target_seq = target_tensor[0, 1:].tolist()\n",
    "        pad_idx = output_char2idx['<pad>']\n",
    "\n",
    "        # Token accuracy\n",
    "        for pred_token, tgt_token in zip(best_seq, target_seq):\n",
    "            if tgt_token == pad_idx:\n",
    "                break\n",
    "            if pred_token == tgt_token:\n",
    "                correct_tokens += 1\n",
    "            total_tokens += 1\n",
    "\n",
    "        # Sequence accuracy\n",
    "        target_trimmed = [t for t in target_seq if t != pad_idx]\n",
    "        best_seq_trimmed = best_seq[:len(target_trimmed)]\n",
    "        if best_seq_trimmed == target_trimmed:\n",
    "            correct_sequences += 1\n",
    "        \n",
    "        if best_seq[-1] == output_char2idx['<eos>']:\n",
    "            best_seq = best_seq[:best_seq.index(output_char2idx['<eos>'])]\n",
    "        predicted_word=''.join(output_idx2char[i] for i in best_seq)\n",
    "        target_seq = target_tensor.tolist() if hasattr(target_tensor, 'tolist') else target_tensor\n",
    "        if isinstance(target_seq[0], list):\n",
    "            target_seq = target_seq[0]\n",
    "        # Remove <sos> and truncate at <eos> if present\n",
    "        if target_seq[0] == output_char2idx['<sos>']:\n",
    "            target_seq = target_seq[1:]\n",
    "        if output_char2idx.get('<eos>') in target_seq:\n",
    "            target_seq = target_seq[:target_seq.index(output_char2idx['<eos>'])]\n",
    "        \n",
    "        target_word = ''.join(output_idx2char[i] for i in target_seq)\n",
    "        \n",
    "        input_seq = input_tensor.tolist() if hasattr(input_tensor, 'tolist') else input_tensor\n",
    "        if isinstance(input_seq[0], list):\n",
    "            input_seq = input_seq[0]\n",
    "\n",
    "        if input_seq[0] == input_char2idx['<sos>']:\n",
    "            input_seq = input_seq[1:]\n",
    "        if input_char2idx.get('<eos>') in input_seq:\n",
    "            input_seq = input_seq[:input_seq.index(input_char2idx['<eos>'])]\n",
    "        input_word = ''.join(input_idx2char[i] for i in input_seq)\n",
    "\n",
    "        result.append((input_word, predicted_word, target_word))\n",
    "        # Optional print\n",
    "        # predicted_word = indices_to_words([best_seq], output_idx2char)[0]\n",
    "        # actual_word = indices_to_words([target_trimmed], output_idx2char)[0]\n",
    "        # # print(f\"Predicted: {predicted_word.ljust(20)} | Actual: {actual_word}\")\n",
    "\n",
    "sequence_accuracy = correct_sequences / total_sequences if total_sequences > 0 else 0\n",
    "token_accuracy = correct_tokens / total_tokens if total_tokens > 0 else 0\n",
    "print(\"Test:\")\n",
    "print(f\"Token Accuracy: {token_accuracy:.4f}\")\n",
    "print(f\"Sequence Accuracy: {sequence_accuracy:.4f}\")"
   ]
  },
  {
   "cell_type": "code",
   "execution_count": 29,
   "metadata": {
    "execution": {
     "iopub.execute_input": "2025-05-19T06:49:46.469195Z",
     "iopub.status.busy": "2025-05-19T06:49:46.468940Z",
     "iopub.status.idle": "2025-05-19T06:49:46.473166Z",
     "shell.execute_reply": "2025-05-19T06:49:46.472623Z",
     "shell.execute_reply.started": "2025-05-19T06:49:46.469176Z"
    },
    "trusted": true
   },
   "outputs": [
    {
     "name": "stdout",
     "output_type": "stream",
     "text": [
      "('ank', 'एनक', 'अंक')\n"
     ]
    }
   ],
   "source": [
    "print(result[0])"
   ]
  },
  {
   "cell_type": "code",
   "execution_count": 30,
   "metadata": {
    "execution": {
     "iopub.execute_input": "2025-05-19T06:49:50.384932Z",
     "iopub.status.busy": "2025-05-19T06:49:50.384228Z",
     "iopub.status.idle": "2025-05-19T06:49:50.395637Z",
     "shell.execute_reply": "2025-05-19T06:49:50.395031Z",
     "shell.execute_reply.started": "2025-05-19T06:49:50.384908Z"
    },
    "trusted": true
   },
   "outputs": [],
   "source": [
    "import csv\n",
    "\n",
    "with open('predictions_vanilla.csv', 'w', newline='', encoding='utf-8') as f:\n",
    "    writer = csv.writer(f)\n",
    "    writer.writerow(['Input', 'Predicted', 'Target'])  # Header\n",
    "    for t, pred, target in result:\n",
    "        writer.writerow([t, pred, target])"
   ]
  }
 ],
 "metadata": {
  "kaggle": {
   "accelerator": "none",
   "dataSources": [
    {
     "datasetId": 7436663,
     "sourceId": 11836867,
     "sourceType": "datasetVersion"
    }
   ],
   "dockerImageVersionId": 31040,
   "isGpuEnabled": false,
   "isInternetEnabled": true,
   "language": "python",
   "sourceType": "notebook"
  },
  "kernelspec": {
   "display_name": "Python 3",
   "language": "python",
   "name": "python3"
  },
  "language_info": {
   "codemirror_mode": {
    "name": "ipython",
    "version": 3
   },
   "file_extension": ".py",
   "mimetype": "text/x-python",
   "name": "python",
   "nbconvert_exporter": "python",
   "pygments_lexer": "ipython3",
   "version": "3.11.11"
  }
 },
 "nbformat": 4,
 "nbformat_minor": 4
}
